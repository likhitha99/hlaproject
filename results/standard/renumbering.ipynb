{
 "cells": [
  {
   "cell_type": "code",
   "execution_count": 8,
   "id": "07e31f93",
   "metadata": {},
   "outputs": [],
   "source": [
    "import os\n",
    "tools =[\"optitype\",\"rna2hla\",\"arcas\",\"seq2hla\",\"hlahd\",\"phlat\",\"hlaforest\",\"hlavbseq\",'hlaminer']\n",
    "\n",
    "for tool in tools:\n",
    "    os.rename(f'{tool}_d4-Copy1.csv',f'{tool}_d4.csv')"
   ]
  }
 ],
 "metadata": {
  "kernelspec": {
   "display_name": "Python 3 (ipykernel)",
   "language": "python",
   "name": "python3"
  },
  "language_info": {
   "codemirror_mode": {
    "name": "ipython",
    "version": 3
   },
   "file_extension": ".py",
   "mimetype": "text/x-python",
   "name": "python",
   "nbconvert_exporter": "python",
   "pygments_lexer": "ipython3",
   "version": "3.9.12"
  }
 },
 "nbformat": 4,
 "nbformat_minor": 5
}
