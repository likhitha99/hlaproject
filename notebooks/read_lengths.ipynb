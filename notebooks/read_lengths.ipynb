{
 "cells": [
  {
   "cell_type": "code",
   "execution_count": 22,
   "metadata": {
    "colab": {
     "base_uri": "https://localhost:8080/"
    },
    "id": "lU0-RdTWWNC1",
    "outputId": "42417289-0d24-4946-b1f8-16df6c385853"
   },
   "outputs": [],
   "source": [
    "import tarfile\n",
    "import numpy as np\n",
    "import pandas as pd\n",
    "import matplotlib.pyplot as plt\n",
    "from sys import ps2\n",
    "from utils import *"
   ]
  },
  {
   "cell_type": "markdown",
   "metadata": {
    "id": "LGChCDCXYgAF"
   },
   "source": [
    "# Create accuracy dataframe"
   ]
  },
  {
   "cell_type": "code",
   "execution_count": 23,
   "metadata": {
    "id": "cx_-h-piYKRV"
   },
   "outputs": [
    {
     "name": "stdout",
     "output_type": "stream",
     "text": [
      "[['optitype', 36, 1.0, 1.0], ['optitype', 51, 1.0, 1.0], ['optitype', 76, 1.0, 1.0], ['arcas', 36, 0.9736842105263158, 0.7894736842105263], ['arcas', 51, 0.9523809523809523, 0.9047619047619048], ['arcas', 76, 0.98, 0.96], ['phlat', 36, 0.86, 0.62], ['phlat', 51, 0.8260869565217391, 0.7608695652173914], ['phlat', 76, 0.8846153846153847, 0.8653846153846154], ['rna2hla', 36, 0.7727272727272727, 0.6590909090909091], ['rna2hla', 51, 0.8571428571428571, 0.7857142857142857], ['rna2hla', 76, 0.8478260869565217, 0.8043478260869565], ['seq2hla', 36, 0.78, 0.54], ['seq2hla', 51, 0.86, 0.72], ['seq2hla', 76, 0.8518518518518519, 0.7222222222222222], ['hlaforest', 36, 0.6538461538461539, 0.5576923076923077], ['hlaforest', 51, 0.74, 0.58], ['hlaforest', 76, 0.76, 0.66], ['hlaminer', 36, 0.3333333333333333, 0.3333333333333333], ['hlaminer', 51, 0.16666666666666666, 0.0], ['hlaminer', 76, 0.6666666666666667, 0.25]]\n"
     ]
    }
   ],
   "source": [
    "rls = [36,51,76]\n",
    "tools = ['optitype','arcas','phlat','rna2hla','seq2hla','hlaforest','hlaminer']#hlaminer, hlahd missing ERR results; vbseq missing ALL results\n",
    "gs = pd.read_csv('../datasets/readlength_gs.csv')\n",
    "\n",
    "data = []\n",
    "\n",
    "for tool in tools:\n",
    "    for rl in rls:\n",
    "        filepath = f'../results/read_length/standard/{tool}_{str(rl)}.csv'\n",
    "\n",
    "        pre = pd.read_csv(filepath)\n",
    "        ret = np.array(compute_matches(pre,gs))\n",
    "        total = sum(sum(ret))\n",
    "        # add \n",
    "        data.append([tool,rl,sum(ret[1])/total+sum(ret[2])/total,sum(ret[2])/total] ) # not considering classes (not enough data).. so sum it\n",
    "    \n",
    "print(data)"
   ]
  },
  {
   "cell_type": "code",
   "execution_count": 48,
   "metadata": {},
   "outputs": [],
   "source": [
    "# get means\n",
    "short2, med2, long2 = 0,0,0\n",
    "short4, med4, long4 = 0,0,0\n",
    "\n",
    "tot = 7 # change to total # tools\n",
    "\n",
    "\n",
    "for d in data:\n",
    "    if d[1] == 36:\n",
    "        short2 += d[2]/tot\n",
    "        short4 += d[3]/tot\n",
    "    if d[1] == 51:\n",
    "        med2 += d[2]/tot\n",
    "        med4 += d[3]/tot\n",
    "    if d[1] == 76:\n",
    "        long2 += d[2]/tot\n",
    "        long4 += d[3]/tot"
   ]
  },
  {
   "cell_type": "code",
   "execution_count": 34,
   "metadata": {},
   "outputs": [
    {
     "name": "stdout",
     "output_type": "stream",
     "text": [
      "         tool  read length  two dig accuracy  four dig accuracy\n",
      "0    optitype           36          1.000000           1.000000\n",
      "1    optitype           51          1.000000           1.000000\n",
      "2    optitype           76          1.000000           1.000000\n",
      "3       arcas           36          0.973684           0.789474\n",
      "4       arcas           51          0.952381           0.904762\n",
      "5       arcas           76          0.980000           0.960000\n",
      "6       phlat           36          0.860000           0.620000\n",
      "7       phlat           51          0.826087           0.760870\n",
      "8       phlat           76          0.884615           0.865385\n",
      "9     rna2hla           36          0.772727           0.659091\n",
      "10    rna2hla           51          0.857143           0.785714\n",
      "11    rna2hla           76          0.847826           0.804348\n",
      "12    seq2hla           36          0.780000           0.540000\n",
      "13    seq2hla           51          0.860000           0.720000\n",
      "14    seq2hla           76          0.851852           0.722222\n",
      "15  hlaforest           36          0.653846           0.557692\n",
      "16  hlaforest           51          0.740000           0.580000\n",
      "17  hlaforest           76          0.760000           0.660000\n",
      "18   hlaminer           36          0.333333           0.333333\n",
      "19   hlaminer           51          0.166667           0.000000\n",
      "20   hlaminer           76          0.666667           0.250000\n"
     ]
    }
   ],
   "source": [
    "df = pd.DataFrame(data,columns=['tool','read length','two dig accuracy','four dig accuracy'])\n",
    "print(df)\n"
   ]
  },
  {
   "cell_type": "markdown",
   "metadata": {
    "id": "KyvSP2SxY7wz"
   },
   "source": [
    "# Plot"
   ]
  },
  {
   "cell_type": "code",
   "execution_count": 35,
   "metadata": {},
   "outputs": [],
   "source": [
    "import seaborn as sns\n",
    "import matplotlib.pyplot as plt"
   ]
  },
  {
   "cell_type": "code",
   "execution_count": 36,
   "metadata": {},
   "outputs": [],
   "source": [
    "tool_names=tools"
   ]
  },
  {
   "cell_type": "code",
   "execution_count": 49,
   "metadata": {},
   "outputs": [
    {
     "data": {
      "text/plain": [
       "(0.0, 1.0)"
      ]
     },
     "execution_count": 49,
     "metadata": {},
     "output_type": "execute_result"
    },
    {
     "data": {
      "image/png": "[encoded data removed]",
      "text/plain": [
       "<Figure size 720x576 with 1 Axes>"
      ]
     },
     "metadata": {
      "needs_background": "light"
     },
     "output_type": "display_data"
    }
   ],
   "source": [
    "plt.figure(figsize=(10,8))\n",
    "\n",
    "sns.set_context(\"paper\")\n",
    "sns.color_palette(\"pastel\")\n",
    "ax=sns.barplot(x = \"tool\", y = \"two dig accuracy\", data=df,hue=\"read length\")\n",
    "ax.set_ylabel(\"Accuracy\")\n",
    "ax.set_xlabel(\"Read Length\")\n",
    "ax.set_title(\"Accuracy against Read Length for Two Digit Resolution\") \n",
    "\n",
    "plt.axhline(y=short2, color='b', linestyle='-')\n",
    "plt.axhline(y=med2, color='orange', linestyle='-')\n",
    "plt.axhline(y=long2, color='g', linestyle='-')\n",
    "\n",
    "#plt.legend(labels=tool_names,bbox_to_anchor=(1.05, 1), loc=2, borderaxespad=0.)\n",
    "plt.ylim((0,1))\n",
    "#sns.despine()\n",
    "#plt.savefig('../Figures/read_length_accuracy_2dig.png',bbox_inches =\"tight\",dpi=300)"
   ]
  },
  {
   "cell_type": "code",
   "execution_count": 50,
   "metadata": {},
   "outputs": [
    {
     "data": {
      "text/plain": [
       "(0.0, 1.0)"
      ]
     },
     "execution_count": 50,
     "metadata": {},
     "output_type": "execute_result"
    },
    {
     "data": {
      "image/png": "[encoded data removed]",
      "text/plain": [
       "<Figure size 720x576 with 1 Axes>"
      ]
     },
     "metadata": {
      "needs_background": "light"
     },
     "output_type": "display_data"
    }
   ],
   "source": [
    "plt.figure(figsize=(10,8))\n",
    "sns.set_context(\"paper\")\n",
    "sns.color_palette(\"pastel\")\n",
    "ax=sns.barplot(x = \"tool\", y = \"four dig accuracy\", data=df,hue=\"read length\")\n",
    "ax.set_ylabel(\"Accuracy\")\n",
    "ax.set_xlabel(\"Read Length\")\n",
    "ax.set_title(\"Accuracy (%) against Read Length (bp) for Four Digit Resolution\") \n",
    "\n",
    "# annotate mean lines\n",
    "plt.axhline(y=short4, color='b', linestyle='-')\n",
    "plt.axhline(y=med4, color='orange', linestyle='-')\n",
    "plt.axhline(y=long4, color='g', linestyle='-')\n",
    "\n",
    "\n",
    "#plt.legend(labels=tool_names,bbox_to_anchor=(1.05, 1), loc=2, borderaxespad=0.)\n",
    "plt.ylim((0,1))\n",
    "#sns.despine()\n",
    "#plt.savefig('../Figures/read_length_accuracy_4dig.png',bbox_inches =\"tight\",dpi=300)"
   ]
  }
 ],
 "metadata": {
  "colab": {
   "collapsed_sections": [
    "W8-xvx1rYC48",
    "LGChCDCXYgAF",
    "KyvSP2SxY7wz"
   ],
   "provenance": []
  },
  "kernelspec": {
   "display_name": "Python 3 (ipykernel)",
   "language": "python",
   "name": "python3"
  },
  "language_info": {
   "codemirror_mode": {
    "name": "ipython",
    "version": 3
   },
   "file_extension": ".py",
   "mimetype": "text/x-python",
   "name": "python",
   "nbconvert_exporter": "python",
   "pygments_lexer": "ipython3",
   "version": "3.9.12"
  },
  "vscode": {
   "interpreter": {
    "hash": "a5887580c7cbb0fe8c117cf89484cb0db59155905523768f16ba2f70bd8e79c7"
   }
  }
 },
 "nbformat": 4,
 "nbformat_minor": 1
}
