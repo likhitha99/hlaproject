{
  "cells": [
    {
      "cell_type": "code",
      "execution_count": 5,
      "metadata": {
        "id": "aoQGZ68OeJ1X"
      },
      "outputs": [],
      "source": [
        "%matplotlib inline\n",
        "import numpy as np\n",
        "import pandas as pd\n",
        "import matplotlib.pyplot as plt\n",
        "import seaborn as sns"
      ]
    },
    {
      "cell_type": "code",
      "execution_count": 6,
      "metadata": {
        "id": "KwuircA6eW81"
      },
      "outputs": [],
      "source": [
        "cpu=pd.read_csv('../results/cpu/work_time.csv')\n",
        "memory=pd.read_csv('../results/memory/work_memory.csv')"
      ]
    },
    {
      "cell_type": "markdown",
      "metadata": {
        "id": "gZ5JVYobey3K"
      },
      "source": [
        "# CPU"
      ]
    },
    {
      "cell_type": "code",
      "execution_count": 7,
      "metadata": {
        "id": "HLrRUfUdfr8L"
      },
      "outputs": [],
      "source": [
        "cpu = cpu.iloc[: , 1:]"
      ]
    },
    {
      "cell_type": "code",
      "execution_count": 8,
      "metadata": {
        "id": "NJgT7xA_hjsf"
      },
      "outputs": [],
      "source": [
        "cpu=cpu.melt()\n",
        "cpu.rename(columns = {\"variable\": \"Callers\",\"value\":\"CPU Time\"}, \n",
        "          inplace = True)"
      ]
    },
    {
      "cell_type": "code",
      "execution_count": 9,
      "metadata": {
        "colab": {
          "base_uri": "https://localhost:8080/",
          "height": 1000
        },
        "id": "U3nhfZttgKXm",
        "outputId": "98d98b0f-d4f8-462e-dc94-482d18ff9d77"
      },
      "outputs": [
        {
          "data": {
            "text/html": [
              "<div>\n",
              "<style scoped>\n",
              "    .dataframe tbody tr th:only-of-type {\n",
              "        vertical-align: middle;\n",
              "    }\n",
              "\n",
              "    .dataframe tbody tr th {\n",
              "        vertical-align: top;\n",
              "    }\n",
              "\n",
              "    .dataframe thead th {\n",
              "        text-align: right;\n",
              "    }\n",
              "</style>\n",
              "<table border=\"1\" class=\"dataframe\">\n",
              "  <thead>\n",
              "    <tr style=\"text-align: right;\">\n",
              "      <th></th>\n",
              "      <th>Callers</th>\n",
              "      <th>CPU Time</th>\n",
              "    </tr>\n",
              "  </thead>\n",
              "  <tbody>\n",
              "    <tr>\n",
              "      <th>0</th>\n",
              "      <td>arcasHLA</td>\n",
              "      <td>279.18</td>\n",
              "    </tr>\n",
              "    <tr>\n",
              "      <th>1</th>\n",
              "      <td>arcasHLA</td>\n",
              "      <td>167.47</td>\n",
              "    </tr>\n",
              "    <tr>\n",
              "      <th>2</th>\n",
              "      <td>arcasHLA</td>\n",
              "      <td>401.41</td>\n",
              "    </tr>\n",
              "    <tr>\n",
              "      <th>3</th>\n",
              "      <td>arcasHLA</td>\n",
              "      <td>94.42</td>\n",
              "    </tr>\n",
              "    <tr>\n",
              "      <th>4</th>\n",
              "      <td>arcasHLA</td>\n",
              "      <td>690.39</td>\n",
              "    </tr>\n",
              "    <tr>\n",
              "      <th>5</th>\n",
              "      <td>arcasHLA</td>\n",
              "      <td>166.93</td>\n",
              "    </tr>\n",
              "    <tr>\n",
              "      <th>6</th>\n",
              "      <td>arcasHLA</td>\n",
              "      <td>224.68</td>\n",
              "    </tr>\n",
              "    <tr>\n",
              "      <th>7</th>\n",
              "      <td>arcasHLA</td>\n",
              "      <td>269.69</td>\n",
              "    </tr>\n",
              "    <tr>\n",
              "      <th>8</th>\n",
              "      <td>arcasHLA</td>\n",
              "      <td>201.60</td>\n",
              "    </tr>\n",
              "    <tr>\n",
              "      <th>9</th>\n",
              "      <td>arcasHLA</td>\n",
              "      <td>303.81</td>\n",
              "    </tr>\n",
              "    <tr>\n",
              "      <th>10</th>\n",
              "      <td>HLAforest</td>\n",
              "      <td>1765.37</td>\n",
              "    </tr>\n",
              "    <tr>\n",
              "      <th>11</th>\n",
              "      <td>HLAforest</td>\n",
              "      <td>683.57</td>\n",
              "    </tr>\n",
              "    <tr>\n",
              "      <th>12</th>\n",
              "      <td>HLAforest</td>\n",
              "      <td>1997.34</td>\n",
              "    </tr>\n",
              "    <tr>\n",
              "      <th>13</th>\n",
              "      <td>HLAforest</td>\n",
              "      <td>954.57</td>\n",
              "    </tr>\n",
              "    <tr>\n",
              "      <th>14</th>\n",
              "      <td>HLAforest</td>\n",
              "      <td>3063.54</td>\n",
              "    </tr>\n",
              "    <tr>\n",
              "      <th>15</th>\n",
              "      <td>HLAforest</td>\n",
              "      <td>737.21</td>\n",
              "    </tr>\n",
              "    <tr>\n",
              "      <th>16</th>\n",
              "      <td>HLAforest</td>\n",
              "      <td>1933.62</td>\n",
              "    </tr>\n",
              "    <tr>\n",
              "      <th>17</th>\n",
              "      <td>HLAforest</td>\n",
              "      <td>1917.87</td>\n",
              "    </tr>\n",
              "    <tr>\n",
              "      <th>18</th>\n",
              "      <td>HLAforest</td>\n",
              "      <td>1589.44</td>\n",
              "    </tr>\n",
              "    <tr>\n",
              "      <th>19</th>\n",
              "      <td>HLAforest</td>\n",
              "      <td>1704.69</td>\n",
              "    </tr>\n",
              "    <tr>\n",
              "      <th>20</th>\n",
              "      <td>PHLAT</td>\n",
              "      <td>500.20</td>\n",
              "    </tr>\n",
              "    <tr>\n",
              "      <th>21</th>\n",
              "      <td>PHLAT</td>\n",
              "      <td>261.31</td>\n",
              "    </tr>\n",
              "    <tr>\n",
              "      <th>22</th>\n",
              "      <td>PHLAT</td>\n",
              "      <td>540.51</td>\n",
              "    </tr>\n",
              "    <tr>\n",
              "      <th>23</th>\n",
              "      <td>PHLAT</td>\n",
              "      <td>280.96</td>\n",
              "    </tr>\n",
              "    <tr>\n",
              "      <th>24</th>\n",
              "      <td>PHLAT</td>\n",
              "      <td>727.90</td>\n",
              "    </tr>\n",
              "    <tr>\n",
              "      <th>25</th>\n",
              "      <td>PHLAT</td>\n",
              "      <td>212.20</td>\n",
              "    </tr>\n",
              "    <tr>\n",
              "      <th>26</th>\n",
              "      <td>PHLAT</td>\n",
              "      <td>516.36</td>\n",
              "    </tr>\n",
              "    <tr>\n",
              "      <th>27</th>\n",
              "      <td>PHLAT</td>\n",
              "      <td>466.30</td>\n",
              "    </tr>\n",
              "    <tr>\n",
              "      <th>28</th>\n",
              "      <td>PHLAT</td>\n",
              "      <td>447.99</td>\n",
              "    </tr>\n",
              "    <tr>\n",
              "      <th>29</th>\n",
              "      <td>PHLAT</td>\n",
              "      <td>483.59</td>\n",
              "    </tr>\n",
              "    <tr>\n",
              "      <th>30</th>\n",
              "      <td>seq2HLA</td>\n",
              "      <td>186.74</td>\n",
              "    </tr>\n",
              "    <tr>\n",
              "      <th>31</th>\n",
              "      <td>seq2HLA</td>\n",
              "      <td>90.26</td>\n",
              "    </tr>\n",
              "    <tr>\n",
              "      <th>32</th>\n",
              "      <td>seq2HLA</td>\n",
              "      <td>136.90</td>\n",
              "    </tr>\n",
              "    <tr>\n",
              "      <th>33</th>\n",
              "      <td>seq2HLA</td>\n",
              "      <td>145.71</td>\n",
              "    </tr>\n",
              "    <tr>\n",
              "      <th>34</th>\n",
              "      <td>seq2HLA</td>\n",
              "      <td>355.08</td>\n",
              "    </tr>\n",
              "    <tr>\n",
              "      <th>35</th>\n",
              "      <td>seq2HLA</td>\n",
              "      <td>130.90</td>\n",
              "    </tr>\n",
              "    <tr>\n",
              "      <th>36</th>\n",
              "      <td>seq2HLA</td>\n",
              "      <td>371.80</td>\n",
              "    </tr>\n",
              "    <tr>\n",
              "      <th>37</th>\n",
              "      <td>seq2HLA</td>\n",
              "      <td>151.43</td>\n",
              "    </tr>\n",
              "    <tr>\n",
              "      <th>38</th>\n",
              "      <td>seq2HLA</td>\n",
              "      <td>196.89</td>\n",
              "    </tr>\n",
              "    <tr>\n",
              "      <th>39</th>\n",
              "      <td>seq2HLA</td>\n",
              "      <td>151.89</td>\n",
              "    </tr>\n",
              "    <tr>\n",
              "      <th>40</th>\n",
              "      <td>HLAVBSeq</td>\n",
              "      <td>4765.65</td>\n",
              "    </tr>\n",
              "    <tr>\n",
              "      <th>41</th>\n",
              "      <td>HLAVBSeq</td>\n",
              "      <td>1463.20</td>\n",
              "    </tr>\n",
              "    <tr>\n",
              "      <th>42</th>\n",
              "      <td>HLAVBSeq</td>\n",
              "      <td>5283.79</td>\n",
              "    </tr>\n",
              "    <tr>\n",
              "      <th>43</th>\n",
              "      <td>HLAVBSeq</td>\n",
              "      <td>3414.70</td>\n",
              "    </tr>\n",
              "    <tr>\n",
              "      <th>44</th>\n",
              "      <td>HLAVBSeq</td>\n",
              "      <td>1253.88</td>\n",
              "    </tr>\n",
              "    <tr>\n",
              "      <th>45</th>\n",
              "      <td>HLAVBSeq</td>\n",
              "      <td>2848.42</td>\n",
              "    </tr>\n",
              "    <tr>\n",
              "      <th>46</th>\n",
              "      <td>HLAVBSeq</td>\n",
              "      <td>6323.20</td>\n",
              "    </tr>\n",
              "    <tr>\n",
              "      <th>47</th>\n",
              "      <td>HLAVBSeq</td>\n",
              "      <td>3783.95</td>\n",
              "    </tr>\n",
              "    <tr>\n",
              "      <th>48</th>\n",
              "      <td>HLAVBSeq</td>\n",
              "      <td>8611.24</td>\n",
              "    </tr>\n",
              "    <tr>\n",
              "      <th>49</th>\n",
              "      <td>HLAVBSeq</td>\n",
              "      <td>7838.62</td>\n",
              "    </tr>\n",
              "    <tr>\n",
              "      <th>50</th>\n",
              "      <td>Optitype</td>\n",
              "      <td>1454.56</td>\n",
              "    </tr>\n",
              "    <tr>\n",
              "      <th>51</th>\n",
              "      <td>Optitype</td>\n",
              "      <td>716.87</td>\n",
              "    </tr>\n",
              "    <tr>\n",
              "      <th>52</th>\n",
              "      <td>Optitype</td>\n",
              "      <td>1238.41</td>\n",
              "    </tr>\n",
              "    <tr>\n",
              "      <th>53</th>\n",
              "      <td>Optitype</td>\n",
              "      <td>663.41</td>\n",
              "    </tr>\n",
              "    <tr>\n",
              "      <th>54</th>\n",
              "      <td>Optitype</td>\n",
              "      <td>2461.20</td>\n",
              "    </tr>\n",
              "    <tr>\n",
              "      <th>55</th>\n",
              "      <td>Optitype</td>\n",
              "      <td>814.28</td>\n",
              "    </tr>\n",
              "    <tr>\n",
              "      <th>56</th>\n",
              "      <td>Optitype</td>\n",
              "      <td>2118.37</td>\n",
              "    </tr>\n",
              "    <tr>\n",
              "      <th>57</th>\n",
              "      <td>Optitype</td>\n",
              "      <td>1134.51</td>\n",
              "    </tr>\n",
              "    <tr>\n",
              "      <th>58</th>\n",
              "      <td>Optitype</td>\n",
              "      <td>1408.30</td>\n",
              "    </tr>\n",
              "    <tr>\n",
              "      <th>59</th>\n",
              "      <td>Optitype</td>\n",
              "      <td>1134.15</td>\n",
              "    </tr>\n",
              "  </tbody>\n",
              "</table>\n",
              "</div>"
            ],
            "text/plain": [
              "      Callers  CPU Time\n",
              "0    arcasHLA    279.18\n",
              "1    arcasHLA    167.47\n",
              "2    arcasHLA    401.41\n",
              "3    arcasHLA     94.42\n",
              "4    arcasHLA    690.39\n",
              "5    arcasHLA    166.93\n",
              "6    arcasHLA    224.68\n",
              "7    arcasHLA    269.69\n",
              "8    arcasHLA    201.60\n",
              "9    arcasHLA    303.81\n",
              "10  HLAforest   1765.37\n",
              "11  HLAforest    683.57\n",
              "12  HLAforest   1997.34\n",
              "13  HLAforest    954.57\n",
              "14  HLAforest   3063.54\n",
              "15  HLAforest    737.21\n",
              "16  HLAforest   1933.62\n",
              "17  HLAforest   1917.87\n",
              "18  HLAforest   1589.44\n",
              "19  HLAforest   1704.69\n",
              "20      PHLAT    500.20\n",
              "21      PHLAT    261.31\n",
              "22      PHLAT    540.51\n",
              "23      PHLAT    280.96\n",
              "24      PHLAT    727.90\n",
              "25      PHLAT    212.20\n",
              "26      PHLAT    516.36\n",
              "27      PHLAT    466.30\n",
              "28      PHLAT    447.99\n",
              "29      PHLAT    483.59\n",
              "30    seq2HLA    186.74\n",
              "31    seq2HLA     90.26\n",
              "32    seq2HLA    136.90\n",
              "33    seq2HLA    145.71\n",
              "34    seq2HLA    355.08\n",
              "35    seq2HLA    130.90\n",
              "36    seq2HLA    371.80\n",
              "37    seq2HLA    151.43\n",
              "38    seq2HLA    196.89\n",
              "39    seq2HLA    151.89\n",
              "40   HLAVBSeq   4765.65\n",
              "41   HLAVBSeq   1463.20\n",
              "42   HLAVBSeq   5283.79\n",
              "43   HLAVBSeq   3414.70\n",
              "44   HLAVBSeq   1253.88\n",
              "45   HLAVBSeq   2848.42\n",
              "46   HLAVBSeq   6323.20\n",
              "47   HLAVBSeq   3783.95\n",
              "48   HLAVBSeq   8611.24\n",
              "49   HLAVBSeq   7838.62\n",
              "50   Optitype   1454.56\n",
              "51   Optitype    716.87\n",
              "52   Optitype   1238.41\n",
              "53   Optitype    663.41\n",
              "54   Optitype   2461.20\n",
              "55   Optitype    814.28\n",
              "56   Optitype   2118.37\n",
              "57   Optitype   1134.51\n",
              "58   Optitype   1408.30\n",
              "59   Optitype   1134.15"
            ]
          },
          "execution_count": 9,
          "metadata": {},
          "output_type": "execute_result"
        }
      ],
      "source": [
        "cpu"
      ]
    },
    {
      "cell_type": "markdown",
      "metadata": {
        "id": "HV5ubdv6jiHf"
      },
      "source": [
        "# Memory"
      ]
    },
    {
      "cell_type": "code",
      "execution_count": 10,
      "metadata": {
        "id": "lMfjvB6pjjk5"
      },
      "outputs": [],
      "source": [
        "memory\n",
        "memory = memory.iloc[: , 1:]\n",
        "memory=memory.melt()\n",
        "memory.rename(columns = {\"variable\": \"Callers\",\"value\":\"Memory\"}, \n",
        "          inplace = True)"
      ]
    },
    {
      "cell_type": "code",
      "execution_count": 11,
      "metadata": {
        "id": "mbhMxV4ejsiq"
      },
      "outputs": [],
      "source": [
        "memory['Memory']=memory['Memory'].div(10**3)"
      ]
    },
    {
      "cell_type": "code",
      "execution_count": 12,
      "metadata": {
        "id": "4pXtgOHilYkt"
      },
      "outputs": [],
      "source": [
        "df=pd.merge(cpu,memory)"
      ]
    },
    {
      "cell_type": "code",
      "execution_count": 13,
      "metadata": {
        "id": "loLBvePzmhgu"
      },
      "outputs": [],
      "source": [
        "df=df.melt(id_vars=[\"Callers\"])\n",
        "df.rename(columns = {\"variable\": \"Metric\"}, \n",
        "          inplace = True)"
      ]
    },
    {
      "cell_type": "markdown",
      "metadata": {
        "id": "nkrP3pBJmRyz"
      },
      "source": [
        "# Plots"
      ]
    },
    {
      "cell_type": "code",
      "execution_count": 14,
      "metadata": {
        "colab": {
          "base_uri": "https://localhost:8080/",
          "height": 243
        },
        "id": "bIsJ1b2hl8Mg",
        "outputId": "04540896-dfbf-4de8-d358-5b77edfa9a38"
      },
      "outputs": [
        {
          "data": {
            "text/plain": [
              "<seaborn.axisgrid.FacetGrid at 0x7f4af0223fd0>"
            ]
          },
          "execution_count": 14,
          "metadata": {},
          "output_type": "execute_result"
        },
        {
          "data": {
            "image/png": "[encoded data removed]",
            "text/plain": [
              "<Figure size 432x216 with 2 Axes>"
            ]
          },
          "metadata": {
            "needs_background": "light"
          },
          "output_type": "display_data"
        }
      ],
      "source": [
        "g = sns.FacetGrid(df, col=\"Metric\")\n",
        "g.map_dataframe(sns.boxplot, x=\"value\", y=\"Callers\")"
      ]
    },
    {
      "cell_type": "code",
      "execution_count": 16,
      "metadata": {
        "colab": {
          "base_uri": "https://localhost:8080/",
          "height": 294
        },
        "id": "emdsEnUwmVHi",
        "outputId": "a32e123d-63c7-427f-eee9-213a10db6ba7"
      },
      "outputs": [
        {
          "data": {
            "image/png": "[encoded data removed]",
            "text/plain": [
              "<Figure size 720x720 with 1 Axes>"
            ]
          },
          "metadata": {},
          "output_type": "display_data"
        }
      ],
      "source": [
        "sns.set_context(\"paper\")\n",
        "sns.color_palette(\"pastel\")\n",
        "sns.set(rc={'figure.figsize':(10,10)})\n",
        "sns.set_style(\"white\")\n",
        "ax = sns.boxplot(x=\"Callers\",y=\"CPU Time\", data=cpu)\n",
        "ax.set_ylabel(\"CPU Time (s)\")\n",
        "ax.set_xlabel(\"Callers\")\n",
        "ax.set_title(\"Dataset 1 CPU Time (s)\") \n",
        "sns.despine()\n",
        "plt.savefig('../Figures/d1_cpu.png',bbox_inches =\"tight\",dpi=300)"
      ]
    },
    {
      "cell_type": "code",
      "execution_count": 17,
      "metadata": {
        "colab": {
          "base_uri": "https://localhost:8080/",
          "height": 294
        },
        "id": "wyIE9Ku2kCq3",
        "outputId": "18133f28-1216-414d-e104-27968b287431"
      },
      "outputs": [
        {
          "data": {
            "image/png": "[encoded data removed]",
            "text/plain": [
              "<Figure size 720x720 with 1 Axes>"
            ]
          },
          "metadata": {},
          "output_type": "display_data"
        }
      ],
      "source": [
        "sns.set_context(\"paper\")\n",
        "sns.color_palette(\"pastel\")\n",
        "sns.set(rc={'figure.figsize':(10,10)})\n",
        "sns.set_style(\"white\")\n",
        "ax = sns.boxplot(x=\"Callers\",y=\"Memory\", data=memory)\n",
        "ax.set_ylabel(\"Memory (MB)\")\n",
        "ax.set_xlabel(\"Callers\")\n",
        "ax.set_title(\"Dataset 1 Memory\") \n",
        "sns.despine()\n",
        "plt.savefig('../Figures/d1_memory.png',bbox_inches =\"tight\",dpi=300)"
      ]
    }
  ],
  "metadata": {
    "colab": {
      "name": "Cpu & Memoryipynb",
      "provenance": []
    },
    "kernelspec": {
      "display_name": "Python 3.9.12 ('panel')",
      "language": "python",
      "name": "python3"
    },
    "language_info": {
      "codemirror_mode": {
        "name": "ipython",
        "version": 3
      },
      "file_extension": ".py",
      "mimetype": "text/x-python",
      "name": "python",
      "nbconvert_exporter": "python",
      "pygments_lexer": "ipython3",
      "version": "3.9.12"
    },
    "vscode": {
      "interpreter": {
        "hash": "7643bbb66755ef3870c758d7b4bba1f004baaf4db68a76fa62b05d8b16893657"
      }
    }
  },
  "nbformat": 4,
  "nbformat_minor": 0
}
