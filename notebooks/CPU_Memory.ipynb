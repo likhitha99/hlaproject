{
  "cells": [
    {
      "cell_type": "code",
      "execution_count": 1,
      "metadata": {
        "id": "aoQGZ68OeJ1X"
      },
      "outputs": [],
      "source": [
        "%matplotlib inline\n",
        "import numpy as np\n",
        "import pandas as pd\n",
        "import matplotlib.pyplot as plt\n",
        "import seaborn as sns"
      ]
    },
    {
      "cell_type": "code",
      "execution_count": 2,
      "metadata": {
        "id": "KwuircA6eW81"
      },
      "outputs": [],
      "source": [
        "cpu=pd.read_csv('../results/cpu/work_time.csv')\n",
        "memory=pd.read_csv('../results/memory/work_memory.csv')"
      ]
    },
    {
      "cell_type": "markdown",
      "metadata": {
        "id": "gZ5JVYobey3K"
      },
      "source": [
        "# CPU"
      ]
    },
    {
      "cell_type": "code",
      "execution_count": null,
      "metadata": {
        "id": "HLrRUfUdfr8L"
      },
      "outputs": [],
      "source": [
        "cpu = cpu.iloc[: , 1:]"
      ]
    },
    {
      "cell_type": "code",
      "execution_count": null,
      "metadata": {
        "id": "NJgT7xA_hjsf"
      },
      "outputs": [],
      "source": [
        "cpu=cpu.melt()\n",
        "cpu.rename(columns = {\"variable\": \"Callers\",\"value\":\"CPU Time\"}, \n",
        "          inplace = True)"
      ]
    },
    {
      "cell_type": "code",
      "execution_count": 3,
      "metadata": {
        "colab": {
          "base_uri": "https://localhost:8080/",
          "height": 1000
        },
        "id": "U3nhfZttgKXm",
        "outputId": "98d98b0f-d4f8-462e-dc94-482d18ff9d77"
      },
      "outputs": [
        {
          "data": {
            "text/html": [
              "<div>\n",
              "<style scoped>\n",
              "    .dataframe tbody tr th:only-of-type {\n",
              "        vertical-align: middle;\n",
              "    }\n",
              "\n",
              "    .dataframe tbody tr th {\n",
              "        vertical-align: top;\n",
              "    }\n",
              "\n",
              "    .dataframe thead th {\n",
              "        text-align: right;\n",
              "    }\n",
              "</style>\n",
              "<table border=\"1\" class=\"dataframe\">\n",
              "  <thead>\n",
              "    <tr style=\"text-align: right;\">\n",
              "      <th></th>\n",
              "      <th>Unnamed: 0</th>\n",
              "      <th>arcasHLA</th>\n",
              "      <th>HLAforest</th>\n",
              "      <th>PHLAT</th>\n",
              "      <th>seq2HLA</th>\n",
              "      <th>HLAVBSeq</th>\n",
              "      <th>Optitype</th>\n",
              "    </tr>\n",
              "  </thead>\n",
              "  <tbody>\n",
              "    <tr>\n",
              "      <th>0</th>\n",
              "      <td>1</td>\n",
              "      <td>279.18</td>\n",
              "      <td>1765.37</td>\n",
              "      <td>500.20</td>\n",
              "      <td>186.74</td>\n",
              "      <td>4765.65</td>\n",
              "      <td>1454.56</td>\n",
              "    </tr>\n",
              "    <tr>\n",
              "      <th>1</th>\n",
              "      <td>2</td>\n",
              "      <td>167.47</td>\n",
              "      <td>683.57</td>\n",
              "      <td>261.31</td>\n",
              "      <td>90.26</td>\n",
              "      <td>1463.20</td>\n",
              "      <td>716.87</td>\n",
              "    </tr>\n",
              "    <tr>\n",
              "      <th>2</th>\n",
              "      <td>3</td>\n",
              "      <td>401.41</td>\n",
              "      <td>1997.34</td>\n",
              "      <td>540.51</td>\n",
              "      <td>136.90</td>\n",
              "      <td>5283.79</td>\n",
              "      <td>1238.41</td>\n",
              "    </tr>\n",
              "    <tr>\n",
              "      <th>3</th>\n",
              "      <td>4</td>\n",
              "      <td>94.42</td>\n",
              "      <td>954.57</td>\n",
              "      <td>280.96</td>\n",
              "      <td>145.71</td>\n",
              "      <td>3414.70</td>\n",
              "      <td>663.41</td>\n",
              "    </tr>\n",
              "    <tr>\n",
              "      <th>4</th>\n",
              "      <td>5</td>\n",
              "      <td>690.39</td>\n",
              "      <td>3063.54</td>\n",
              "      <td>727.90</td>\n",
              "      <td>355.08</td>\n",
              "      <td>1253.88</td>\n",
              "      <td>2461.20</td>\n",
              "    </tr>\n",
              "    <tr>\n",
              "      <th>5</th>\n",
              "      <td>6</td>\n",
              "      <td>166.93</td>\n",
              "      <td>737.21</td>\n",
              "      <td>212.20</td>\n",
              "      <td>130.90</td>\n",
              "      <td>2848.42</td>\n",
              "      <td>814.28</td>\n",
              "    </tr>\n",
              "    <tr>\n",
              "      <th>6</th>\n",
              "      <td>7</td>\n",
              "      <td>224.68</td>\n",
              "      <td>1933.62</td>\n",
              "      <td>516.36</td>\n",
              "      <td>371.80</td>\n",
              "      <td>6323.20</td>\n",
              "      <td>2118.37</td>\n",
              "    </tr>\n",
              "    <tr>\n",
              "      <th>7</th>\n",
              "      <td>8</td>\n",
              "      <td>269.69</td>\n",
              "      <td>1917.87</td>\n",
              "      <td>466.30</td>\n",
              "      <td>151.43</td>\n",
              "      <td>3783.95</td>\n",
              "      <td>1134.51</td>\n",
              "    </tr>\n",
              "    <tr>\n",
              "      <th>8</th>\n",
              "      <td>9</td>\n",
              "      <td>201.60</td>\n",
              "      <td>1589.44</td>\n",
              "      <td>447.99</td>\n",
              "      <td>196.89</td>\n",
              "      <td>8611.24</td>\n",
              "      <td>1408.30</td>\n",
              "    </tr>\n",
              "    <tr>\n",
              "      <th>9</th>\n",
              "      <td>10</td>\n",
              "      <td>303.81</td>\n",
              "      <td>1704.69</td>\n",
              "      <td>483.59</td>\n",
              "      <td>151.89</td>\n",
              "      <td>7838.62</td>\n",
              "      <td>1134.15</td>\n",
              "    </tr>\n",
              "  </tbody>\n",
              "</table>\n",
              "</div>"
            ],
            "text/plain": [
              "   Unnamed: 0  arcasHLA  HLAforest   PHLAT  seq2HLA  HLAVBSeq  Optitype\n",
              "0           1    279.18    1765.37  500.20   186.74   4765.65   1454.56\n",
              "1           2    167.47     683.57  261.31    90.26   1463.20    716.87\n",
              "2           3    401.41    1997.34  540.51   136.90   5283.79   1238.41\n",
              "3           4     94.42     954.57  280.96   145.71   3414.70    663.41\n",
              "4           5    690.39    3063.54  727.90   355.08   1253.88   2461.20\n",
              "5           6    166.93     737.21  212.20   130.90   2848.42    814.28\n",
              "6           7    224.68    1933.62  516.36   371.80   6323.20   2118.37\n",
              "7           8    269.69    1917.87  466.30   151.43   3783.95   1134.51\n",
              "8           9    201.60    1589.44  447.99   196.89   8611.24   1408.30\n",
              "9          10    303.81    1704.69  483.59   151.89   7838.62   1134.15"
            ]
          },
          "execution_count": 3,
          "metadata": {},
          "output_type": "execute_result"
        }
      ],
      "source": [
        "cpu"
      ]
    },
    {
      "cell_type": "markdown",
      "metadata": {
        "id": "HV5ubdv6jiHf"
      },
      "source": [
        "# Memory"
      ]
    },
    {
      "cell_type": "code",
      "execution_count": null,
      "metadata": {
        "id": "lMfjvB6pjjk5"
      },
      "outputs": [],
      "source": [
        "memory\n",
        "memory = memory.iloc[: , 1:]\n",
        "memory=memory.melt()\n",
        "memory.rename(columns = {\"variable\": \"Callers\",\"value\":\"Memory\"}, \n",
        "          inplace = True)"
      ]
    },
    {
      "cell_type": "code",
      "execution_count": null,
      "metadata": {
        "id": "mbhMxV4ejsiq"
      },
      "outputs": [],
      "source": [
        "memory['Memory']=memory['Memory'].div(10**3)"
      ]
    },
    {
      "cell_type": "code",
      "execution_count": null,
      "metadata": {
        "id": "4pXtgOHilYkt"
      },
      "outputs": [],
      "source": [
        "df=pd.merge(cpu,memory)"
      ]
    },
    {
      "cell_type": "code",
      "execution_count": null,
      "metadata": {
        "id": "loLBvePzmhgu"
      },
      "outputs": [],
      "source": [
        "df=df.melt(id_vars=[\"Callers\"])\n",
        "df.rename(columns = {\"variable\": \"Metric\"}, \n",
        "          inplace = True)"
      ]
    },
    {
      "cell_type": "markdown",
      "metadata": {
        "id": "nkrP3pBJmRyz"
      },
      "source": [
        "# Plots"
      ]
    },
    {
      "cell_type": "code",
      "execution_count": null,
      "metadata": {
        "colab": {
          "base_uri": "https://localhost:8080/",
          "height": 243
        },
        "id": "bIsJ1b2hl8Mg",
        "outputId": "04540896-dfbf-4de8-d358-5b77edfa9a38"
      },
      "outputs": [
        {
          "data": {
            "text/plain": [
              "<seaborn.axisgrid.FacetGrid at 0x7f044b23e150>"
            ]
          },
          "execution_count": 108,
          "metadata": {},
          "output_type": "execute_result"
        },
        {
          "data": {
            "image/png": "[encoded data removed]",
            "text/plain": [
              "<Figure size 432x216 with 2 Axes>"
            ]
          },
          "metadata": {
            "needs_background": "light"
          },
          "output_type": "display_data"
        }
      ],
      "source": [
        "g = sns.FacetGrid(df, col=\"Metric\")\n",
        "g.map_dataframe(sns.boxplot, x=\"value\", y=\"Callers\")"
      ]
    },
    {
      "cell_type": "code",
      "execution_count": null,
      "metadata": {
        "colab": {
          "base_uri": "https://localhost:8080/",
          "height": 294
        },
        "id": "emdsEnUwmVHi",
        "outputId": "a32e123d-63c7-427f-eee9-213a10db6ba7"
      },
      "outputs": [
        {
          "data": {
            "image/png": "[encoded data removed]",
            "text/plain": [
              "<Figure size 432x288 with 1 Axes>"
            ]
          },
          "metadata": {
            "needs_background": "light"
          },
          "output_type": "display_data"
        }
      ],
      "source": [
        "sns.set_context(\"paper\")\n",
        "sns.color_palette(\"pastel\")\n",
        "ax = sns.boxplot(x=\"Callers\",y=\"CPU Time\", data=cpu)\n",
        "ax.set_xlabel(\"CPU Time (s)\")\n",
        "ax.set_title(\"Dataset 1 CPU Time (s)\") \n",
        "sns.despine()\n",
        "plt.savefig('../Figures/d1_cpu.png',bbox_inches =\"tight\",dpi=300)"
      ]
    },
    {
      "cell_type": "code",
      "execution_count": null,
      "metadata": {
        "colab": {
          "base_uri": "https://localhost:8080/",
          "height": 294
        },
        "id": "wyIE9Ku2kCq3",
        "outputId": "18133f28-1216-414d-e104-27968b287431"
      },
      "outputs": [
        {
          "data": {
            "image/png": "[encoded data removed]",
            "text/plain": [
              "<Figure size 432x288 with 1 Axes>"
            ]
          },
          "metadata": {
            "needs_background": "light"
          },
          "output_type": "display_data"
        }
      ],
      "source": [
        "sns.set_context(\"paper\")\n",
        "sns.color_palette(\"pastel\")\n",
        "ax = sns.boxplot(x=\"Callers\",y=\"Memory\", data=memory)\n",
        "ax.set_xlabel(\"Memory (MB)\")\n",
        "ax.set_title(\"Dataset 1 Memory\") \n",
        "sns.despine()\n",
        "plt.savefig('../Figures/d1_memory.png',bbox_inches =\"tight\",dpi=300)"
      ]
    }
  ],
  "metadata": {
    "colab": {
      "name": "Cpu & Memoryipynb",
      "provenance": []
    },
    "interpreter": {
      "hash": "2cf4ad64a29d01b490f1cfa97df8d8e4fd6ee1c3a15244b39f080139a98480b5"
    },
    "kernelspec": {
      "display_name": "Python 3.8.11 ('base')",
      "language": "python",
      "name": "python3"
    },
    "language_info": {
      "codemirror_mode": {
        "name": "ipython",
        "version": 3
      },
      "file_extension": ".py",
      "mimetype": "text/x-python",
      "name": "python",
      "nbconvert_exporter": "python",
      "pygments_lexer": "ipython3",
      "version": "3.8.11"
    }
  },
  "nbformat": 4,
  "nbformat_minor": 0
}
