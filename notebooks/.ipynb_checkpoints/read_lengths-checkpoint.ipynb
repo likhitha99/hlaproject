{
 "cells": [
  {
   "cell_type": "code",
   "execution_count": 17,
   "metadata": {
    "colab": {
     "base_uri": "https://localhost:8080/"
    },
    "id": "lU0-RdTWWNC1",
    "outputId": "42417289-0d24-4946-b1f8-16df6c385853"
   },
   "outputs": [],
   "source": [
    "%matplotlib inline\n",
    "import tarfile\n",
    "import numpy as np\n",
    "import pandas as pd\n",
    "import matplotlib.pyplot as plt\n",
    "from sys import ps2\n"
   ]
  },
  {
   "cell_type": "markdown",
   "metadata": {
    "id": "W8-xvx1rYC48"
   },
   "source": [
    "# compute 2dig and 4dig accuracy"
   ]
  },
  {
   "cell_type": "code",
   "execution_count": 18,
   "metadata": {},
   "outputs": [],
   "source": [
    "def fix(s):\n",
    "    firstcolon = s.find(\":\")\n",
    "    s_new = s[firstcolon-2:firstcolon] + s[firstcolon+1:firstcolon+3]\n",
    "    s_new = s_new.replace(\"*\", \"0\")\n",
    "    return s_new\n",
    "\n",
    "def compute_resolution(gs_val,pre_val):\n",
    "    gs_all = gs_val.split(\"/\")\n",
    "    pre_fixed = fix(pre_val)\n",
    "    flag = False #false = inaccurate, turn to true = 2 digits accurate\n",
    "    \n",
    "    for val in gs_all:\n",
    "        gs_fixed = fix(val)\n",
    "\n",
    "        if (gs_fixed[0:2] == pre_fixed[0:2]):\n",
    "            if (gs_fixed[2:4] == pre_fixed[2:4]):\n",
    "                return 4\n",
    "            flag = True\n",
    "        \n",
    "    return 2 if flag==True else 0\n",
    "\n",
    "# requirements: gs accession numbers are under a column labeled \"Run\" \n",
    "#pre accession numbers are under a column labeled \"ERR\" \n",
    "# accession numbers/column titles are labeled identically between gold standard and results csv\n",
    "# Only accuracy for samples in both GS and PRE are calculated. Samples in PRE, but not in GS are ignored. Samples in GS, but not in PRE, are tallied in the \"failed\" variable \n",
    "def compute_matches(pre,gs):\n",
    "\n",
    "    # index 0 is class I, index 1 is class II\n",
    "    fourdig = [0,0]\n",
    "    twodig = [0,0]\n",
    "    zerodig = [0,0]\n",
    "    fail = 0\n",
    "\n",
    "    d5 = ['Run', 'A', 'B']\n",
    "    d6 = ['Run', 'C']\n",
    "    classI = ['A','B','C']\n",
    "\n",
    "    accession_numbers = gs[\"Run\"].values.tolist()\n",
    "    genes = gs.columns.values.tolist()\n",
    "\n",
    "    for number in accession_numbers:\n",
    "        pre_row = pre.loc[pre['ERR'] == number]\n",
    "        gs_row = gs.loc[gs['Run'] == number]\n",
    "\n",
    "        # if we are working with d5 or d6, the monoallelic datasets\n",
    "        if (gs.columns.tolist() == d5 or gs.columns.tolist() == d6):\n",
    "            for i in range(1,len(genes)):\n",
    "                gs_val = gs_row[genes[i]].astype(str).values[0]\n",
    "                pre_val1 = pre_row[genes[i]].astype(str).values[0]\n",
    "                pre_val2 = pre_row[genes[i]+\".1\"].astype(str).values[0]\n",
    "\n",
    "                ans = max(compute_resolution(gs_val,pre_val1), compute_resolution(gs_val,pre_val2))\n",
    "                if (ans == 0):\n",
    "                    zerodig[0] = zerodig[0] + 1\n",
    "                if (ans == 2):\n",
    "                    twodig[0] = twodig[0] + 1\n",
    "                if (ans == 4):\n",
    "                    fourdig[0] = fourdig[0] + 1\n",
    "\n",
    "        # if we are working with d1-d4, the biallelic datasets\n",
    "        else:\n",
    "            for i in range(1,len(genes),2):\n",
    "                try:\n",
    "                    gs_val1 = gs_row[genes[i]].astype(str).values[0]\n",
    "                    pre_val1 = pre_row[genes[i]].astype(str).values[0]\n",
    "                    gs_val2 = gs_row[genes[i+1]].astype(str).values[0]\n",
    "                    pre_val2 = pre_row[genes[i+1]].astype(str).values[0]\n",
    "\n",
    "                    if gs_val1 == None or pre_val1 == None or gs_val2 == None or pre_val2 == None:\n",
    "                        fail = fail+1\n",
    "                        continue\n",
    "\n",
    "                    # assuming no swapping \n",
    "                    ans1 = compute_resolution(gs_val1,pre_val1)\n",
    "                    ans2 = compute_resolution(gs_val2,pre_val2)\n",
    "\n",
    "                    # assuming swapping\n",
    "                    ans3 = compute_resolution(gs_val1,pre_val2)\n",
    "                    ans4 = compute_resolution(gs_val2,pre_val1)\n",
    "\n",
    "                    if (ans1+ans2 > ans3+ans4):\n",
    "                        if (ans1 == 0):\n",
    "                            if classI.contains(pre_val1[0]):\n",
    "                                zerodig[0] += 1 \n",
    "                            else:\n",
    "                                zerodig[1] += 1\n",
    "                        if (ans1 == 2):\n",
    "                            if classI.contains(pre_val1[0]):\n",
    "                                twodig[0] = twodig[0] + 1 \n",
    "                            else:\n",
    "                                twodig[1] = twodig[1] + 1\n",
    "                        if (ans1 == 4):\n",
    "                            if pre_val1[0] in classI:\n",
    "                                fourdig[0] = fourdig[0] + 1 \n",
    "                            else:\n",
    "                                fourdig[1] = fourdig[1] + 1\n",
    "                        if (ans2 == 0):\n",
    "                            if pre_val1[0] in classI:\n",
    "                                zerodig[0] = zerodig[0] + 1 \n",
    "                            else:\n",
    "                                zerodig[1] = zerodig[1] + 1\n",
    "                        if (ans2 == 2):\n",
    "                            if pre_val1[0] in classI:\n",
    "                                twodig[0] = twodig[0] + 1 \n",
    "                            else:\n",
    "                                twodig[1] = twodig[1] + 1\n",
    "                        if (ans2 == 4):\n",
    "                            if pre_val1[0] in classI:\n",
    "                                fourdig[0] = fourdig[0] + 1 \n",
    "                            else:\n",
    "                                fourdig[1] = fourdig[1] + 1\n",
    "                    else:\n",
    "                        if (ans3 == 0):\n",
    "                            if pre_val1[0] in classI:\n",
    "                                zerodig[0] = zerodig[0] + 1 \n",
    "                            else:\n",
    "                                zerodig[1] = zerodig[1] + 1\n",
    "                        if (ans3 == 2):\n",
    "                            if pre_val1[0] in classI:\n",
    "                                twodig[0] = twodig[0] + 1 \n",
    "                            else:\n",
    "                                twodig[1] = twodig[1] + 1\n",
    "                        if (ans3 == 4):\n",
    "                            if pre_val1[0] in classI:\n",
    "                                fourdig[0] = fourdig[0] + 1 \n",
    "                            else:\n",
    "                                fourdig[1] = fourdig[1] + 1\n",
    "                        if (ans4 == 0):\n",
    "                            if pre_val1[0] in classI:\n",
    "                                zerodig[0] = zerodig[0] + 1 \n",
    "                            else:\n",
    "                                zerodig[1] = zerodig[1] + 1\n",
    "                        if (ans4 == 2):\n",
    "                            if pre_val1[0] in classI:\n",
    "                                twodig[0] = twodig[0] + 1 \n",
    "                            else:\n",
    "                                twodig[1] = twodig[1] + 1\n",
    "                        if (ans4 == 4):\n",
    "                            if pre_val1[0] in classI:\n",
    "                                fourdig[0] = fourdig[0] + 1 \n",
    "                            else:\n",
    "                                fourdig[1] = fourdig[1] + 1\n",
    "                except:\n",
    "                    fail = fail+1\n",
    "\n",
    "    return zerodig,twodig,fourdig #,fail #onzero fail indicates exception occurred"
   ]
  },
  {
   "cell_type": "markdown",
   "metadata": {
    "id": "LGChCDCXYgAF"
   },
   "source": [
    "# Create accuracy dataframe"
   ]
  },
  {
   "cell_type": "code",
   "execution_count": 72,
   "metadata": {
    "id": "cx_-h-piYKRV"
   },
   "outputs": [
    {
     "name": "stdout",
     "output_type": "stream",
     "text": [
      "[['seq2hla', 51, 0.7083333333333334, 0.625], ['seq2hla', 76, 0.6666666666666666, 0.625], ['seq2hla', 101, 0.5625, 0.4375], ['seq2hla', 126, 0.4285714285714286, 0.35714285714285715], ['hlaforest', 51, 0.8333333333333333, 0.6666666666666666], ['hlaforest', 76, 0.8333333333333334, 0.75], ['hlaforest', 101, 0.8125, 0.625], ['hlaforest', 126, 0.8125, 0.625], ['arcas', 51, 0.42857142857142855, 0.4107142857142857], ['arcas', 76, 0.47500000000000003, 0.4666666666666667], ['arcas', 101, 0.21250000000000002, 0.2], ['arcas', 126, 0.23750000000000002, 0.225], ['rna2hla', 51, 0.42857142857142855, 0.39285714285714285], ['rna2hla', 76, 0.4431818181818182, 0.42045454545454547], ['rna2hla', 101, 0.1607142857142857, 0.125], ['rna2hla', 126, 0.1111111111111111, 0.09259259259259259], ['phlat', 51, 0.35964912280701755, 0.3333333333333333], ['phlat', 76, 0.4083333333333334, 0.4], ['phlat', 101, 0.1375, 0.125], ['phlat', 126, 0.1125, 0.1], ['hlahd', 51, 0.1875, 0.15], ['hlahd', 76, 0.2, 0.15], ['hlahd', 101, 0.19999999999999998, 0.175], ['hlahd', 126, 0.2125, 0.1875]]\n"
     ]
    }
   ],
   "source": [
    "rls = [51,76,101,126]\n",
    "tools = [\"seq2hla\",\"hlaforest\",\"arcas\",\"rna2hla\",'phlat','hlahd'] # hlahd not working. no results for hlaminer, vbseq, optitype yet\n",
    "gs = pd.read_csv('../datasets/readlength_gs.csv')\n",
    "\n",
    "data = []\n",
    "\n",
    "for tool in tools:\n",
    "    for rl in rls:\n",
    "        filepath = f'../results/read_length/standard/{tool}_{str(rl)}.csv'\n",
    "\n",
    "        pre = pd.read_csv(filepath)\n",
    "        ret = np.array(compute_matches(pre,gs))\n",
    "        total = sum(sum(ret))\n",
    "        # add \n",
    "        data.append([tool,rl,sum(ret[1])/total+sum(ret[2])/total,sum(ret[2])/total] ) # not considering classes (not enough data).. so sum it\n",
    "    \n",
    "print(data)"
   ]
  },
  {
   "cell_type": "code",
   "execution_count": 73,
   "metadata": {},
   "outputs": [
    {
     "name": "stdout",
     "output_type": "stream",
     "text": [
      "         tool  read length  two dig accuracy  four dig accuracy\n",
      "0     seq2hla           51          0.708333           0.625000\n",
      "1     seq2hla           76          0.666667           0.625000\n",
      "2     seq2hla          101          0.562500           0.437500\n",
      "3     seq2hla          126          0.428571           0.357143\n",
      "4   hlaforest           51          0.833333           0.666667\n",
      "5   hlaforest           76          0.833333           0.750000\n",
      "6   hlaforest          101          0.812500           0.625000\n",
      "7   hlaforest          126          0.812500           0.625000\n",
      "8       arcas           51          0.428571           0.410714\n",
      "9       arcas           76          0.475000           0.466667\n",
      "10      arcas          101          0.212500           0.200000\n",
      "11      arcas          126          0.237500           0.225000\n",
      "12    rna2hla           51          0.428571           0.392857\n",
      "13    rna2hla           76          0.443182           0.420455\n",
      "14    rna2hla          101          0.160714           0.125000\n",
      "15    rna2hla          126          0.111111           0.092593\n",
      "16      phlat           51          0.359649           0.333333\n",
      "17      phlat           76          0.408333           0.400000\n",
      "18      phlat          101          0.137500           0.125000\n",
      "19      phlat          126          0.112500           0.100000\n",
      "20      hlahd           51          0.187500           0.150000\n",
      "21      hlahd           76          0.200000           0.150000\n",
      "22      hlahd          101          0.200000           0.175000\n",
      "23      hlahd          126          0.212500           0.187500\n"
     ]
    }
   ],
   "source": [
    "df = pd.DataFrame(data,columns=['tool','read length','two dig accuracy','four dig accuracy'])\n",
    "print(df)\n"
   ]
  },
  {
   "cell_type": "markdown",
   "metadata": {
    "id": "KyvSP2SxY7wz"
   },
   "source": [
    "# Plot"
   ]
  },
  {
   "cell_type": "code",
   "execution_count": 48,
   "metadata": {},
   "outputs": [],
   "source": [
    "import seaborn as sns\n",
    "import matplotlib.pyplot as plt"
   ]
  },
  {
   "cell_type": "code",
   "execution_count": 75,
   "metadata": {},
   "outputs": [],
   "source": [
    "tool_names=['Seq2HLA','HLAForest','ArcasHLA','RNA2HLA','PHLAT','HLA-HD']\n"
   ]
  },
  {
   "cell_type": "code",
   "execution_count": 76,
   "metadata": {
    "scrolled": true
   },
   "outputs": [
    {
     "data": {
      "text/plain": [
       "(0.0, 1.0)"
      ]
     },
     "execution_count": 76,
     "metadata": {},
     "output_type": "execute_result"
    },
    {
     "data": {
      "image/png": "[encoded data removed]",
      "text/plain": [
       "<Figure size 432x288 with 1 Axes>"
      ]
     },
     "metadata": {
      "needs_background": "light"
     },
     "output_type": "display_data"
    }
   ],
   "source": [
    "sns.set_context(\"paper\")\n",
    "sns.color_palette(\"pastel\")\n",
    "ax=sns.barplot(x = \"read length\", y = \"four dig accuracy\", data=df,hue=\"tool\")\n",
    "ax.set_ylabel(\"Accuracy\")\n",
    "ax.set_xlabel(\"Read Length\")\n",
    "ax.set_title(\"Accuracy (%) against Read Length (bp) for Four Digit Resolution\") \n",
    "plt.legend(labels=tool_names,bbox_to_anchor=(1.05, 1), loc=2, borderaxespad=0.)\n",
    "plt.ylim((0,1))\n",
    "#sns.despine()\n",
    "#plt.savefig('../Figures/read_length_accuracy_4dig.png',bbox_inches =\"tight\",dpi=300)"
   ]
  },
  {
   "cell_type": "code",
   "execution_count": 77,
   "metadata": {},
   "outputs": [
    {
     "data": {
      "text/plain": [
       "(0.0, 1.0)"
      ]
     },
     "execution_count": 77,
     "metadata": {},
     "output_type": "execute_result"
    },
    {
     "data": {
      "image/png": "[encoded data removed]",
      "text/plain": [
       "<Figure size 432x288 with 1 Axes>"
      ]
     },
     "metadata": {
      "needs_background": "light"
     },
     "output_type": "display_data"
    }
   ],
   "source": [
    "sns.set_context(\"paper\")\n",
    "sns.color_palette(\"pastel\")\n",
    "ax=sns.barplot(x = \"read length\", y = \"two dig accuracy\", data=df,hue=\"tool\")\n",
    "ax.set_ylabel(\"Accuracy\")\n",
    "ax.set_xlabel(\"Read Length\")\n",
    "ax.set_title(\"Accuracy against Read Length for Two Digit Resolution\") \n",
    "plt.legend(labels=tool_names,bbox_to_anchor=(1.05, 1), loc=2, borderaxespad=0.)\n",
    "plt.ylim((0,1))\n",
    "#sns.despine()\n",
    "#plt.savefig('../Figures/read_length_accuracy_2dig.png',bbox_inches =\"tight\",dpi=300)"
   ]
  }
 ],
 "metadata": {
  "colab": {
   "collapsed_sections": [
    "W8-xvx1rYC48",
    "LGChCDCXYgAF",
    "KyvSP2SxY7wz"
   ],
   "provenance": []
  },
  "kernelspec": {
   "display_name": "Python 3 (ipykernel)",
   "language": "python",
   "name": "python3"
  },
  "language_info": {
   "codemirror_mode": {
    "name": "ipython",
    "version": 3
   },
   "file_extension": ".py",
   "mimetype": "text/x-python",
   "name": "python",
   "nbconvert_exporter": "python",
   "pygments_lexer": "ipython3",
   "version": "3.9.12"
  },
  "vscode": {
   "interpreter": {
    "hash": "a5887580c7cbb0fe8c117cf89484cb0db59155905523768f16ba2f70bd8e79c7"
   }
  }
 },
 "nbformat": 4,
 "nbformat_minor": 1
}
