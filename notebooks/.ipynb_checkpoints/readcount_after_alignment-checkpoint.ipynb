{
 "cells": [
  {
   "cell_type": "code",
   "execution_count": 3,
   "id": "1411809f",
   "metadata": {},
   "outputs": [],
   "source": [
    "import pandas as pd\n",
    "import numpy as np\n",
    "\n",
    "loc = '../datasets/readcount/'"
   ]
  },
  {
   "cell_type": "code",
   "execution_count": 22,
   "id": "df3f5a29",
   "metadata": {},
   "outputs": [
    {
     "name": "stdout",
     "output_type": "stream",
     "text": [
      "2817336\n",
      "2309748\n",
      "2264440\n",
      "3162964\n",
      "1926380\n",
      "1301276\n",
      "1460124\n",
      "3475568\n",
      "1839224\n",
      "2857708\n",
      "940304\n",
      "2390424\n",
      "2817336\n",
      "3360760\n",
      "2264440\n",
      "3162964\n",
      "2309748\n",
      "1460124\n",
      "1301276\n",
      "1926380\n",
      "2390424\n",
      "2857708\n",
      "940304\n",
      "1839224\n",
      "3475568\n",
      "4144612\n",
      "2075284\n",
      "2815028\n",
      "2405980\n",
      "2239360\n",
      "3669232\n",
      "4067960\n",
      "4352016\n",
      "2545096\n",
      "3785664\n",
      "2867848\n",
      "3413344\n",
      "2066876\n",
      "2144084\n",
      "2405980\n",
      "2815028\n",
      "2075284\n",
      "4144612\n",
      "3669232\n",
      "2239360\n",
      "2867848\n",
      "3785664\n",
      "2545096\n",
      "4067960\n",
      "4352016\n",
      "2144084\n",
      "3413344\n",
      "2066876\n",
      "1754704\n",
      "3317928\n",
      "4253984\n",
      "3005408\n",
      "4294288\n",
      "2491688\n",
      "4287060\n",
      "1853700\n",
      "3179952\n",
      "3263752\n",
      "3622644\n",
      "2354052\n",
      "1475276\n",
      "4253984\n",
      "3317928\n",
      "1754704\n",
      "4287060\n",
      "2491688\n",
      "4294288\n",
      "3005408\n",
      "3263752\n",
      "3179952\n",
      "1853700\n",
      "1475276\n",
      "2354052\n",
      "3622644\n",
      "2409232\n",
      "978312\n",
      "2331680\n",
      "2186660\n",
      "2038196\n",
      "4088168\n",
      "1945628\n",
      "1782008\n",
      "1817920\n",
      "2969160\n",
      "2186660\n",
      "978312\n",
      "2331680\n",
      "2409232\n",
      "4088168\n",
      "2038196\n",
      "1782008\n",
      "1945628\n",
      "2969160\n",
      "1817920\n"
     ]
    },
    {
     "ename": "ValueError",
     "evalue": "invalid literal for int() with base 10: ' 268800080 total\\n'",
     "output_type": "error",
     "traceback": [
      "\u001b[0;31m---------------------------------------------------------------------------\u001b[0m",
      "\u001b[0;31mValueError\u001b[0m                                Traceback (most recent call last)",
      "Input \u001b[0;32mIn [22]\u001b[0m, in \u001b[0;36m<cell line: 1>\u001b[0;34m()\u001b[0m\n\u001b[1;32m      3\u001b[0m temp \u001b[38;5;241m=\u001b[39m infile\u001b[38;5;241m.\u001b[39mreadline()\n\u001b[1;32m      4\u001b[0m \u001b[38;5;28;01mfor\u001b[39;00m line \u001b[38;5;129;01min\u001b[39;00m infile: \n\u001b[0;32m----> 5\u001b[0m     l \u001b[38;5;241m=\u001b[39m \u001b[38;5;28;43mint\u001b[39;49m\u001b[43m(\u001b[49m\u001b[43mline\u001b[49m\u001b[38;5;241;43m.\u001b[39;49m\u001b[43msplit\u001b[49m\u001b[43m(\u001b[49m\u001b[38;5;124;43m'\u001b[39;49m\u001b[38;5;124;43m./\u001b[39;49m\u001b[38;5;124;43m'\u001b[39;49m\u001b[43m)\u001b[49m\u001b[43m[\u001b[49m\u001b[38;5;241;43m0\u001b[39;49m\u001b[43m]\u001b[49m\u001b[43m)\u001b[49m\n\u001b[1;32m      6\u001b[0m     \u001b[38;5;28mprint\u001b[39m(l)\n\u001b[1;32m      7\u001b[0m infile\u001b[38;5;241m.\u001b[39mclose()\n",
      "\u001b[0;31mValueError\u001b[0m: invalid literal for int() with base 10: ' 268800080 total\\n'"
     ]
    }
   ],
   "source": [
    "minimum = []\n",
    "maximum = []\n",
    "avg = []\n",
    "\n",
    "for i in range(1,7):\n",
    "    infile = open(loc+f'd{i}reads.txt')\n",
    "    temp = infile.readline()\n",
    "    \n",
    "    count = 0\n",
    "    minimum = 99999999\n",
    "    maximum = 0\n",
    "    \n",
    "    for line in infile: \n",
    "        try:\n",
    "            l = int(line.split('./')[0])\n",
    "            count += 1\n",
    "            minimum = l if minimum>l\n",
    "            maximum = l if maximum<l\n",
    "        except: #there is only one exception, for the total on the last line\n",
    "            pass\n",
    "    infile.close()\n",
    "    \n",
    "    \n",
    "    "
   ]
  },
  {
   "cell_type": "code",
   "execution_count": 14,
   "id": "8d761801",
   "metadata": {},
   "outputs": [
    {
     "name": "stdout",
     "output_type": "stream",
     "text": [
      "   3360760 ./ERR009145Aligned.sortedByCoord.out.extracted.2.fq\n",
      "\n"
     ]
    }
   ],
   "source": [
    "infile = open('../datasets/readcount/d1reads.txt')\n",
    "temp = infile.readline()\n",
    "print(temp)"
   ]
  }
 ],
 "metadata": {
  "kernelspec": {
   "display_name": "Python 3 (ipykernel)",
   "language": "python",
   "name": "python3"
  },
  "language_info": {
   "codemirror_mode": {
    "name": "ipython",
    "version": 3
   },
   "file_extension": ".py",
   "mimetype": "text/x-python",
   "name": "python",
   "nbconvert_exporter": "python",
   "pygments_lexer": "ipython3",
   "version": "3.9.12"
  }
 },
 "nbformat": 4,
 "nbformat_minor": 5
}
