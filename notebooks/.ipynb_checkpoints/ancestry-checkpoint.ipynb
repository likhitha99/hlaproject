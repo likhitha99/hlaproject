{
 "cells": [
  {
   "cell_type": "code",
   "execution_count": 1,
   "metadata": {
    "id": "pgfbVXL5Ywof"
   },
   "outputs": [],
   "source": [
    "import pandas as pd\n",
    "import numpy as np\n",
    "import matplotlib.pyplot as plt\n",
    "from scipy.stats import chi2_contingency\n",
    "from scipy.stats import chisquare"
   ]
  },
  {
   "cell_type": "code",
   "execution_count": 2,
   "metadata": {
    "id": "j8nduzxDA6ov"
   },
   "outputs": [],
   "source": [
    "# converts only 1D or 2D array\n",
    "def convert_to_percentage(arr):\n",
    "    ret = list()\n",
    "\n",
    "    for row in arr:\n",
    "        count = 0\n",
    "        newrow = list()\n",
    "\n",
    "    for cell in row:\n",
    "        count = count+cell\n",
    "\n",
    "    for cell in row:\n",
    "        newrow.append(cell/count)\n",
    "\n",
    "    ret.append(newrow)\n",
    "    return ret"
   ]
  },
  {
   "cell_type": "code",
   "execution_count": 3,
   "metadata": {
    "id": "yvo-nmrmw9AM"
   },
   "outputs": [],
   "source": [
    "def fix(s):\n",
    "    firstcolon = s.find(\":\")\n",
    "    s_new = s[firstcolon-2:firstcolon] + s[firstcolon+1:firstcolon+3]\n",
    "    s_new = s_new.replace(\"*\", \"0\")\n",
    "    return s_new\n"
   ]
  },
  {
   "cell_type": "code",
   "execution_count": 4,
   "metadata": {
    "id": "5m-z90xJ6lu6"
   },
   "outputs": [],
   "source": [
    "def compute_resolution(gs_val,pre_val):\n",
    "    gs_fixed = fix(gs_val)\n",
    "    pre_fixed = fix(pre_val)\n",
    "\n",
    "    if (gs_fixed[0:2] == pre_fixed[0:2]):\n",
    "\n",
    "        if (gs_fixed[2:4] == pre_fixed[2:4]):\n",
    "            return 4\n",
    "        return 2\n",
    "    return 0"
   ]
  },
  {
   "cell_type": "code",
   "execution_count": 5,
   "metadata": {
    "id": "9WXthNPrZm0v"
   },
   "outputs": [],
   "source": [
    "# requirements: gs accession numbers are under a column labeled \"Run\" \n",
    "#pre accession numbers are under a column labeled \"ERR\" \n",
    "# accession numbers/column titles are labeled identically between gold standard and results csv\n",
    "# Only accuracy for samples in both GS and PRE are calculated. Samples in PRE, but not in GS are ignored. Samples in GS, but not in PRE, are tallied in the \"failed\" variable \n",
    "def compute_matches(pre,gs):\n",
    "\n",
    "  fourdig = 0\n",
    "  twodig = 0\n",
    "  zerodig = 0\n",
    "  fail = 0\n",
    "\n",
    "  accession_numbers = gs[\"Run\"].values.tolist()\n",
    "  genes = gs.columns.values.tolist()\n",
    "\n",
    "  for number in accession_numbers:\n",
    "      pre_row = pre.loc[pre['ERR'] == number]\n",
    "      gs_row = gs.loc[gs['Run'] == number]\n",
    "\n",
    "      for i in range(1,len(genes),2):\n",
    "        try:\n",
    "          gs_val1 = gs_row[genes[i]].astype(str).values[0]\n",
    "          pre_val1 = pre_row[genes[i]].astype(str).values[0]\n",
    "          gs_val2 = gs_row[genes[i+1]].astype(str).values[0]\n",
    "          pre_val2 = pre_row[genes[i+1]].astype(str).values[0]\n",
    "\n",
    "          if gs_val1 == None or pre_val1 == None or gs_val2 == None or pre_val2 == None:\n",
    "            fail = fail+1\n",
    "            continue\n",
    "\n",
    "          # assuming no swapping \n",
    "          ans1 = compute_resolution(gs_val1,pre_val1)\n",
    "          ans2 = compute_resolution(gs_val2,pre_val2)\n",
    "\n",
    "          # assuming swapping\n",
    "          ans3 = compute_resolution(gs_val1,pre_val2)\n",
    "          ans4 = compute_resolution(gs_val2,pre_val1)\n",
    "\n",
    "          if (ans1+ans2 > ans3+ans4):\n",
    "            if (ans1 == 0):\n",
    "              zerodig = zerodig + 1\n",
    "            if (ans1 == 2):\n",
    "              twodig = twodig + 1\n",
    "            if (ans1 == 4):\n",
    "              fourdig = fourdig + 1\n",
    "            if (ans2 == 0):\n",
    "              zerodig = zerodig + 1\n",
    "            if (ans2 == 2):\n",
    "              twodig = twodig + 1\n",
    "            if (ans2 == 4):\n",
    "              fourdig = fourdig + 1\n",
    "          else:\n",
    "            if (ans3 == 0):\n",
    "              zerodig = zerodig + 1\n",
    "            if (ans3 == 2):\n",
    "              twodig = twodig + 1\n",
    "            if (ans3 == 4):\n",
    "              fourdig = fourdig + 1\n",
    "            if (ans4 == 0):\n",
    "              zerodig = zerodig + 1\n",
    "            if (ans4 == 2):\n",
    "              twodig = twodig + 1\n",
    "            if (ans4 == 4):\n",
    "              fourdig = fourdig + 1\n",
    "        except:\n",
    "          fail = fail+1\n",
    "\n",
    "  return zerodig,twodig,fourdig #,fail #onzero fail indicates exception occurred"
   ]
  },
  {
   "cell_type": "code",
   "execution_count": 40,
   "metadata": {
    "id": "jygb2HkcoJey"
   },
   "outputs": [],
   "source": [
    "data = list()"
   ]
  },
  {
   "cell_type": "code",
   "execution_count": 41,
   "metadata": {
    "colab": {
     "base_uri": "https://localhost:8080/"
    },
    "id": "jsWHA-h11Zi4",
    "outputId": "aa16459c-3ccf-4961-c671-d07b72c3a628"
   },
   "outputs": [
    {
     "name": "stdout",
     "output_type": "stream",
     "text": [
      "(133, 797, 3970)\n"
     ]
    }
   ],
   "source": [
    "# accuracy - hlaforest\n",
    "predictions = \"../results/standard/hlaforest_d2.csv\"\n",
    "goldstandard = \"../datasets/2_gs.csv\"\n",
    "gs = pd.read_csv(goldstandard)\n",
    "pre = pd.read_csv(predictions)\n",
    "\n",
    "ret = compute_matches(pre,gs)\n",
    "print(ret)\n",
    "data.append(ret)"
   ]
  },
  {
   "cell_type": "code",
   "execution_count": 42,
   "metadata": {
    "colab": {
     "base_uri": "https://localhost:8080/"
    },
    "id": "NuFvQzW22-Q_",
    "outputId": "5104c950-ca50-4179-993a-1461ed93bad2"
   },
   "outputs": [
    {
     "name": "stdout",
     "output_type": "stream",
     "text": [
      "(13, 30, 2897)\n"
     ]
    }
   ],
   "source": [
    "# accuracy - optitype\n",
    "predictions = \"../results/standard/optitype_d2.csv\"\n",
    "pre = pd.read_csv(predictions)\n",
    "\n",
    "ret = compute_matches(pre,gs)\n",
    "print(ret)\n",
    "data.append(ret)"
   ]
  },
  {
   "cell_type": "code",
   "execution_count": 43,
   "metadata": {
    "colab": {
     "base_uri": "https://localhost:8080/"
    },
    "id": "Ev9hWpFy3Hua",
    "outputId": "80aad407-ebdb-4646-871e-0d49d7aa2d37"
   },
   "outputs": [
    {
     "name": "stdout",
     "output_type": "stream",
     "text": [
      "(495, 453, 3952)\n"
     ]
    }
   ],
   "source": [
    "# accuracy - phlat\n",
    "predictions = \"../results/standard/phlat_d2.csv\"\n",
    "pre = pd.read_csv(predictions)\n",
    "\n",
    "ret = compute_matches(pre,gs)\n",
    "print(ret)\n",
    "data.append(ret)"
   ]
  },
  {
   "cell_type": "code",
   "execution_count": 44,
   "metadata": {
    "colab": {
     "base_uri": "https://localhost:8080/"
    },
    "id": "qyTEMlHz3MU5",
    "outputId": "79537e32-8880-4b08-ba88-dddf95a79c89"
   },
   "outputs": [
    {
     "name": "stdout",
     "output_type": "stream",
     "text": [
      "(152, 325, 4423)\n"
     ]
    }
   ],
   "source": [
    "# accuracy - seq2hla\n",
    "predictions = \"../results/standard/seq2hla_d2.csv\"\n",
    "pre = pd.read_csv(predictions)\n",
    "\n",
    "ret = compute_matches(pre,gs)\n",
    "print(ret)\n",
    "data.append(ret)"
   ]
  },
  {
   "cell_type": "code",
   "execution_count": 45,
   "metadata": {
    "colab": {
     "base_uri": "https://localhost:8080/"
    },
    "id": "HXCoFoI6F47n",
    "outputId": "2ae36baf-e195-4823-dbbd-57eef85840d2"
   },
   "outputs": [
    {
     "name": "stdout",
     "output_type": "stream",
     "text": [
      "(83, 154, 3683)\n"
     ]
    }
   ],
   "source": [
    "# accuracy - rna2hla\n",
    "predictions = \"../results/standard/rna2hla_d2.csv\"\n",
    "pre = pd.read_csv(predictions)\n",
    "\n",
    "ret = compute_matches(pre,gs)\n",
    "print(ret)\n",
    "data.append(ret)"
   ]
  },
  {
   "cell_type": "code",
   "execution_count": 46,
   "metadata": {
    "colab": {
     "base_uri": "https://localhost:8080/"
    },
    "id": "-hiOVzy0GwWB",
    "outputId": "eb820575-2555-4b9d-e49f-f76f21665601"
   },
   "outputs": [
    {
     "name": "stdout",
     "output_type": "stream",
     "text": [
      "(291, 1377, 3232)\n"
     ]
    }
   ],
   "source": [
    "# accuracy - bwakit\n",
    "predictions = \"../results/standard/bwa.kit_d2.csv\"\n",
    "pre = pd.read_csv(predictions)\n",
    "\n",
    "ret = compute_matches(pre,gs)\n",
    "print(ret)\n",
    "data.append(ret)"
   ]
  },
  {
   "cell_type": "code",
   "execution_count": 47,
   "metadata": {
    "colab": {
     "base_uri": "https://localhost:8080/"
    },
    "id": "R_lIDEinG3bZ",
    "outputId": "776901f1-47b4-46bf-b71d-5e63386e000e"
   },
   "outputs": [
    {
     "name": "stdout",
     "output_type": "stream",
     "text": [
      "(47, 353, 4500)\n"
     ]
    }
   ],
   "source": [
    "# accuracy - arcas\n",
    "predictions = \"../results/standard/arcas_d2.csv\"\n",
    "pre = pd.read_csv(predictions)\n",
    "\n",
    "ret = compute_matches(pre,gs)\n",
    "print(ret)\n",
    "data.append(ret)"
   ]
  },
  {
   "cell_type": "code",
   "execution_count": 48,
   "metadata": {
    "colab": {
     "base_uri": "https://localhost:8080/"
    },
    "id": "dJl_nhMFG3lU",
    "outputId": "2375867d-375d-4ec4-b046-58708a0caf4c"
   },
   "outputs": [
    {
     "name": "stdout",
     "output_type": "stream",
     "text": [
      "(2162, 258, 2480)\n"
     ]
    }
   ],
   "source": [
    "# accuracy - hlavbseq\n",
    "predictions = \"../results/standard/hlavbseq_d2.csv\"\n",
    "pre = pd.read_csv(predictions)\n",
    "\n",
    "ret = compute_matches(pre,gs)\n",
    "print(ret)\n",
    "data.append(ret)"
   ]
  },
  {
   "cell_type": "code",
   "execution_count": 49,
   "metadata": {
    "colab": {
     "base_uri": "https://localhost:8080/",
     "height": 320
    },
    "id": "hB_bPBuP3Vl6",
    "outputId": "37fa4b34-5803-4a4e-9deb-cac6e2481979"
   },
   "outputs": [
    {
     "name": "stdout",
     "output_type": "stream",
     "text": [
      "[(133, 797, 3970), (13, 30, 2897), (495, 453, 3952), (152, 325, 4423), (83, 154, 3683), (291, 1377, 3232), (47, 353, 4500), (2162, 258, 2480)]\n",
      "[[0.027142857142857142, 0.1626530612244898, 0.810204081632653], [0.004421768707482994, 0.01020408163265306, 0.9853741496598639], [0.10102040816326531, 0.09244897959183673, 0.806530612244898], [0.031020408163265307, 0.0663265306122449, 0.9026530612244898], [0.021173469387755103, 0.039285714285714285, 0.9395408163265306], [0.059387755102040814, 0.2810204081632653, 0.6595918367346939], [0.009591836734693878, 0.07204081632653062, 0.9183673469387755], [0.4412244897959184, 0.052653061224489796, 0.5061224489795918]]\n"
     ]
    },
    {
     "data": {
      "image/png": "[encoded data removed]",
      "text/plain": [
       "<Figure size 432x288 with 1 Axes>"
      ]
     },
     "metadata": {
      "needs_background": "light"
     },
     "output_type": "display_data"
    }
   ],
   "source": [
    "mytype = [\"HLAforest\",\"Optitype\",\"PHLAT\",\"Seq2HLA\",\"RNA2HLA\",\"BWAkit\",\"arcas\",\"HLA-VBseq\"]\n",
    "print(data)\n",
    "percentaccuracy = convert_to_percentage(data)  \n",
    "print(percentaccuracy)\n",
    "\n",
    "one = np.array([percentaccuracy[0][1],percentaccuracy[1][1],percentaccuracy[2][1],percentaccuracy[3][1],percentaccuracy[4][1],percentaccuracy[5][1],percentaccuracy[6][1],percentaccuracy[7][1]])\n",
    "two = np.array([percentaccuracy[0][2],percentaccuracy[1][2],percentaccuracy[2][2],percentaccuracy[3][2],percentaccuracy[4][2],percentaccuracy[5][2],percentaccuracy[6][2],percentaccuracy[7][2]])\n",
    "\n",
    "plt.bar(mytype,two)\n",
    "plt.bar(mytype,one,bottom=two)\n",
    "plt.legend([\"four digit\",\"two digit\"],loc=\"lower right\")\n",
    "plt.show()"
   ]
  },
  {
   "cell_type": "code",
   "execution_count": null,
   "metadata": {
    "colab": {
     "base_uri": "https://localhost:8080/"
    },
    "id": "VEwaX_Z1r5jH",
    "outputId": "f77aa748-101a-407a-cce4-35b13c542c7a"
   },
   "outputs": [
    {
     "name": "stdout",
     "output_type": "stream",
     "text": [
      "95\n",
      "114\n",
      "111\n",
      "103\n",
      "67\n"
     ]
    }
   ],
   "source": [
    "# determine how many samples of each ancestry group\n",
    "groupscsv = \"../results/standard/SraRunTable D2.csv\"\n",
    "goldstandard = \"/content/gdrive/MyDrive/HLA_analysis/datasets/2_gs_corrected.csv\"\n",
    "gs = pd.read_csv(goldstandard)\n",
    "groups = pd.read_csv(groupscsv)\n",
    "\n",
    "for group, df_by_group in groups.groupby('Population'):\n",
    "  accession_numbers = df_by_group['Run'].values.tolist()\n",
    "  gs_final = gs[gs['Run'].isin(accession_numbers)] #gs_final is a df containing the gold standard samples per population group\n",
    "  print(len(gs_final))\n"
   ]
  },
  {
   "cell_type": "code",
   "execution_count": 2,
   "metadata": {
    "id": "k3G1398mtG0L"
   },
   "outputs": [],
   "source": [
    "# to sum the 4 European ancestry groups into 1 European ancestry\n",
    "def sum_euro_groups(data):\n",
    "  ret = [0,0,0]\n",
    "  for group in data:\n",
    "    ret[0] += group[0]\n",
    "    ret[1] += group[1]\n",
    "    ret[2] += group[2]\n",
    "  return ret"
   ]
  },
  {
   "cell_type": "code",
   "execution_count": null,
   "metadata": {
    "colab": {
     "base_uri": "https://localhost:8080/"
    },
    "id": "uNI_9tU-0Zq-",
    "outputId": "fd1a44c1-cc62-4ac9-9958-e5ec95170660"
   },
   "outputs": [
    {
     "name": "stdout",
     "output_type": "stream",
     "text": [
      "[(18, 156, 776), (16, 139, 985), (14, 173, 923), (38, 190, 802), (47, 139, 484)]\n",
      "[[0.02033096926713948, 0.15555555555555556, 0.8241134751773049], [0.07014925373134329, 0.20746268656716418, 0.7223880597014926]]\n"
     ]
    },
    {
     "data": {
      "text/plain": [
       "Power_divergenceResult(statistic=69.85430708892626, pvalue=1.0988869081448916e-13)"
      ]
     },
     "execution_count": 19,
     "metadata": {},
     "output_type": "execute_result"
    }
   ],
   "source": [
    "# accuracy by group (2 dig, 4 dig)\n",
    "# hlaforest\n",
    "\n",
    "groupscsv = \"../results/standard/SraRunTable D2.csv\"\n",
    "goldstandard = \"/content/gdrive/MyDrive/HLA_analysis/datasets/2_gs_corrected.csv\"\n",
    "predictions = \"../results/standard/hlaforest_d2.csv\"\n",
    "pre = pd.read_csv(predictions)\n",
    "gs = pd.read_csv(goldstandard)\n",
    "groups = pd.read_csv(groupscsv)\n",
    "\n",
    "hlaforestresults = list()\n",
    "\n",
    "for group, df_by_group in groups.groupby('Population'):\n",
    "  accession_numbers = df_by_group['Run'].values.tolist()\n",
    "  gs_final = gs[gs['Run'].isin(accession_numbers)] #gs_final is a df containing the gold standard samples per population group\n",
    "  gs_final = gs_final.iloc[: , 1:]\n",
    "  ret = compute_matches(pre,gs_final)\n",
    "  hlaforestresults.append(ret)\n",
    "\n",
    "print(hlaforestresults)\n",
    "europeanresult = sum(hlaforestresults[0:4])\n",
    "results_combined = [europeanresult, hlaforestresults[4]]\n",
    "\n",
    "expected = chi2_contingency(results_combined)\n",
    "print(convert_to_percentage(results_combined))\n",
    "chisquare(results_combined,expected[3],axis=None)"
   ]
  },
  {
   "cell_type": "code",
   "execution_count": null,
   "metadata": {
    "colab": {
     "base_uri": "https://localhost:8080/"
    },
    "id": "p-cUXCn-0hTA",
    "outputId": "6aa242e8-6ee6-4dea-8073-46e818647e85"
   },
   "outputs": [
    {
     "name": "stdout",
     "output_type": "stream",
     "text": [
      "[[0.00512214342001576, 0.007880220646178092, 0.9869976359338062], [0.0, 0.024875621890547265, 0.9751243781094527]]\n"
     ]
    },
    {
     "data": {
      "text/plain": [
       "Power_divergenceResult(statistic=11.932092398836012, pvalue=0.03573021274537354)"
      ]
     },
     "execution_count": 29,
     "metadata": {},
     "output_type": "execute_result"
    }
   ],
   "source": [
    "# accuracy by group (2 dig, 4 dig)\n",
    "# optitype\n",
    "\n",
    "groupscsv = \"../results/standard/SraRunTable D2.csv\"\n",
    "goldstandard = \"/content/gdrive/MyDrive/HLA_analysis/datasets/2_gs_corrected.csv\"\n",
    "predictions = \"../results/standard/optitype_d2.csv\"\n",
    "pre = pd.read_csv(predictions)\n",
    "gs = pd.read_csv(goldstandard)\n",
    "groups = pd.read_csv(groupscsv)\n",
    "optityperesults = list()\n",
    "\n",
    "for group, df_by_group in groups.groupby('Population'):\n",
    "  accession_numbers = df_by_group['Run'].values.tolist()\n",
    "  gs_final = gs[gs['Run'].isin(accession_numbers)] #gs_final is a df containing the gold standard samples per population group\n",
    "  gs_final = gs_final.iloc[: , 1:]\n",
    "  ret = compute_matches(pre,gs_final)\n",
    "  optityperesults.append(ret)\n",
    "\n",
    "europeanresult = sum(optityperesults[0:4])\n",
    "results_combined = [europeanresult, optityperesults[4]]\n",
    "\n",
    "expected = chi2_contingency(results_combined)\n",
    "print(convert_to_percentage(results_combined))\n",
    "chisquare(results_combined,expected[3],axis=None)"
   ]
  },
  {
   "cell_type": "code",
   "execution_count": null,
   "metadata": {
    "colab": {
     "base_uri": "https://localhost:8080/"
    },
    "id": "B0ox2cSz0ngs",
    "outputId": "a4bcbb64-e681-44bb-8389-76f858f80956"
   },
   "outputs": [
    {
     "name": "stdout",
     "output_type": "stream",
     "text": [
      "[(93, 83, 774), (116, 83, 941), (91, 96, 923), (116, 85, 829), (79, 106, 485)]\n",
      "[[0.0983451536643026, 0.08203309692671394, 0.8196217494089835], [0.11791044776119403, 0.1582089552238806, 0.7238805970149254]]\n"
     ]
    },
    {
     "data": {
      "text/plain": [
       "Power_divergenceResult(statistic=45.06895717425329, pvalue=1.4047887432645075e-08)"
      ]
     },
     "execution_count": 60,
     "metadata": {},
     "output_type": "execute_result"
    }
   ],
   "source": [
    "# accuracy by group (2 dig, 4 dig)\n",
    "# phlat\n",
    "\n",
    "groupscsv = \"../results/standard/SraRunTable D2.csv\"\n",
    "goldstandard = \"/content/gdrive/MyDrive/HLA_analysis/datasets/2_gs_corrected.csv\"\n",
    "predictions = \"../results/standard/phlat_d2.csv\"\n",
    "pre = pd.read_csv(predictions)\n",
    "gs = pd.read_csv(goldstandard)\n",
    "groups = pd.read_csv(groupscsv)\n",
    "phlatresults = list()\n",
    "\n",
    "for group, df_by_group in groups.groupby('Population'):\n",
    "  accession_numbers = df_by_group['Run'].values.tolist()\n",
    "  gs_final = gs[gs['Run'].isin(accession_numbers)] #gs_final is a df containing the gold standard samples per population group\n",
    "  gs_final = gs_final.iloc[: , 1:]\n",
    "  ret = compute_matches(pre,gs_final)\n",
    "  phlatresults.append(ret)\n",
    "\n",
    "\n",
    "europeanresult = sum(phlatresults[0:4])\n",
    "results_combined = [europeanresult, phlatresults[4]]\n",
    "\n",
    "expected = chi2_contingency(results_combined)\n",
    "print(convert_to_percentage(results_combined))\n",
    "chisquare(results_combined,expected[3],axis=None)"
   ]
  },
  {
   "cell_type": "code",
   "execution_count": null,
   "metadata": {
    "colab": {
     "base_uri": "https://localhost:8080/"
    },
    "id": "e6DIHwYNZ6_5",
    "outputId": "5f0d33c2-62a9-4a67-fd6e-a98206e17b80"
   },
   "outputs": [
    {
     "name": "stdout",
     "output_type": "stream",
     "text": [
      "[(30, 34, 696), (14, 27, 871), (13, 30, 845), (12, 29, 783), (14, 34, 488)]\n",
      "[[0.020390070921985817, 0.03546099290780142, 0.9441489361702128], [0.026119402985074626, 0.06343283582089553, 0.9104477611940298]]\n"
     ]
    },
    {
     "data": {
      "text/plain": [
       "Power_divergenceResult(statistic=10.492140608011637, pvalue=0.06243279193441079)"
      ]
     },
     "execution_count": 61,
     "metadata": {},
     "output_type": "execute_result"
    }
   ],
   "source": [
    "# accuracy by group (2 dig, 4 dig)\n",
    "# seq2hla\n",
    "\n",
    "groupscsv = \"../results/standard/SraRunTable D2.csv\"\n",
    "goldstandard = \"/content/gdrive/MyDrive/HLA_analysis/datasets/2_gs_corrected.csv\"\n",
    "predictions = \"../results/standard/seq2hla_d2.csv\"\n",
    "groups = pd.read_csv(groupscsv)\n",
    "gs = pd.read_csv(goldstandard)\n",
    "pre = pd.read_csv(predictions)\n",
    "seq2hlaresults = list()\n",
    "\n",
    "\n",
    "for group, df_by_group in groups.groupby('Population'):\n",
    "  accession_numbers = df_by_group['Run'].values.tolist()\n",
    "  gs_final = gs[gs['Run'].isin(accession_numbers)] #gs_final is a df containing the gold standard samples per population group\n",
    "  gs_final = gs_final.iloc[: , 1:]\n",
    "  ret = compute_matches(pre,gs_final)\n",
    "  seq2hlaresults.append(ret)\n",
    "\n",
    "europeanresult = sum(seq2hlaresults[0:4])\n",
    "results_combined = [europeanresult, seq2hlaresults[4]]\n",
    "\n",
    "expected = chi2_contingency(results_combined)\n",
    "print(convert_to_percentage(results_combined))\n",
    "chisquare(results_combined,expected[3],axis=None)"
   ]
  },
  {
   "cell_type": "code",
   "execution_count": null,
   "metadata": {
    "colab": {
     "base_uri": "https://localhost:8080/"
    },
    "id": "Sek1uDFX0ANO",
    "outputId": "170e0e36-9e0c-42f2-95ab-81c180c0285e"
   },
   "outputs": [
    {
     "name": "stdout",
     "output_type": "stream",
     "text": [
      "     none accurate  2 digit accuracy  4 digit accuracy\n",
      "CEU       0.047368          0.089474          0.863158\n",
      "FIN       0.037668          0.064241          0.898091\n",
      "GBR       0.031267          0.080021          0.888712\n",
      "TSI       0.047687          0.087093          0.865220\n",
      "YRI       0.061457          0.126866          0.811677\n",
      "[[0.04060631344736476, 0.07961340564594632, 0.8797802809066889], [0.061457418788410885, 0.12686567164179105, 0.8116769095697981]]\n",
      "Power_divergenceResult(statistic=81.16371396223006, pvalue=4.79001113522553e-16)\n"
     ]
    }
   ],
   "source": [
    "#overall\n",
    "results = [hlaforestresults,optityperesults,seq2hlaresults, phlatresults]\n",
    "overall = [[0, 0, 0], [0, 0, 0], [0, 0, 0], [0, 0, 0], [0, 0, 0]]\n",
    "\n",
    "for tool in results:\n",
    "  for i in range(0,5):\n",
    "    overall[i][0] += tool[i][0] \n",
    "    overall[i][1] += tool[i][1] \n",
    "    overall[i][2] += tool[i][2] \n",
    "\n",
    "\n",
    "percentage = convert_to_percentage(overall)\n",
    "df2 = pd.DataFrame (percentage, columns = ['none accurate','2 digit accuracy','4 digit accuracy'],index = ['CEU', 'FIN', 'GBR', 'TSI', 'YRI'])\n",
    "print(df2)\n",
    "\n",
    "europeanresult = sum(overall[0:4])\n",
    "results_combined = [europeanresult, overall[4]]\n",
    "print(convert_to_percentage(results_combined))\n",
    "\n",
    "expected = chi2_contingency(results_combined)\n",
    "print(chisquare(results_combined,expected[3],axis=None))"
   ]
  },
  {
   "cell_type": "code",
   "execution_count": null,
   "metadata": {
    "id": "uSMh0mJQ7qrL"
   },
   "outputs": [],
   "source": [
    "# function to compute accuracy split by class 1/class2\n",
    "def accuracysplitbyclass(pre,gs):\n",
    "  gs_class1 = gs.iloc[: , :7]\n",
    "  gs_class2 = gs.iloc[: , [0,7,8,9,10]]\n",
    "\n",
    "  ret1 = compute_matches(pre,gs_class1)\n",
    "  ret2 = compute_matches(pre,gs_class2)\n",
    "\n",
    "  return ret1,ret2"
   ]
  },
  {
   "cell_type": "code",
   "execution_count": null,
   "metadata": {
    "colab": {
     "base_uri": "https://localhost:8080/"
    },
    "id": "EAmnr97j48Qo",
    "outputId": "2598f3ef-b364-4d36-a739-0a8a0e2fc573"
   },
   "outputs": [
    {
     "name": "stdout",
     "output_type": "stream",
     "text": [
      "[[0.03163265306122449, 0.17312925170068028, 0.7952380952380952], [0.030272108843537416, 0.09727891156462586, 0.8724489795918368], [0.01292517006802721, 0.04047619047619048, 0.9465986394557823]]\n",
      "[[0.02040816326530612, 0.1469387755102041, 0.8326530612244898], [0.20714285714285716, 0.08520408163265306, 0.7076530612244898], [0.04591836734693878, 0.03571428571428571, 0.9183673469387755]]\n"
     ]
    }
   ],
   "source": [
    "# overall accuracy split by class1/class2 (not splitting by ancestry group)\n",
    "goldstandard = \"/content/gdrive/MyDrive/HLA_analysis/datasets/2_gs.csv\"\n",
    "gs = pd.read_csv(goldstandard)\n",
    "class1data = list()\n",
    "class2data = list()\n",
    "\n",
    "#HLAforest\n",
    "predictions = \"../results/standard/hlaforest_d2.csv\"\n",
    "pre = pd.read_csv(predictions)\n",
    "ret = accuracysplitbyclass(pre,gs)\n",
    "class1data.append(ret[0])\n",
    "class2data.append(ret[1])\n",
    "\n",
    "#PHLAT\n",
    "predictions = \"../results/standard/phlat_d2.csv\"\n",
    "pre = pd.read_csv(predictions)\n",
    "ret = accuracysplitbyclass(pre,gs)\n",
    "class1data.append(ret[0])\n",
    "class2data.append(ret[1])\n",
    "\n",
    "#seq2hla\n",
    "predictions = \"../results/standard/seq2hla_d2.csv\"\n",
    "pre = pd.read_csv(predictions)\n",
    "ret = accuracysplitbyclass(pre,gs)\n",
    "class1data.append(ret[0])\n",
    "class2data.append(ret[1])\n",
    "\n",
    "mytype = [\"HLAforest\",\"PHLAT\",\"Seq2HLA\"]\n",
    "percentaccuracy_class1 = convert_to_percentage(class1data)  \n",
    "print(percentaccuracy_class1)\n",
    "percentaccuracy_class2 = convert_to_percentage(class2data)  \n",
    "print(percentaccuracy_class2)\n"
   ]
  },
  {
   "cell_type": "code",
   "execution_count": null,
   "metadata": {
    "colab": {
     "base_uri": "https://localhost:8080/",
     "height": 279
    },
    "id": "vNfsN0MO_Dan",
    "outputId": "5bb587e4-edf4-4cb0-c76f-77326e11a137"
   },
   "outputs": [
    {
     "data": {
      "image/png": "[encoded data removed]",
      "text/plain": [
       "<Figure size 432x288 with 1 Axes>"
      ]
     },
     "metadata": {
      "needs_background": "light"
     },
     "output_type": "display_data"
    }
   ],
   "source": [
    "class1accuracy = [0.7952380952380952,0.8724489795918368,0.9465986394557823]\n",
    "class2accuracy = [ 0.8326530612244898,0.7076530612244898,0.9183673469387755]\n",
    "ind = np.arange(3)\n",
    "plt.bar(ind,class1accuracy , 0.3,label='Blue bar label')\n",
    "plt.bar(ind+0.3,class2accuracy, 0.3,label='Orange bar label')\n",
    "plt.xticks(ind + 0.3 / 2, ('HLAforest', 'PHLAT', 'Seq2HLA'))\n",
    "plt.xlabel('Tools')\n",
    "plt.ylabel('Accuracy')\n",
    "plt.show()"
   ]
  },
  {
   "cell_type": "code",
   "execution_count": null,
   "metadata": {
    "colab": {
     "base_uri": "https://localhost:8080/"
    },
    "id": "FCb4_UOCS_HP",
    "outputId": "f787d011-a1a3-45a2-cffe-6cc1e41b1bec"
   },
   "outputs": [
    {
     "name": "stdout",
     "output_type": "stream",
     "text": [
      "[[0.022458628841607566, 0.1765169424743893, 0.8010244286840031], [0.08955223880597014, 0.1517412935323383, 0.7587064676616916]]\n",
      "Power_divergenceResult(statistic=51.39712444949445, pvalue=7.170964536021595e-10)\n",
      "[[0.017139479905437353, 0.12411347517730496, 0.8587470449172577], [0.041044776119402986, 0.291044776119403, 0.667910447761194]]\n"
     ]
    },
    {
     "data": {
      "text/plain": [
       "Power_divergenceResult(statistic=60.47246255511484, pvalue=9.70707847079323e-12)"
      ]
     },
     "execution_count": 21,
     "metadata": {},
     "output_type": "execute_result"
    }
   ],
   "source": [
    "# hlaforest\n",
    "\n",
    "groupscsv = \"../results/standard/SraRunTable D2.csv\"\n",
    "goldstandard = \"/content/gdrive/MyDrive/HLA_analysis/datasets/2_gs_corrected.csv\"\n",
    "predictions = \"../results/standard/hlaforest_d2.csv\"\n",
    "pre = pd.read_csv(predictions)\n",
    "gs = pd.read_csv(goldstandard)\n",
    "groups = pd.read_csv(groupscsv)\n",
    "\n",
    "hlaforestresults_class1 = list()\n",
    "hlaforestresults_class2 = list()\n",
    "\n",
    "for group, df_by_group in groups.groupby('Population'):\n",
    "  accession_numbers = df_by_group['Run'].values.tolist()\n",
    "  gs_final = gs[gs['Run'].isin(accession_numbers)] #gs_final is a df containing the gold standard samples per population group\n",
    "  gs_final = gs_final.iloc[: , 1:]\n",
    "  ret = accuracysplitbyclass(pre,gs_final)\n",
    "  hlaforestresults_class1.append(ret[0])\n",
    "  hlaforestresults_class2.append(ret[1])\n",
    "\n",
    "\n",
    "europeanresult_class1 = sum(hlaforestresults_class1[0:4])\n",
    "results_combined_class1 = [europeanresult_class1, hlaforestresults_class1[4]]\n",
    "\n",
    "expected = chi2_contingency(results_combined_class1)\n",
    "print(convert_to_percentage(results_combined_class1))\n",
    "print(chisquare(results_combined_class1,expected[3],axis=None))\n",
    "\n",
    "europeanresult_class2 = sum(hlaforestresults_class2[0:4])\n",
    "results_combined_class2 = [europeanresult_class2, hlaforestresults_class2[4]]\n",
    "\n",
    "expected = chi2_contingency(results_combined_class2)\n",
    "print(convert_to_percentage(results_combined_class2))\n",
    "chisquare(results_combined_class2,expected[3],axis=None)"
   ]
  },
  {
   "cell_type": "code",
   "execution_count": null,
   "metadata": {
    "colab": {
     "base_uri": "https://localhost:8080/"
    },
    "id": "koCYZhC5T9VS",
    "outputId": "f804d80c-5d15-4728-fcdc-e193a30712d0"
   },
   "outputs": [
    {
     "name": "stdout",
     "output_type": "stream",
     "text": [
      "[[0.027580772261623327, 0.08944050433412136, 0.8829787234042553], [0.0472636815920398, 0.14676616915422885, 0.8059701492537313]]\n",
      "Power_divergenceResult(statistic=18.523453621382085, pvalue=0.00235710078377237)\n",
      "[[0.2044917257683215, 0.07092198581560284, 0.7245862884160756], [0.22388059701492538, 0.17537313432835822, 0.6007462686567164]]\n"
     ]
    },
    {
     "data": {
      "text/plain": [
       "Power_divergenceResult(statistic=35.05792463570548, pvalue=1.4651264587626367e-06)"
      ]
     },
     "execution_count": 22,
     "metadata": {},
     "output_type": "execute_result"
    }
   ],
   "source": [
    "# phlat\n",
    "\n",
    "groupscsv = \"../results/standard/SraRunTable D2.csv\"\n",
    "goldstandard = \"/content/gdrive/MyDrive/HLA_analysis/datasets/2_gs_corrected.csv\"\n",
    "predictions = \"../results/standard/phlat_d2.csv\"\n",
    "pre = pd.read_csv(predictions)\n",
    "gs = pd.read_csv(goldstandard)\n",
    "groups = pd.read_csv(groupscsv)\n",
    "\n",
    "phlatresults_class1 = list()\n",
    "phlatresults_class2 = list()\n",
    "\n",
    "for group, df_by_group in groups.groupby('Population'):\n",
    "  accession_numbers = df_by_group['Run'].values.tolist()\n",
    "  gs_final = gs[gs['Run'].isin(accession_numbers)] #gs_final is a df containing the gold standard samples per population group\n",
    "  gs_final = gs_final.iloc[: , 1:]\n",
    "  ret = accuracysplitbyclass(pre,gs_final)\n",
    "  phlatresults_class1.append(ret[0])\n",
    "  phlatresults_class2.append(ret[1])\n",
    "\n",
    "\n",
    "europeanresult_class1 = sum(phlatresults_class1[0:4])\n",
    "results_combined_class1 = [europeanresult_class1, phlatresults_class1[4]]\n",
    "\n",
    "expected = chi2_contingency(results_combined_class1)\n",
    "print(convert_to_percentage(results_combined_class1))\n",
    "print(chisquare(results_combined_class1,expected[3],axis=None))\n",
    "\n",
    "europeanresult_class2 = sum(phlatresults_class2[0:4])\n",
    "results_combined_class2 = [europeanresult_class2, phlatresults_class2[4]]\n",
    "\n",
    "expected = chi2_contingency(results_combined_class2)\n",
    "print(convert_to_percentage(results_combined_class2))\n",
    "chisquare(results_combined_class2,expected[3],axis=None)"
   ]
  },
  {
   "cell_type": "code",
   "execution_count": null,
   "metadata": {
    "colab": {
     "base_uri": "https://localhost:8080/"
    },
    "id": "c8LiL2erT9w1",
    "outputId": "6a9178f0-b6a5-40a5-8463-9bb4d8374eac"
   },
   "outputs": [
    {
     "name": "stdout",
     "output_type": "stream",
     "text": [
      "[[0.013002364066193853, 0.036249014972419225, 0.9507486209613869], [0.012437810945273632, 0.06716417910447761, 0.9203980099502488]]\n",
      "Power_divergenceResult(statistic=8.54060091014197, pvalue=0.12885173954823473)\n",
      "[[0.0425531914893617, 0.03309692671394799, 0.9243498817966903], [0.06716417910447761, 0.05223880597014925, 0.8805970149253731]]\n"
     ]
    },
    {
     "data": {
      "text/plain": [
       "Power_divergenceResult(statistic=2.9538046567791456, pvalue=0.7071078236709976)"
      ]
     },
     "execution_count": 23,
     "metadata": {},
     "output_type": "execute_result"
    }
   ],
   "source": [
    "# seq2hla\n",
    "\n",
    "groupscsv = \"../results/standard/SraRunTable D2.csv\"\n",
    "goldstandard = \"/content/gdrive/MyDrive/HLA_analysis/datasets/2_gs_corrected.csv\"\n",
    "predictions = \"../results/standard/seq2hla_d2.csv\"\n",
    "pre = pd.read_csv(predictions)\n",
    "gs = pd.read_csv(goldstandard)\n",
    "groups = pd.read_csv(groupscsv)\n",
    "\n",
    "seq2hlaresults_class1 = list()\n",
    "seq2hlaresults_class2 = list()\n",
    "\n",
    "for group, df_by_group in groups.groupby('Population'):\n",
    "  accession_numbers = df_by_group['Run'].values.tolist()\n",
    "  gs_final = gs[gs['Run'].isin(accession_numbers)] #gs_final is a df containing the gold standard samples per population group\n",
    "  gs_final = gs_final.iloc[: , 1:]\n",
    "  ret = accuracysplitbyclass(pre,gs_final)\n",
    "  seq2hlaresults_class1.append(ret[0])\n",
    "  seq2hlaresults_class2.append(ret[1])\n",
    "\n",
    "\n",
    "europeanresult_class1 = sum(seq2hlaresults_class1[0:4])\n",
    "results_combined_class1 = [europeanresult_class1, seq2hlaresults_class1[4]]\n",
    "\n",
    "expected = chi2_contingency(results_combined_class1)\n",
    "print(convert_to_percentage(results_combined_class1))\n",
    "print(chisquare(results_combined_class1,expected[3],axis=None))\n",
    "\n",
    "europeanresult_class2 = sum(seq2hlaresults_class2[0:4])\n",
    "results_combined_class2 = [europeanresult_class2, seq2hlaresults_class2[4]]\n",
    "\n",
    "expected = chi2_contingency(results_combined_class2)\n",
    "print(convert_to_percentage(results_combined_class2))\n",
    "chisquare(results_combined_class2,expected[3],axis=None)"
   ]
  },
  {
   "cell_type": "code",
   "execution_count": null,
   "metadata": {
    "colab": {
     "base_uri": "https://localhost:8080/"
    },
    "id": "GfURdmB0rexY",
    "outputId": "3dc29fb9-9db1-43ef-af9b-e4312712fe60"
   },
   "outputs": [
    {
     "name": "stdout",
     "output_type": "stream",
     "text": [
      "[[0.014578408195429472, 0.05003940110323089, 0.9353821907013397], [0.009950248756218905, 0.07462686567164178, 0.9154228855721394]]\n",
      "Power_divergenceResult(statistic=4.60992985458341, pvalue=0.46531125855725763)\n",
      "[[0.001182033096926714, 0.08096926713947991, 0.9178486997635934], [0.014925373134328358, 0.22014925373134328, 0.7649253731343284]]\n"
     ]
    },
    {
     "data": {
      "text/plain": [
       "Power_divergenceResult(statistic=65.12273852098403, pvalue=1.0569233948529745e-12)"
      ]
     },
     "execution_count": 24,
     "metadata": {},
     "output_type": "execute_result"
    }
   ],
   "source": [
    "# arcas\n",
    "\n",
    "groupscsv = \"../results/standard/SraRunTable D2.csv\"\n",
    "goldstandard = \"/content/gdrive/MyDrive/HLA_analysis/datasets/2_gs_corrected.csv\"\n",
    "predictions = \"../results/standard/arcas_d2.csv\"\n",
    "pre = pd.read_csv(predictions)\n",
    "gs = pd.read_csv(goldstandard)\n",
    "groups = pd.read_csv(groupscsv)\n",
    "\n",
    "arcasresults_class1 = list()\n",
    "arcasresults_class2 = list()\n",
    "\n",
    "for group, df_by_group in groups.groupby('Population'):\n",
    "  accession_numbers = df_by_group['Run'].values.tolist()\n",
    "  gs_final = gs[gs['Run'].isin(accession_numbers)] #gs_final is a df containing the gold standard samples per population group\n",
    "  gs_final = gs_final.iloc[: , 1:]\n",
    "  ret = accuracysplitbyclass(pre,gs_final)\n",
    "  arcasresults_class1.append(ret[0])\n",
    "  arcasresults_class2.append(ret[1])\n",
    "\n",
    "\n",
    "europeanresult_class1 = sum(arcasresults_class1[0:4])\n",
    "results_combined_class1 = [europeanresult_class1, arcasresults_class1[4]]\n",
    "\n",
    "expected = chi2_contingency(results_combined_class1)\n",
    "print(convert_to_percentage(results_combined_class1))\n",
    "print(chisquare(results_combined_class1,expected[3],axis=None))\n",
    "\n",
    "europeanresult_class2 = sum(arcasresults_class2[0:4])\n",
    "results_combined_class2 = [europeanresult_class2, arcasresults_class2[4]]\n",
    "\n",
    "expected = chi2_contingency(results_combined_class2)\n",
    "print(convert_to_percentage(results_combined_class2))\n",
    "chisquare(results_combined_class2,expected[3],axis=None)"
   ]
  },
  {
   "cell_type": "code",
   "execution_count": null,
   "metadata": {
    "colab": {
     "base_uri": "https://localhost:8080/"
    },
    "id": "7Q4vb1VhrfL8",
    "outputId": "76718e64-bcd4-4893-dce7-fc817b18bee6"
   },
   "outputs": [
    {
     "name": "stdout",
     "output_type": "stream",
     "text": [
      "[[0.09574468085106383, 0.06855791962174941, 0.8356973995271868], [0.10945273631840796, 0.12189054726368159, 0.7686567164179104]]\n",
      "Power_divergenceResult(statistic=15.568727491195661, pvalue=0.008189567755302218)\n",
      "[[0.9592198581560284, 0.017139479905437353, 0.02364066193853428], [0.9402985074626866, 0.022388059701492536, 0.03731343283582089]]\n"
     ]
    },
    {
     "data": {
      "text/plain": [
       "Power_divergenceResult(statistic=2.1389111181680267, pvalue=0.8296093461182767)"
      ]
     },
     "execution_count": 25,
     "metadata": {},
     "output_type": "execute_result"
    }
   ],
   "source": [
    "# hlavbseq\n",
    "\n",
    "groupscsv = \"../results/standard/SraRunTable D2.csv\"\n",
    "goldstandard = \"/content/gdrive/MyDrive/HLA_analysis/datasets/2_gs_corrected.csv\"\n",
    "predictions = \"../results/standard/hlavbseq_d2.csv\"\n",
    "pre = pd.read_csv(predictions)\n",
    "gs = pd.read_csv(goldstandard)\n",
    "groups = pd.read_csv(groupscsv)\n",
    "\n",
    "hlavbseqresults_class1 = list()\n",
    "hlavbseqresults_class2 = list()\n",
    "\n",
    "for group, df_by_group in groups.groupby('Population'):\n",
    "  accession_numbers = df_by_group['Run'].values.tolist()\n",
    "  gs_final = gs[gs['Run'].isin(accession_numbers)] #gs_final is a df containing the gold standard samples per population group\n",
    "  gs_final = gs_final.iloc[: , 1:]\n",
    "  ret = accuracysplitbyclass(pre,gs_final)\n",
    "  hlavbseqresults_class1.append(ret[0])\n",
    "  hlavbseqresults_class2.append(ret[1])\n",
    "\n",
    "\n",
    "europeanresult_class1 = sum(hlavbseqresults_class1[0:4])\n",
    "results_combined_class1 = [europeanresult_class1, hlavbseqresults_class1[4]]\n",
    "\n",
    "expected = chi2_contingency(results_combined_class1)\n",
    "print(convert_to_percentage(results_combined_class1))\n",
    "print(chisquare(results_combined_class1,expected[3],axis=None))\n",
    "\n",
    "europeanresult_class2 = sum(hlavbseqresults_class2[0:4])\n",
    "results_combined_class2 = [europeanresult_class2, hlavbseqresults_class2[4]]\n",
    "\n",
    "expected = chi2_contingency(results_combined_class2)\n",
    "print(convert_to_percentage(results_combined_class2))\n",
    "chisquare(results_combined_class2,expected[3],axis=None)"
   ]
  },
  {
   "cell_type": "code",
   "execution_count": null,
   "metadata": {
    "colab": {
     "base_uri": "https://localhost:8080/"
    },
    "id": "UDuTjSgjrfr-",
    "outputId": "65706bd3-8ab1-49c0-f50a-6c50bb6b8ac5"
   },
   "outputs": [
    {
     "name": "stdout",
     "output_type": "stream",
     "text": [
      "[[0.06501182033096926, 0.3605200945626478, 0.574468085106383], [0.08208955223880597, 0.3656716417910448, 0.5522388059701493]]\n",
      "Power_divergenceResult(statistic=1.828431469291361, pvalue=0.8723387813685723)\n",
      "[[0.0425531914893617, 0.14598108747044916, 0.8114657210401891], [0.07835820895522388, 0.2537313432835821, 0.667910447761194]]\n"
     ]
    },
    {
     "data": {
      "text/plain": [
       "Power_divergenceResult(statistic=28.985306696610746, pvalue=2.3341992558512478e-05)"
      ]
     },
     "execution_count": 26,
     "metadata": {},
     "output_type": "execute_result"
    }
   ],
   "source": [
    "# bwakit\n",
    "\n",
    "groupscsv = \"../results/standard/SraRunTable D2.csv\"\n",
    "goldstandard = \"/content/gdrive/MyDrive/HLA_analysis/datasets/2_gs_corrected.csv\"\n",
    "predictions = \"../results/standard/bwa.kit_d2.csv\"\n",
    "pre = pd.read_csv(predictions)\n",
    "gs = pd.read_csv(goldstandard)\n",
    "groups = pd.read_csv(groupscsv)\n",
    "\n",
    "bwakitresults_class1 = list()\n",
    "bwakitresults_class2 = list()\n",
    "\n",
    "for group, df_by_group in groups.groupby('Population'):\n",
    "  accession_numbers = df_by_group['Run'].values.tolist()\n",
    "  gs_final = gs[gs['Run'].isin(accession_numbers)] #gs_final is a df containing the gold standard samples per population group\n",
    "  gs_final = gs_final.iloc[: , 1:]\n",
    "  ret = accuracysplitbyclass(pre,gs_final)\n",
    "  bwakitresults_class1.append(ret[0])\n",
    "  bwakitresults_class2.append(ret[1])\n",
    "\n",
    "\n",
    "europeanresult_class1 = sum(bwakitresults_class1[0:4])\n",
    "results_combined_class1 = [europeanresult_class1, bwakitresults_class1[4]]\n",
    "\n",
    "expected = chi2_contingency(results_combined_class1)\n",
    "print(convert_to_percentage(results_combined_class1))\n",
    "print(chisquare(results_combined_class1,expected[3],axis=None))\n",
    "\n",
    "europeanresult_class2 = sum(bwakitresults_class2[0:4])\n",
    "results_combined_class2 = [europeanresult_class2, bwakitresults_class2[4]]\n",
    "\n",
    "expected = chi2_contingency(results_combined_class2)\n",
    "print(convert_to_percentage(results_combined_class2))\n",
    "chisquare(results_combined_class2,expected[3],axis=None)"
   ]
  },
  {
   "cell_type": "code",
   "execution_count": null,
   "metadata": {
    "colab": {
     "base_uri": "https://localhost:8080/"
    },
    "id": "pVPqZt2mrf9J",
    "outputId": "d0aeafe7-8154-4de7-bc61-072365024e4f"
   },
   "outputs": [
    {
     "name": "stdout",
     "output_type": "stream",
     "text": [
      "[[0.013002364066193853, 0.036249014972419225, 0.9507486209613869], [0.012437810945273632, 0.06716417910447761, 0.9203980099502488]]\n",
      "Power_divergenceResult(statistic=8.54060091014197, pvalue=0.12885173954823473)\n",
      "[[0.0425531914893617, 0.03309692671394799, 0.9243498817966903], [0.06716417910447761, 0.05223880597014925, 0.8805970149253731]]\n"
     ]
    },
    {
     "data": {
      "text/plain": [
       "Power_divergenceResult(statistic=2.9538046567791456, pvalue=0.7071078236709976)"
      ]
     },
     "execution_count": 27,
     "metadata": {},
     "output_type": "execute_result"
    }
   ],
   "source": [
    "# rna2hla\n",
    "\n",
    "groupscsv = \"../results/standard/SraRunTable D2.csv\"\n",
    "goldstandard = \"/content/gdrive/MyDrive/HLA_analysis/datasets/2_gs_corrected.csv\"\n",
    "predictions = \"../results/standard/rna2hla_d2.csv\"\n",
    "pre = pd.read_csv(predictions)\n",
    "gs = pd.read_csv(goldstandard)\n",
    "groups = pd.read_csv(groupscsv)\n",
    "\n",
    "rna2hlaresults_class1 = list()\n",
    "rna2hlaresults_class2 = list()\n",
    "\n",
    "for group, df_by_group in groups.groupby('Population'):\n",
    "  accession_numbers = df_by_group['Run'].values.tolist()\n",
    "  gs_final = gs[gs['Run'].isin(accession_numbers)] #gs_final is a df containing the gold standard samples per population group\n",
    "  gs_final = gs_final.iloc[: , 1:]\n",
    "  ret = accuracysplitbyclass(pre,gs_final)\n",
    "  rna2hlaresults_class1.append(ret[0])\n",
    "  rna2hlaresults_class2.append(ret[1])\n",
    "\n",
    "\n",
    "europeanresult_class1 = sum(rna2hlaresults_class1[0:4])\n",
    "results_combined_class1 = [europeanresult_class1, rna2hlaresults_class1[4]]\n",
    "\n",
    "expected = chi2_contingency(results_combined_class1)\n",
    "print(convert_to_percentage(results_combined_class1))\n",
    "print(chisquare(results_combined_class1,expected[3],axis=None))\n",
    "\n",
    "europeanresult_class2 = sum(rna2hlaresults_class2[0:4])\n",
    "results_combined_class2 = [europeanresult_class2, rna2hlaresults_class2[4]]\n",
    "\n",
    "expected = chi2_contingency(results_combined_class2)\n",
    "print(convert_to_percentage(results_combined_class2))\n",
    "chisquare(results_combined_class2,expected[3],axis=None)"
   ]
  },
  {
   "cell_type": "code",
   "execution_count": null,
   "metadata": {
    "colab": {
     "base_uri": "https://localhost:8080/"
    },
    "id": "xMw6ss6BUAkU",
    "outputId": "2993cf54-1421-4147-e899-214b3a50f022"
   },
   "outputs": [
    {
     "name": "stdout",
     "output_type": "stream",
     "text": [
      "     none accurate  2 digit accuracy  4 digit accuracy\n",
      "CEU       0.041228          0.109211          0.849561\n",
      "FIN       0.027778          0.094846          0.877376\n",
      "GBR       0.024962          0.106982          0.868056\n",
      "TSI       0.036003          0.102751          0.861246\n",
      "YRI       0.045398          0.127488          0.827114\n",
      "[[0.032062647754137114, 0.10318163908589441, 0.8647557131599685], [0.04539800995024876, 0.12748756218905472, 0.8271144278606966]]\n",
      "Power_divergenceResult(statistic=34.54543614376724, pvalue=1.853965782814321e-06)\n"
     ]
    }
   ],
   "source": [
    "# overall  class 1\n",
    "results = [hlaforestresults_class1,optityperesults,seq2hlaresults_class1, phlatresults_class1,arcasresults_class1,hlavbseqresults_class1,bwakitresults_class1,rna2hlaresults_class1]\n",
    "overall = [[0, 0, 0], [0, 0, 0], [0, 0, 0], [0, 0, 0], [0, 0, 0]]\n",
    "\n",
    "for tool in results:\n",
    "  for i in range(0,5):\n",
    "    overall[i][0] += tool[i][0] \n",
    "    overall[i][1] += tool[i][1] \n",
    "    overall[i][2] += tool[i][2] \n",
    "\n",
    "\n",
    "percentage = convert_to_percentage(overall)\n",
    "df2 = pd.DataFrame (percentage, columns = ['none accurate','2 digit accuracy','4 digit accuracy'],index = ['CEU', 'FIN', 'GBR', 'TSI', 'YRI'])\n",
    "print(df2)\n",
    "\n",
    "europeanresult = sum(overall[0:4])\n",
    "results_combined = [europeanresult, overall[4]]\n",
    "print(convert_to_percentage(results_combined))\n",
    "\n",
    "expected = chi2_contingency(results_combined)\n",
    "print(chisquare(results_combined,expected[3],axis=None))\n"
   ]
  },
  {
   "cell_type": "code",
   "execution_count": null,
   "metadata": {
    "colab": {
     "base_uri": "https://localhost:8080/"
    },
    "id": "X9U0bGYw4ai5",
    "outputId": "8b9429da-27ac-4d38-b4dd-925b9a815d69"
   },
   "outputs": [
    {
     "name": "stdout",
     "output_type": "stream",
     "text": [
      "     none accurate  2 digit accuracy  4 digit accuracy\n",
      "CEU       0.211404          0.103947          0.684649\n",
      "FIN       0.211988          0.060307          0.727705\n",
      "GBR       0.201952          0.074324          0.723724\n",
      "TSI       0.220065          0.080502          0.699434\n",
      "YRI       0.227612          0.169154          0.603234\n",
      "[[0.2111899133175729, 0.0787037037037037, 0.7101063829787234], [0.22761194029850745, 0.1691542288557214, 0.6032338308457711]]\n",
      "Power_divergenceResult(statistic=149.25166069457748, pvalue=1.926686521352357e-30)\n"
     ]
    }
   ],
   "source": [
    "# overall  class 2\n",
    "results = [hlaforestresults_class2,seq2hlaresults_class2, phlatresults_class2,arcasresults_class2,hlavbseqresults_class2,bwakitresults_class2,rna2hlaresults_class2]\n",
    "overall = [[0, 0, 0], [0, 0, 0], [0, 0, 0], [0, 0, 0], [0, 0, 0]]\n",
    "\n",
    "for tool in results:\n",
    "  for i in range(0,5):\n",
    "    overall[i][0] += tool[i][0] \n",
    "    overall[i][1] += tool[i][1] \n",
    "    overall[i][2] += tool[i][2] \n",
    "\n",
    "\n",
    "percentage = convert_to_percentage(overall)\n",
    "df2 = pd.DataFrame (percentage, columns = ['none accurate','2 digit accuracy','4 digit accuracy'],index = ['CEU', 'FIN', 'GBR', 'TSI', 'YRI'])\n",
    "print(df2)\n",
    "\n",
    "europeanresult = sum(overall[0:4])\n",
    "results_combined = [europeanresult, overall[4]]\n",
    "print(convert_to_percentage(results_combined))\n",
    "\n",
    "expected = chi2_contingency(results_combined)\n",
    "print(chisquare(results_combined,expected[3],axis=None))\n"
   ]
  }
 ],
 "metadata": {
  "colab": {
   "provenance": []
  },
  "kernelspec": {
   "display_name": "Python 3 (ipykernel)",
   "language": "python",
   "name": "python3"
  },
  "language_info": {
   "codemirror_mode": {
    "name": "ipython",
    "version": 3
   },
   "file_extension": ".py",
   "mimetype": "text/x-python",
   "name": "python",
   "nbconvert_exporter": "python",
   "pygments_lexer": "ipython3",
   "version": "3.9.12"
  },
  "vscode": {
   "interpreter": {
    "hash": "a5887580c7cbb0fe8c117cf89484cb0db59155905523768f16ba2f70bd8e79c7"
   }
  }
 },
 "nbformat": 4,
 "nbformat_minor": 1
}
