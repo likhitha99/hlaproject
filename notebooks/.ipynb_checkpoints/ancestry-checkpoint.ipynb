{
 "cells": [
  {
   "cell_type": "code",
   "execution_count": 46,
   "metadata": {
    "id": "pgfbVXL5Ywof"
   },
   "outputs": [],
   "source": [
    "import pandas as pd\n",
    "import numpy as np\n",
    "import seaborn as sns\n",
    "from scipy.stats import chi2_contingency\n",
    "from scipy.stats import chisquare"
   ]
  },
  {
   "cell_type": "markdown",
   "metadata": {},
   "source": [
    "# functions"
   ]
  },
  {
   "cell_type": "code",
   "execution_count": 9,
   "metadata": {
    "id": "j8nduzxDA6ov"
   },
   "outputs": [],
   "source": [
    "# converts only 1D or 2D array\n",
    "def convert_to_percentage(arr):\n",
    "    ret = list()\n",
    "\n",
    "    for row in arr:\n",
    "        count = 0\n",
    "        newrow = list()\n",
    "\n",
    "    for cell in row:\n",
    "        count = count+cell\n",
    "\n",
    "    for cell in row:\n",
    "        newrow.append(cell/count)\n",
    "\n",
    "    ret.append(newrow)\n",
    "    return ret"
   ]
  },
  {
   "cell_type": "code",
   "execution_count": 10,
   "metadata": {
    "id": "yvo-nmrmw9AM"
   },
   "outputs": [],
   "source": [
    "def fix(s):\n",
    "    firstcolon = s.find(\":\")\n",
    "    s_new = s[firstcolon-2:firstcolon] + s[firstcolon+1:firstcolon+3]\n",
    "    s_new = s_new.replace(\"*\", \"0\")\n",
    "    return s_new\n",
    "\n",
    "def compute_resolution(gs_val,pre_val):\n",
    "    gs_all = gs_val.split(\"/\")\n",
    "    pre_fixed = fix(pre_val)\n",
    "    flag = False #false = inaccurate, turn to true = 2 digits accurate\n",
    "    \n",
    "    for val in gs_all:\n",
    "        gs_fixed = fix(val)\n",
    "\n",
    "        if (gs_fixed[0:2] == pre_fixed[0:2]):\n",
    "            if (gs_fixed[2:4] == pre_fixed[2:4]):\n",
    "                return 4\n",
    "            flag = True\n",
    "        \n",
    "    return 2 if flag==True else 0"
   ]
  },
  {
   "cell_type": "code",
   "execution_count": 11,
   "metadata": {
    "id": "9WXthNPrZm0v"
   },
   "outputs": [],
   "source": [
    "# requirements: gs accession numbers are under a column labeled \"Run\" \n",
    "#pre accession numbers are under a column labeled \"ERR\" \n",
    "# accession numbers/column titles are labeled identically between gold standard and results csv\n",
    "# Only accuracy for samples in both GS and PRE are calculated. Samples in PRE, but not in GS are ignored. Samples in GS, but not in PRE, are tallied in the \"failed\" variable \n",
    "def compute_matches(pre,gs):\n",
    "\n",
    "    # index 0 is class I, index 1 is class II\n",
    "    fourdig = [0,0]\n",
    "    twodig = [0,0]\n",
    "    zerodig = [0,0]\n",
    "    fail = 0\n",
    "\n",
    "    d5 = ['Run', 'A', 'B']\n",
    "    d6 = ['Run', 'C']\n",
    "    classI = ['A','B','C']\n",
    "\n",
    "    accession_numbers = gs[\"Run\"].values.tolist()\n",
    "    genes = gs.columns.values.tolist()\n",
    "\n",
    "    for number in accession_numbers:\n",
    "        pre_row = pre.loc[pre['ERR'] == number]\n",
    "        gs_row = gs.loc[gs['Run'] == number]\n",
    "\n",
    "        # if we are working with d5 or d6, the monoallelic datasets\n",
    "        if (gs.columns.tolist() == d5 or gs.columns.tolist() == d6):\n",
    "            for i in range(1,len(genes)):\n",
    "                gs_val = gs_row[genes[i]].astype(str).values[0]\n",
    "                pre_val1 = pre_row[genes[i]].astype(str).values[0]\n",
    "                pre_val2 = pre_row[genes[i]+\".1\"].astype(str).values[0]\n",
    "\n",
    "                ans = max(compute_resolution(gs_val,pre_val1), compute_resolution(gs_val,pre_val2))\n",
    "                if (ans == 0):\n",
    "                    zerodig[0] = zerodig[0] + 1\n",
    "                if (ans == 2):\n",
    "                    twodig[0] = twodig[0] + 1\n",
    "                if (ans == 4):\n",
    "                    fourdig[0] = fourdig[0] + 1\n",
    "\n",
    "        # if we are working with d1-d4, the biallelic datasets\n",
    "        else:\n",
    "            for i in range(1,len(genes),2):\n",
    "                try:\n",
    "                    gs_val1 = gs_row[genes[i]].astype(str).values[0]\n",
    "                    pre_val1 = pre_row[genes[i]].astype(str).values[0]\n",
    "                    gs_val2 = gs_row[genes[i+1]].astype(str).values[0]\n",
    "                    pre_val2 = pre_row[genes[i+1]].astype(str).values[0]\n",
    "\n",
    "                    if gs_val1 == None or pre_val1 == None or gs_val2 == None or pre_val2 == None:\n",
    "                        fail = fail+1\n",
    "                        continue\n",
    "\n",
    "                    # assuming no swapping \n",
    "                    ans1 = compute_resolution(gs_val1,pre_val1)\n",
    "                    ans2 = compute_resolution(gs_val2,pre_val2)\n",
    "\n",
    "                    # assuming swapping\n",
    "                    ans3 = compute_resolution(gs_val1,pre_val2)\n",
    "                    ans4 = compute_resolution(gs_val2,pre_val1)\n",
    "\n",
    "                    if (ans1+ans2 > ans3+ans4):\n",
    "                        if (ans1 == 0):\n",
    "                            if classI.contains(pre_val1[0]):\n",
    "                                zerodig[0] += 1 \n",
    "                            else:\n",
    "                                zerodig[1] += 1\n",
    "                        if (ans1 == 2):\n",
    "                            if classI.contains(pre_val1[0]):\n",
    "                                twodig[0] = twodig[0] + 1 \n",
    "                            else:\n",
    "                                twodig[1] = twodig[1] + 1\n",
    "                        if (ans1 == 4):\n",
    "                            if pre_val1[0] in classI:\n",
    "                                fourdig[0] = fourdig[0] + 1 \n",
    "                            else:\n",
    "                                fourdig[1] = fourdig[1] + 1\n",
    "                        if (ans2 == 0):\n",
    "                            if pre_val1[0] in classI:\n",
    "                                zerodig[0] = zerodig[0] + 1 \n",
    "                            else:\n",
    "                                zerodig[1] = zerodig[1] + 1\n",
    "                        if (ans2 == 2):\n",
    "                            if pre_val1[0] in classI:\n",
    "                                twodig[0] = twodig[0] + 1 \n",
    "                            else:\n",
    "                                twodig[1] = twodig[1] + 1\n",
    "                        if (ans2 == 4):\n",
    "                            if pre_val1[0] in classI:\n",
    "                                fourdig[0] = fourdig[0] + 1 \n",
    "                            else:\n",
    "                                fourdig[1] = fourdig[1] + 1\n",
    "                    else:\n",
    "                        if (ans3 == 0):\n",
    "                            if pre_val1[0] in classI:\n",
    "                                zerodig[0] = zerodig[0] + 1 \n",
    "                            else:\n",
    "                                zerodig[1] = zerodig[1] + 1\n",
    "                        if (ans3 == 2):\n",
    "                            if pre_val1[0] in classI:\n",
    "                                twodig[0] = twodig[0] + 1 \n",
    "                            else:\n",
    "                                twodig[1] = twodig[1] + 1\n",
    "                        if (ans3 == 4):\n",
    "                            if pre_val1[0] in classI:\n",
    "                                fourdig[0] = fourdig[0] + 1 \n",
    "                            else:\n",
    "                                fourdig[1] = fourdig[1] + 1\n",
    "                        if (ans4 == 0):\n",
    "                            if pre_val1[0] in classI:\n",
    "                                zerodig[0] = zerodig[0] + 1 \n",
    "                            else:\n",
    "                                zerodig[1] = zerodig[1] + 1\n",
    "                        if (ans4 == 2):\n",
    "                            if pre_val1[0] in classI:\n",
    "                                twodig[0] = twodig[0] + 1 \n",
    "                            else:\n",
    "                                twodig[1] = twodig[1] + 1\n",
    "                        if (ans4 == 4):\n",
    "                            if pre_val1[0] in classI:\n",
    "                                fourdig[0] = fourdig[0] + 1 \n",
    "                            else:\n",
    "                                fourdig[1] = fourdig[1] + 1\n",
    "                except:\n",
    "                    fail = fail+1\n",
    "\n",
    "    return zerodig,twodig,fourdig #,fail #onzero fail indicates exception occurred"
   ]
  },
  {
   "cell_type": "code",
   "execution_count": 12,
   "metadata": {
    "id": "k3G1398mtG0L"
   },
   "outputs": [],
   "source": [
    "# to sum the 4 European ancestry groups into 1 European ancestry\n",
    "def sum_euro_groups(data):\n",
    "    ret = [0,0,0]\n",
    "    for group in data:\n",
    "        ret[0] += group[0]\n",
    "        ret[1] += group[1]\n",
    "        ret[2] += group[2]\n",
    "    return ret"
   ]
  },
  {
   "cell_type": "markdown",
   "metadata": {},
   "source": [
    "# determine accuracy"
   ]
  },
  {
   "cell_type": "code",
   "execution_count": 13,
   "metadata": {
    "colab": {
     "base_uri": "https://localhost:8080/"
    },
    "id": "VEwaX_Z1r5jH",
    "outputId": "f77aa748-101a-407a-cce4-35b13c542c7a"
   },
   "outputs": [
    {
     "name": "stdout",
     "output_type": "stream",
     "text": [
      "95\n",
      "114\n",
      "111\n",
      "103\n",
      "67\n"
     ]
    }
   ],
   "source": [
    "# determine how many samples of each ancestry group\n",
    "groupscsv = \"../datasets/SraRunTableD2.txt\"\n",
    "goldstandard = \"../datasets/2_gs.csv\"\n",
    "gs = pd.read_csv(goldstandard)\n",
    "groups = pd.read_csv(groupscsv)\n",
    "\n",
    "for group, df_by_group in groups.groupby('Population'):\n",
    "    accession_numbers = df_by_group['Run'].values.tolist()\n",
    "    gs_final = gs[gs['Run'].isin(accession_numbers)] #gs_final is a df containing the gold standard samples per population group\n",
    "    print(len(gs_final))\n"
   ]
  },
  {
   "cell_type": "code",
   "execution_count": 70,
   "metadata": {
    "colab": {
     "base_uri": "https://localhost:8080/"
    },
    "id": "jsWHA-h11Zi4",
    "outputId": "aa16459c-3ccf-4961-c671-d07b72c3a628",
    "scrolled": true
   },
   "outputs": [
    {
     "name": "stdout",
     "output_type": "stream",
     "text": [
      "        tool             europe          yoruba\n",
      "0   optitype     [13, 17, 2502]     [0, 8, 390]\n",
      "1      arcas    [38, 127, 3951]    [6, 67, 561]\n",
      "2    rna2hla     [69, 87, 3196]   [13, 24, 481]\n",
      "3  hlaforest    [84, 444, 3476]   [41, 92, 451]\n",
      "4    seq2hla   [121, 227, 3844]   [27, 37, 584]\n",
      "5      hlahd    [253, 89, 3864]   [28, 49, 555]\n",
      "6      phlat   [176, 185, 3221]   [56, 58, 450]\n",
      "7   hlavbseq  [1859, 134, 2127]  [289, 26, 295]\n"
     ]
    }
   ],
   "source": [
    "data = list()\n",
    "tools=[\"optitype\",\"arcas\",\"rna2hla\",\"hlaforest\",\"seq2hla\",\"hlahd\",\"phlat\",\"hlavbseq\"]\n",
    "\n",
    "groupscsv = \"../datasets/SraRunTableD2.txt\"\n",
    "groups = pd.read_csv(groupscsv)\n",
    "\n",
    "\n",
    "for t in tools:\n",
    "    toolresult = []\n",
    "    \n",
    "        \n",
    "    gs=pd.read_csv(\"../datasets/2_gs.csv\")\n",
    "    pre=pd.read_csv(\"../results/standard/\"+str(t)+\"_d2.csv\")\n",
    "\n",
    "    for group, df_by_group in groups.groupby('Population'):\n",
    "        accession_numbers = df_by_group['Run'].values.tolist()\n",
    "        gs_final = gs[gs['Run'].isin(accession_numbers)] #gs_final is a df containing the gold standard samples per population group\n",
    "        ret = compute_matches(pre,gs_final)\n",
    "        ret = np.sum(np.array(ret),axis=1)\n",
    "        toolresult.append(ret)\n",
    "\n",
    "\n",
    "    europe = sum_euro_groups(toolresult[0:4])\n",
    "    yoruba = toolresult[4]\n",
    "    data.append([t, europe, yoruba])\n",
    "\n",
    "    \n",
    "    \n",
    "df = pd.DataFrame(data,columns=['tool','europe','yoruba'])\n",
    "print(df)\n",
    "\n",
    "\n",
    "#expected = chi2_contingency(results_combined)\n",
    "#print(convert_to_percentage(results_combined))\n",
    "#chisquare(results_combined,expected[3],axis=None)"
   ]
  },
  {
   "cell_type": "markdown",
   "metadata": {},
   "source": [
    "# plotting"
   ]
  },
  {
   "cell_type": "code",
   "execution_count": 88,
   "metadata": {},
   "outputs": [],
   "source": [
    "# calculating accuracy, creating data frames\n",
    "europe = np.array( df['europe'].values.tolist() )\n",
    "total = np.sum(europe,axis=1)\n",
    "europe_4dig = (europe[:,2])/total\n",
    "europe_2dig = (europe[:,1]+europe[:,2])/total\n",
    "\n",
    "yoruba = np.array( df['yoruba'].values.tolist() )\n",
    "total = np.sum(yoruba,axis=1)\n",
    "yoruba_4dig = (yoruba[:,2])/total\n",
    "yoruba_2dig = (yoruba[:,1]+yoruba[:,2])/total\n",
    "\n",
    "# concat to df\n",
    "dfeuro2dig = pd.DataFrame(europe_2dig,columns=['europe two dig accuracy'])\n",
    "dfeuro4dig = pd.DataFrame(europe_4dig,columns=['europe four dig accuracy'])\n",
    "dfyoru2dig = pd.DataFrame(yoruba_2dig,columns=['yoruba two dig accuracy'])\n",
    "dfyoru4dig = pd.DataFrame(yoruba_4dig,columns=['yoruba four dig accuracy'])"
   ]
  },
  {
   "cell_type": "code",
   "execution_count": 91,
   "metadata": {},
   "outputs": [
    {
     "name": "stdout",
     "output_type": "stream",
     "text": [
      "         tool                  ancestry  accuracy\n",
      "0    optitype  europe four dig accuracy  0.988152\n",
      "1       arcas  europe four dig accuracy  0.959913\n",
      "2     rna2hla  europe four dig accuracy  0.953461\n",
      "3   hlaforest  europe four dig accuracy  0.868132\n",
      "4     seq2hla  europe four dig accuracy  0.916985\n",
      "5       hlahd  europe four dig accuracy  0.918688\n",
      "6       phlat  europe four dig accuracy  0.899218\n",
      "7    hlavbseq  europe four dig accuracy  0.516262\n",
      "8    optitype  yoruba four dig accuracy  0.979899\n",
      "9       arcas  yoruba four dig accuracy  0.884858\n",
      "10    rna2hla  yoruba four dig accuracy  0.928571\n",
      "11  hlaforest  yoruba four dig accuracy  0.772260\n",
      "12    seq2hla  yoruba four dig accuracy  0.901235\n",
      "13      hlahd  yoruba four dig accuracy  0.878165\n",
      "14      phlat  yoruba four dig accuracy  0.797872\n",
      "15   hlavbseq  yoruba four dig accuracy  0.483607\n"
     ]
    },
    {
     "data": {
      "image/png": "[encoded data removed]",
      "text/plain": [
       "<Figure size 1080x720 with 1 Axes>"
      ]
     },
     "metadata": {
      "needs_background": "light"
     },
     "output_type": "display_data"
    }
   ],
   "source": [
    "# 4 dig accuracy\n",
    "\n",
    "\n",
    "df_accuracy=pd.concat([df['tool'],dfeuro4dig,dfyoru4dig],axis=1, join='inner')\n",
    "\n",
    "df_accuracy = pd.melt(df_accuracy, id_vars=\"tool\", var_name=\"ancestry\", value_name=\"accuracy\")\n",
    "print(df_accuracy)\n",
    "\n",
    "tool_names=['OptiType','ArcasHLA','RNA2HLA','HLAForest','Seq2HLA','HLA-HD','PHLAT','HLA-VBseq']\n",
    "order =[\"optitype\",\"rna2hla\",\"arcas\",\"seq2hla\",\"hlahd\",\"phlat\",\"hlaforest\",\"hlavbseq\"]\n",
    "\n",
    "sns.set_context(\"paper\")\n",
    "sns.color_palette(\"pastel\")\n",
    "plt.figure(figsize=(15,10))\n",
    "ax=sns.barplot(x = 'tool', y = 'accuracy', data=df_accuracy,hue='ancestry',order=order)\n",
    "ax.set_ylabel(\"Accuracy\")\n",
    "ax.set_xlabel(\"Tool\")\n",
    "ax.set_title(\"Accuracy (%) per Ancestry for Four Digit Resolution\") \n",
    "plt.legend(labels=['Yoruba','Europe'],bbox_to_anchor=(1.05, 1), loc=2, borderaxespad=0.)\n",
    "plt.ylim((0,1))\n",
    "sns.despine()\n",
    "#plt.savefig('../Figures/read_length_accuracy_4dig.png',bbox_inches =\"tight\",dpi=300)"
   ]
  },
  {
   "cell_type": "code",
   "execution_count": 93,
   "metadata": {},
   "outputs": [
    {
     "name": "stdout",
     "output_type": "stream",
     "text": [
      "         tool                 ancestry  accuracy\n",
      "0    optitype  europe two dig accuracy  0.994866\n",
      "1       arcas  europe two dig accuracy  0.990768\n",
      "2     rna2hla  europe two dig accuracy  0.979415\n",
      "3   hlaforest  europe two dig accuracy  0.979021\n",
      "4     seq2hla  europe two dig accuracy  0.971135\n",
      "5       hlahd  europe two dig accuracy  0.939848\n",
      "6       phlat  europe two dig accuracy  0.950865\n",
      "7    hlavbseq  europe two dig accuracy  0.548786\n",
      "8    optitype  yoruba two dig accuracy  1.000000\n",
      "9       arcas  yoruba two dig accuracy  0.990536\n",
      "10    rna2hla  yoruba two dig accuracy  0.974903\n",
      "11  hlaforest  yoruba two dig accuracy  0.929795\n",
      "12    seq2hla  yoruba two dig accuracy  0.958333\n",
      "13      hlahd  yoruba two dig accuracy  0.955696\n",
      "14      phlat  yoruba two dig accuracy  0.900709\n",
      "15   hlavbseq  yoruba two dig accuracy  0.526230\n"
     ]
    },
    {
     "data": {
      "image/png": "[encoded data removed]",
      "text/plain": [
       "<Figure size 1080x720 with 1 Axes>"
      ]
     },
     "metadata": {
      "needs_background": "light"
     },
     "output_type": "display_data"
    }
   ],
   "source": [
    "# 2 dig accuracy plot\n",
    "df_accuracy=pd.concat([df['tool'],dfeuro2dig,dfyoru2dig],axis=1, join='inner')\n",
    "df_accuracy = pd.melt(df_accuracy, id_vars=\"tool\", var_name=\"ancestry\", value_name=\"accuracy\")\n",
    "print(df_accuracy)\n",
    "\n",
    "tool_names=['OptiType','ArcasHLA','RNA2HLA','HLAForest','Seq2HLA','HLA-HD','PHLAT','HLA-VBseq']\n",
    "order =[\"optitype\",\"rna2hla\",\"arcas\",\"seq2hla\",\"hlahd\",\"phlat\",\"hlaforest\",\"hlavbseq\"]\n",
    "\n",
    "sns.set_context(\"paper\")\n",
    "sns.color_palette(\"pastel\")\n",
    "plt.figure(figsize=(15,10))\n",
    "ax=sns.barplot(x = 'tool', y = 'accuracy', data=df_accuracy,hue='ancestry',order=order)\n",
    "ax.set_ylabel(\"Accuracy\")\n",
    "ax.set_xlabel(\"Tool\")\n",
    "ax.set_title(\"Accuracy (%) per Ancestry for Two Digit Resolution\") \n",
    "plt.legend(labels=['Yoruba','Europe'],bbox_to_anchor=(1.05, 1), loc=2, borderaxespad=0.)\n",
    "plt.ylim((0,1))\n",
    "sns.despine()\n",
    "#plt.savefig('../Figures/read_length_accuracy_4dig.png',bbox_inches =\"tight\",dpi=300)"
   ]
  }
 ],
 "metadata": {
  "colab": {
   "provenance": []
  },
  "kernelspec": {
   "display_name": "Python 3 (ipykernel)",
   "language": "python",
   "name": "python3"
  },
  "language_info": {
   "codemirror_mode": {
    "name": "ipython",
    "version": 3
   },
   "file_extension": ".py",
   "mimetype": "text/x-python",
   "name": "python",
   "nbconvert_exporter": "python",
   "pygments_lexer": "ipython3",
   "version": "3.9.12"
  },
  "vscode": {
   "interpreter": {
    "hash": "a5887580c7cbb0fe8c117cf89484cb0db59155905523768f16ba2f70bd8e79c7"
   }
  }
 },
 "nbformat": 4,
 "nbformat_minor": 1
}
