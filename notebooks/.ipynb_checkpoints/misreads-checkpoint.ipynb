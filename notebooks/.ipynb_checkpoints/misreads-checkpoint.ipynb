{
 "cells": [
  {
   "cell_type": "code",
   "execution_count": 4,
   "metadata": {},
   "outputs": [],
   "source": [
    "import pandas as pd\n",
    "import glob\n",
    "import collections\n",
    "import seaborn as sns\n",
    "import numpy as np\n",
    "import matplotlib.pyplot as plt "
   ]
  },
  {
   "cell_type": "markdown",
   "metadata": {},
   "source": [
    "# Functions"
   ]
  },
  {
   "cell_type": "code",
   "execution_count": 1,
   "metadata": {},
   "outputs": [],
   "source": [
    "def fix(s):\n",
    "    firstcolon = s.find(\":\")\n",
    "    s_new = s[firstcolon-2:firstcolon] + s[firstcolon+1:firstcolon+3]\n",
    "    s_new = s_new.replace(\"*\", \"0\")\n",
    "    return s_new\n",
    "\n",
    "def compute_resolution(gs_val,pre_val):\n",
    "    gs_all = gs_val.split(\"/\")\n",
    "    pre_fixed = fix(pre_val)\n",
    "    flag = False #false = inaccurate, turn to true = 2 digits accurate\n",
    "    \n",
    "    for val in gs_all:\n",
    "        gs_fixed = fix(val)\n",
    "\n",
    "        if (gs_fixed[0:2] == pre_fixed[0:2]):\n",
    "            if (gs_fixed[2:4] == pre_fixed[2:4]):\n",
    "                return 4\n",
    "            flag = True\n",
    "        \n",
    "    return 2 if flag==True else 0"
   ]
  },
  {
   "cell_type": "code",
   "execution_count": 2,
   "metadata": {},
   "outputs": [],
   "source": [
    "# requirements: gs accession numbers are under a column labeled \"Run\" \n",
    "#pre accession numbers are under a column labeled \"ERR\" \n",
    "# accession numbers/column titles are labeled identically between gold standard and results csv\n",
    "# Only accuracy for samples in both GS and PRE are calculated. Samples in PRE, but not in GS are ignored. Samples in GS, but not in PRE, are tallied in the \"failed\" variable \n",
    "def get_inaccurate_alleles(pre,gs):\n",
    "\n",
    "    zerodig = []\n",
    "    fail = 0\n",
    "\n",
    "    accession_numbers = gs['Run'].values.tolist()\n",
    "    genes = gs.columns.values.tolist()\n",
    "\n",
    "    for number in accession_numbers:\n",
    "        pre_row = pre.loc[pre['ERR'] == number]\n",
    "        gs_row = gs.loc[gs['Run'] == number]\n",
    "        \n",
    "        # if we are working with d5 or d6, the monoallelic datasets\n",
    "        if (gs.columns.tolist() == ['Run', 'A', 'B'] or gs.columns.tolist() == ['Run', 'C']):\n",
    "            for i in range(1,len(genes)):\n",
    "                gs_val = gs_row[genes[i]].astype(str).values[0]\n",
    "                pre_val1 = pre_row[genes[i]].astype(str).values[0]\n",
    "                pre_val2 = pre_row[genes[i]+\".1\"].astype(str).values[0]\n",
    "                \n",
    "                ans1 = compute_resolution(gs_val,pre_val1)\n",
    "                ans2 = compute_resolution(gs_val,pre_val2)\n",
    "                if (max(ans1,ans2) == 0):\n",
    "                    zerodig.append(gs_val)\n",
    "\n",
    "        # if we are working with d1-d4, the biallelic datasets\n",
    "        else:\n",
    "            for i in range(1,len(genes),2):\n",
    "                try:\n",
    "                    gs_val1 = gs_row[genes[i]].astype(str).values[0]\n",
    "                    pre_val1 = pre_row[genes[i]].astype(str).values[0]\n",
    "                    gs_val2 = gs_row[genes[i+1]].astype(str).values[0]\n",
    "                    pre_val2 = pre_row[genes[i+1]].astype(str).values[0]\n",
    "\n",
    "                    if (gs_val1 == None) or (pre_val1 == None) or (gs_val2 == None) or (pre_val2 == None):\n",
    "                        fail = fail+1\n",
    "                        continue\n",
    "\n",
    "                    # assuming no swapping \n",
    "                    ans1 = compute_resolution(gs_val1,pre_val1)\n",
    "                    ans2 = compute_resolution(gs_val2,pre_val2)\n",
    "\n",
    "                    # assuming swapping\n",
    "                    ans3 = compute_resolution(gs_val1,pre_val2)\n",
    "                    ans4 = compute_resolution(gs_val2,pre_val1)\n",
    "\n",
    "                    if (ans1+ans2 > ans3+ans4):\n",
    "                        if (ans1 == 0):\n",
    "                            zerodig.append(pre_val1)\n",
    "                        if (ans2 == 0):\n",
    "                            zerodig.append(pre_val2)\n",
    "                    else:\n",
    "                        if (ans3 == 0):\n",
    "                            zerodig.append(pre_val2)\n",
    "                        if (ans4 == 0):\n",
    "                            zerodig.append(pre_val1)\n",
    "                except:\n",
    "                    fail = fail+1\n",
    "\n",
    "    return zerodig #,fail #onzero fail indicates exception occurred"
   ]
  },
  {
   "cell_type": "markdown",
   "metadata": {},
   "source": [
    "# Mismatch"
   ]
  },
  {
   "cell_type": "code",
   "execution_count": 6,
   "metadata": {},
   "outputs": [],
   "source": [
    "tool_list=[\"arcas\",\"hlaforest\",\"hlavbseq\",\"optitype\",\"phlat\",\"rna2hla\",\"seq2hla\",\"hlahd\"]\n",
    "\n",
    "missed_alleles = []\n",
    "\n",
    "for t in tool_list:\n",
    "    missed_alleles_caller = []\n",
    "    for i in range(1,7):\n",
    "        gs=pd.read_csv(f\"../datasets/{i}_gs.csv\")\n",
    "        pre=pd.read_csv(f\"../results/standard/{t}_d{i}.csv\")\n",
    "    \n",
    "        missed_alleles_caller.append(get_inaccurate_alleles(pre,gs))\n",
    "    missed_alleles.append(missed_alleles_caller)\n"
   ]
  },
  {
   "cell_type": "code",
   "execution_count": 7,
   "metadata": {},
   "outputs": [
    {
     "name": "stdout",
     "output_type": "stream",
     "text": [
      "[[15, 17, 18, 7, 3], [16, 83, 16, 29, 26], [89, 124, 106, 1040, 935], [3, 12, 6, 0, 0], [9, 64, 29, 29, 388], [4, 24, 24, 80, 0], [4, 24, 24, 121, 69], [4, 17, 31, 12, 4]]\n"
     ]
    }
   ],
   "source": [
    "all_counts = []\n",
    "for tool in missed_alleles:\n",
    "    counts = [0,0,0,0,0]\n",
    "    for d in tool:\n",
    "        for allele in d:\n",
    "            if allele[0] == \"A\":\n",
    "                counts[0]+=1\n",
    "            if allele[0] == \"B\":\n",
    "                counts[1] += 1\n",
    "            if allele[0] == 'C':\n",
    "                counts[2] += 1\n",
    "            if allele[0:2] == 'DR':\n",
    "                counts[3] += 1\n",
    "            if allele[0:2] == 'DQ':\n",
    "                counts[4] += 1\n",
    "    all_counts.append(counts)\n",
    "print(all_counts)\n",
    "    "
   ]
  },
  {
   "cell_type": "markdown",
   "metadata": {},
   "source": [
    "# Plots"
   ]
  },
  {
   "cell_type": "code",
   "execution_count": 8,
   "metadata": {},
   "outputs": [
    {
     "data": {
      "text/html": [
       "<div>\n",
       "<style scoped>\n",
       "    .dataframe tbody tr th:only-of-type {\n",
       "        vertical-align: middle;\n",
       "    }\n",
       "\n",
       "    .dataframe tbody tr th {\n",
       "        vertical-align: top;\n",
       "    }\n",
       "\n",
       "    .dataframe thead th {\n",
       "        text-align: right;\n",
       "    }\n",
       "</style>\n",
       "<table border=\"1\" class=\"dataframe\">\n",
       "  <thead>\n",
       "    <tr style=\"text-align: right;\">\n",
       "      <th></th>\n",
       "      <th>A</th>\n",
       "      <th>B</th>\n",
       "      <th>C</th>\n",
       "      <th>DRB1</th>\n",
       "      <th>DQB1</th>\n",
       "    </tr>\n",
       "  </thead>\n",
       "  <tbody>\n",
       "    <tr>\n",
       "      <th>arcas</th>\n",
       "      <td>15</td>\n",
       "      <td>17</td>\n",
       "      <td>18</td>\n",
       "      <td>7</td>\n",
       "      <td>3</td>\n",
       "    </tr>\n",
       "    <tr>\n",
       "      <th>hlaforest</th>\n",
       "      <td>16</td>\n",
       "      <td>83</td>\n",
       "      <td>16</td>\n",
       "      <td>29</td>\n",
       "      <td>26</td>\n",
       "    </tr>\n",
       "    <tr>\n",
       "      <th>hlavbseq</th>\n",
       "      <td>89</td>\n",
       "      <td>124</td>\n",
       "      <td>106</td>\n",
       "      <td>1040</td>\n",
       "      <td>935</td>\n",
       "    </tr>\n",
       "    <tr>\n",
       "      <th>optitype</th>\n",
       "      <td>3</td>\n",
       "      <td>12</td>\n",
       "      <td>6</td>\n",
       "      <td>0</td>\n",
       "      <td>0</td>\n",
       "    </tr>\n",
       "    <tr>\n",
       "      <th>phlat</th>\n",
       "      <td>9</td>\n",
       "      <td>64</td>\n",
       "      <td>29</td>\n",
       "      <td>29</td>\n",
       "      <td>388</td>\n",
       "    </tr>\n",
       "    <tr>\n",
       "      <th>rna2hla</th>\n",
       "      <td>4</td>\n",
       "      <td>24</td>\n",
       "      <td>24</td>\n",
       "      <td>80</td>\n",
       "      <td>0</td>\n",
       "    </tr>\n",
       "    <tr>\n",
       "      <th>seq2hla</th>\n",
       "      <td>4</td>\n",
       "      <td>24</td>\n",
       "      <td>24</td>\n",
       "      <td>121</td>\n",
       "      <td>69</td>\n",
       "    </tr>\n",
       "    <tr>\n",
       "      <th>hlahd</th>\n",
       "      <td>4</td>\n",
       "      <td>17</td>\n",
       "      <td>31</td>\n",
       "      <td>12</td>\n",
       "      <td>4</td>\n",
       "    </tr>\n",
       "  </tbody>\n",
       "</table>\n",
       "</div>"
      ],
      "text/plain": [
       "            A    B    C  DRB1  DQB1\n",
       "arcas      15   17   18     7     3\n",
       "hlaforest  16   83   16    29    26\n",
       "hlavbseq   89  124  106  1040   935\n",
       "optitype    3   12    6     0     0\n",
       "phlat       9   64   29    29   388\n",
       "rna2hla     4   24   24    80     0\n",
       "seq2hla     4   24   24   121    69\n",
       "hlahd       4   17   31    12     4"
      ]
     },
     "execution_count": 8,
     "metadata": {},
     "output_type": "execute_result"
    }
   ],
   "source": [
    "df = pd.DataFrame(all_counts)\n",
    "df.columns = ['A','B','C','DRB1','DQB1']\n",
    "df.index = [\"arcas\",\"hlaforest\",\"hlavbseq\",\"optitype\",\"phlat\",\"rna2hla\",\"seq2hla\",\"hlahd\"]\n",
    "df"
   ]
  },
  {
   "cell_type": "code",
   "execution_count": 19,
   "metadata": {},
   "outputs": [
    {
     "data": {
      "text/plain": [
       "<AxesSubplot:>"
      ]
     },
     "execution_count": 19,
     "metadata": {},
     "output_type": "execute_result"
    },
    {
     "data": {
      "image/png": "[encoded data removed]",
      "text/plain": [
       "<Figure size 432x288 with 2 Axes>"
      ]
     },
     "metadata": {
      "needs_background": "light"
     },
     "output_type": "display_data"
    }
   ],
   "source": [
    "from matplotlib.colors import LogNorm, Normalize\n",
    "sns.heatmap(df,annot=True,norm=LogNorm())"
   ]
  }
 ],
 "metadata": {
  "kernelspec": {
   "display_name": "Python 3 (ipykernel)",
   "language": "python",
   "name": "python3"
  },
  "language_info": {
   "codemirror_mode": {
    "name": "ipython",
    "version": 3
   },
   "file_extension": ".py",
   "mimetype": "text/x-python",
   "name": "python",
   "nbconvert_exporter": "python",
   "pygments_lexer": "ipython3",
   "version": "3.9.12"
  },
  "vscode": {
   "interpreter": {
    "hash": "7643bbb66755ef3870c758d7b4bba1f004baaf4db68a76fa62b05d8b16893657"
   }
  }
 },
 "nbformat": 4,
 "nbformat_minor": 2
}
