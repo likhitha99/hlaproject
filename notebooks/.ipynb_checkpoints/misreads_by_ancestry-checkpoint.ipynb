{
 "cells": [
  {
   "cell_type": "code",
   "execution_count": 60,
   "id": "ecd3f72a",
   "metadata": {},
   "outputs": [],
   "source": [
    "import pandas as pd\n",
    "import numpy as np\n",
    "import matplotlib.pyplot as plt\n",
    "from scipy.stats import chi2_contingency\n",
    "from scipy.stats import chisquare\n",
    "\n",
    "from collections import Counter\n"
   ]
  },
  {
   "cell_type": "code",
   "execution_count": 61,
   "id": "a32d9268",
   "metadata": {},
   "outputs": [],
   "source": [
    "def fix(s):\n",
    "    firstcolon = s.find(\":\")\n",
    "    s_new = s[firstcolon-2:firstcolon] + s[firstcolon+1:firstcolon+3]\n",
    "    s_new = s_new.replace(\"*\", \"0\")\n",
    "    return s_new\n",
    "\n",
    "def compute_resolution(gs_val,pre_val):\n",
    "    gs_all = gs_val.split(\"/\")\n",
    "    pre_fixed = fix(pre_val)\n",
    "    flag = False #false = inaccurate, turn to true = 2 digits accurate\n",
    "    \n",
    "    for val in gs_all:\n",
    "        gs_fixed = fix(val)\n",
    "\n",
    "        if (gs_fixed[0:2] == pre_fixed[0:2]):\n",
    "            if (gs_fixed[2:4] == pre_fixed[2:4]):\n",
    "                return 4\n",
    "            flag = True\n",
    "        \n",
    "    return 2 if flag==True else 0"
   ]
  },
  {
   "cell_type": "code",
   "execution_count": 62,
   "id": "a1381dec",
   "metadata": {},
   "outputs": [],
   "source": [
    "# requirements: gs accession numbers are under a column labeled \"Run\" \n",
    "#pre accession numbers are under a column labeled \"ERR\" \n",
    "# accession numbers/column titles are labeled identically between gold standard and results csv\n",
    "# Only accuracy for samples in both GS and PRE are calculated. Samples in PRE, but not in GS are ignored. Samples in GS, but not in PRE, are tallied in the \"failed\" variable \n",
    "def get_inaccurate_alleles(pre,gs):\n",
    "\n",
    "    zerodig = []\n",
    "    fail = 0\n",
    "\n",
    "    accession_numbers = gs['Run'].values.tolist()\n",
    "    genes = gs.columns.values.tolist()\n",
    "\n",
    "    for number in accession_numbers:\n",
    "        pre_row = pre.loc[pre['ERR'] == number]\n",
    "        gs_row = gs.loc[gs['Run'] == number]\n",
    "    \n",
    "        for i in range(1,len(genes),2):\n",
    "            try:\n",
    "                gs_val1 = gs_row[genes[i]].astype(str).values[0]\n",
    "                pre_val1 = pre_row[genes[i]].astype(str).values[0]\n",
    "                gs_val2 = gs_row[genes[i+1]].astype(str).values[0]\n",
    "                pre_val2 = pre_row[genes[i+1]].astype(str).values[0]\n",
    "                \n",
    "                # if the gold standard contains many allele possibilities, and the caller is incorrect,\n",
    "                # we will return only the first value in the gs\n",
    "                gs_primary = gs_row[genes[i]].astype(str).values[0].split(\"/\")[0]\n",
    "\n",
    "                if (gs_val1 == None) or (pre_val1 == None) or (gs_val2 == None) or (pre_val2 == None):\n",
    "                    fail = fail+1\n",
    "                    continue\n",
    "\n",
    "                # assuming no swapping \n",
    "                ans1 = compute_resolution(gs_val1,pre_val1)\n",
    "                ans2 = compute_resolution(gs_val2,pre_val2)\n",
    "\n",
    "                # assuming swapping\n",
    "                ans3 = compute_resolution(gs_val1,pre_val2)\n",
    "                ans4 = compute_resolution(gs_val2,pre_val1)\n",
    "\n",
    "                if (ans1+ans2 > ans3+ans4):\n",
    "                    if (ans1 == 0):\n",
    "                        zerodig.append(gs_primary)\n",
    "                    if (ans2 == 0):\n",
    "                        zerodig.append(gs_primary)\n",
    "                else:\n",
    "                    if (ans3 == 0):\n",
    "                        zerodig.append(gs_primary)\n",
    "                    if (ans4 == 0):\n",
    "                        zerodig.append(gs_primary)\n",
    "            except:\n",
    "                fail = fail+1\n",
    "\n",
    "    return zerodig #,fail #onzero fail indicates exception occurred"
   ]
  },
  {
   "cell_type": "code",
   "execution_count": 63,
   "id": "def1c527",
   "metadata": {},
   "outputs": [],
   "source": [
    "data = list()"
   ]
  },
  {
   "cell_type": "code",
   "execution_count": 64,
   "id": "b73d2d6e",
   "metadata": {},
   "outputs": [],
   "source": [
    "# to sum the 4 European ancestry groups into 1 European ancestry\n",
    "def sum_euro_groups(data):\n",
    "    ret = []\n",
    "    for group in data:\n",
    "        for allele in group:\n",
    "            ret.append(allele)\n",
    "    return ret"
   ]
  },
  {
   "cell_type": "code",
   "execution_count": 65,
   "id": "95a7008f",
   "metadata": {
    "scrolled": true
   },
   "outputs": [],
   "source": [
    "def missed_alleles_per_ancestry(pre,gs):\n",
    "    groupscsv = \"../datasets/SraRunTableD2.txt\"\n",
    "    groups = pd.read_csv(groupscsv)\n",
    "    \n",
    "    results = []\n",
    "\n",
    "    for group, df_by_group in groups.groupby('Population'):\n",
    "        accession_numbers = df_by_group['Run'].values.tolist()\n",
    "        gs_final = gs[gs['Run'].isin(accession_numbers)] #gs_final is a df containing the gold standard samples per population group\n",
    "        gs_final = gs_final.iloc[: ,:]\n",
    "        \n",
    "\n",
    "        ret = get_inaccurate_alleles(pre,gs_final)\n",
    "        results.append(ret)\n",
    "\n",
    "    yorubaresult = results[4]\n",
    "    europeanresult = sum_euro_groups(results[1:4])\n",
    "\n",
    "    return yorubaresult, europeanresult"
   ]
  },
  {
   "cell_type": "code",
   "execution_count": 66,
   "id": "c895882c",
   "metadata": {},
   "outputs": [],
   "source": [
    "data = list()\n",
    "tools=[\"hlaforest\",\"optitype\",\"phlat\",\"seq2hla\",\"rna2hla\",\"arcas\",\"hlavbseq\",\"hlahd\"]\n",
    "\n",
    "yoruba_missed_alleles = []\n",
    "europe_missed_alleles = []\n",
    "\n",
    "for t in tools:\n",
    "    gs=pd.read_csv(\"../datasets/2_gs.csv\")\n",
    "    pre=pd.read_csv(\"../results/standard/\"+str(t)+\"_d2.csv\")\n",
    "        \n",
    "    results = missed_alleles_per_ancestry(pre,gs)\n",
    "    \n",
    "    for i in results[0]:\n",
    "        yoruba_missed_alleles.append(i)\n",
    "    for i in results[1]:\n",
    "        europe_missed_alleles.append(i)\n",
    "    \n",
    "\n"
   ]
  },
  {
   "cell_type": "code",
   "execution_count": 67,
   "id": "d57bd15d",
   "metadata": {},
   "outputs": [
    {
     "name": "stdout",
     "output_type": "stream",
     "text": [
      "Counter({'DQB1*02:01': 55, 'DQB1*06:03': 34, 'DQB1*05:01': 31, 'DQB1*06:02': 30, 'DRB1*11:04': 25, 'DQB1*05:02': 21, 'DRB1*15:03': 19, 'DQB1*06:05': 16, 'DRB1*13:01': 16, 'B*53:01:00': 15, 'DQB1*04:02': 15, 'C*04:01': 14, 'DRB1*13:03': 14, 'DRB1*08:04': 13, 'B*42:01:00': 12, 'DRB1*13:02': 12, 'DRB1*03:01': 12, 'B*52:01:00': 11, 'B*35:01:00': 10, 'DRB1*14:01': 9, 'DRB1*07:01': 9, 'DQB1*06:04': 8, 'DRB1*01:01': 8, 'A*24:24:00': 6, 'B*41:04:00': 6, 'DRB1*03:02': 6, 'B*15:10': 5, 'DRB1*11:01': 5, 'C*07:01': 5, 'A*30:02:00': 5, 'A*23:01': 4, 'B*51:01:00': 4, 'DQB1*03:01': 4, 'B*07:02': 4, 'DRB1*12:01': 4, 'DRB1*13:35': 4, 'B*18:01': 3, 'DQB1*05:03': 3, 'A*02:01': 3, 'A*03:01': 3, 'B*15:03': 2, 'B*42:02:00': 2, 'C*02:02': 2, 'DRB1*01:02': 2, 'A*29:02:00': 2, 'B*13:02': 2, 'C*17:01': 2, 'B*35:01': 1, 'C*01:02': 1, 'A*26:01:00': 1, 'A*02:05': 1, 'C*07:02': 1, 'A*30:01:00': 1, 'A*01:01': 1})\n",
      "Counter({'DQB1*02:01': 334, 'DRB1*15:01': 196, 'DQB1*03:01': 180, 'DQB1*03:02': 151, 'DRB1*01:01': 145, 'DQB1*04:02': 81, 'DQB1*05:01': 78, 'DRB1*03:01': 71, 'DQB1*03:03': 65, 'DQB1*06:02': 63, 'A*02:01': 61, 'C*04:01': 54, 'DRB1*07:01': 52, 'DRB1*11:01': 48, 'DRB1*04:01': 35, 'DRB1*11:04': 31, 'B*35:01': 29, 'DRB1*13:01': 28, 'DRB1*16:01': 27, 'B*07:02': 23, 'A*03:01': 20, 'A*01:01': 18, 'B*08:01': 18, 'B*15:01': 17, 'C*06:02': 17, 'DRB1*14:01': 17, 'C*07:01': 16, 'DRB1*13:02': 16, 'C*03:04': 14, 'C*03:03': 13, 'DQB1*05:03': 13, 'C*12:03': 11, 'B*13:02': 11, 'DQB1*05:02': 11, 'B*41:02:00': 10, 'DQB1*06:03': 10, 'DRB1*08:01': 10, 'C*05:01': 9, 'DRB1*13:03': 9, 'B*27:05': 9, 'B*49:01:00': 8, 'C*07:02': 8, 'DRB1*01:02': 8, 'B*44:02': 7, 'DRB1*04:04': 7, 'B*35:03': 6, 'DRB1*04:02': 6, 'B*51:01': 4, 'B*40:01': 4, 'B*55:01:00': 4, 'C*01:02': 4, 'DRB1*04:08': 4, 'DRB1*11:03': 4, 'DRB1*04:03': 4, 'B*15:17': 3, 'B*44:03:00': 3, 'A*31:01': 3, 'C*02:02': 3, 'A*24:02': 3, 'B*18:01': 2, 'B*15:18': 2, 'B*35:02:00': 2, 'DRB1*12:01': 2, 'B*14:02': 2, 'A*11:01': 2, 'DRB1*11:02': 2, 'DRB1*15:02': 2, 'DRB1*16:02': 2, 'C*08:02': 1, 'B*38:01:00': 1, 'A*01:02': 1, 'B*14:01': 1, 'B*15:03': 1, 'A*02:24': 1, 'A*30:01': 1, 'B*35:08:00': 1, 'C*16:01': 1, 'A*26:01': 1, 'C*15:02': 1})\n"
     ]
    }
   ],
   "source": [
    "ycounts = Counter(yoruba_missed_alleles)\n",
    "ecounts = Counter(europe_missed_alleles)\n",
    "\n",
    "print(ycounts)\n",
    "print(ecounts)"
   ]
  },
  {
   "cell_type": "code",
   "execution_count": 83,
   "id": "a38ab5dd",
   "metadata": {},
   "outputs": [
    {
     "name": "stdout",
     "output_type": "stream",
     "text": [
      "        allele  yoruba  Europe  total\n",
      "31  DQB1*02:01      55     334    389\n",
      "15  DQB1*03:01       4     180    184\n",
      "5   DRB1*01:01       8     145    153\n",
      "3   DQB1*05:01      31      78    109\n",
      "9   DQB1*04:02      15      81     96\n",
      "23  DQB1*06:02      30      63     93\n",
      "29  DRB1*03:01      12      71     83\n",
      "30     C*04:01      14      54     68\n",
      "18     A*02:01       3      61     64\n",
      "17  DRB1*07:01       9      52     61\n",
      "8   DRB1*11:04      25      31     56\n",
      "14  DRB1*11:01       5      48     53\n",
      "28  DRB1*13:01      16      28     44\n",
      "0   DQB1*06:03      34      10     44\n",
      "11  DQB1*05:02      21      11     32\n",
      "16     B*35:01       1      29     30\n",
      "2   DRB1*13:02      12      16     28\n",
      "7      B*07:02       4      23     27\n",
      "20  DRB1*14:01       9      17     26\n",
      "25  DRB1*13:03      14       9     23\n",
      "4      A*03:01       3      20     23\n",
      "19     C*07:01       5      16     21\n",
      "26     A*01:01       1      18     19\n",
      "22  DQB1*05:03       3      13     16\n",
      "24     B*13:02       2      11     13\n",
      "27  DRB1*01:02       2       8     10\n",
      "1      C*07:02       1       8      9\n",
      "12  DRB1*12:01       4       2      6\n",
      "21     C*01:02       1       4      5\n",
      "6      B*18:01       3       2      5\n",
      "13     C*02:02       2       3      5\n",
      "10     B*15:03       2       1      3\n"
     ]
    }
   ],
   "source": [
    "allele_intersection = list(set(ycounts.keys()) & set(ecounts.keys()))\n",
    "\n",
    "intersection = []\n",
    "\n",
    "for allele in allele_intersection:\n",
    "    intersection.append([allele,ycounts[allele],ecounts[allele],ecounts[allele]+ycounts[allele]])\n",
    "\n",
    "df = pd.DataFrame (intersection, columns = ['allele','yoruba','Europe','total'])\n",
    "df = df.sort_values(by=['total'],ascending=False)\n",
    "\n",
    "with pd.option_context('display.max_rows', None, 'display.max_columns', None):  # more options can be specified also\n",
    "    print(df)"
   ]
  },
  {
   "cell_type": "code",
   "execution_count": 86,
   "id": "f7a79fb8",
   "metadata": {},
   "outputs": [
    {
     "data": {
      "image/png": "[encoded data removed]",
      "text/plain": [
       "<Figure size 1080x720 with 1 Axes>"
      ]
     },
     "metadata": {
      "needs_background": "light"
     },
     "output_type": "display_data"
    }
   ],
   "source": [
    "allele = np.array(df['allele'])\n",
    "tot = np.array(df['total'])  \n",
    "\n",
    "xaxis = np.arange(len(allele))\n",
    " \n",
    "plt.figure(figsize = (15,10))\n",
    "\n",
    "plt.bar(xaxis, tot.astype(float),color='blue')\n",
    "plt.xticks(xaxis,allele,rotation=45, ha='right')\n",
    "plt.xlabel(\"Alleles\")\n",
    "plt.ylabel(\"Count of miscalled times\")\n",
    "\n",
    "plt.show()"
   ]
  },
  {
   "cell_type": "code",
   "execution_count": 78,
   "id": "fc5b6490",
   "metadata": {},
   "outputs": [
    {
     "name": "stdout",
     "output_type": "stream",
     "text": [
      "        allele                yoruba                 Europe  \\\n",
      "31  DQB1*02:01    0.8208955223880597      0.789598108747045   \n",
      "0   DQB1*06:03    0.5074626865671642    0.02364066193853428   \n",
      "3   DQB1*05:01    0.4626865671641791    0.18439716312056736   \n",
      "23  DQB1*06:02   0.44776119402985076    0.14893617021276595   \n",
      "8   DRB1*11:04     0.373134328358209    0.07328605200945626   \n",
      "11  DQB1*05:02   0.31343283582089554   0.026004728132387706   \n",
      "28  DRB1*13:01   0.23880597014925373    0.06619385342789598   \n",
      "9   DQB1*04:02   0.22388059701492538    0.19148936170212766   \n",
      "30     C*04:01     0.208955223880597     0.1276595744680851   \n",
      "25  DRB1*13:03     0.208955223880597    0.02127659574468085   \n",
      "2   DRB1*13:02    0.1791044776119403   0.037825059101654845   \n",
      "29  DRB1*03:01    0.1791044776119403    0.16784869976359337   \n",
      "20  DRB1*14:01   0.13432835820895522    0.04018912529550828   \n",
      "17  DRB1*07:01   0.13432835820895522    0.12293144208037825   \n",
      "5   DRB1*01:01   0.11940298507462686    0.34278959810874704   \n",
      "14  DRB1*11:01   0.07462686567164178    0.11347517730496454   \n",
      "19     C*07:01   0.07462686567164178   0.037825059101654845   \n",
      "7      B*07:02   0.05970149253731343   0.054373522458628844   \n",
      "12  DRB1*12:01   0.05970149253731343   0.004728132387706856   \n",
      "15  DQB1*03:01   0.05970149253731343      0.425531914893617   \n",
      "4      A*03:01   0.04477611940298507    0.04728132387706856   \n",
      "18     A*02:01   0.04477611940298507    0.14420803782505912   \n",
      "6      B*18:01   0.04477611940298507   0.004728132387706856   \n",
      "22  DQB1*05:03   0.04477611940298507   0.030732860520094562   \n",
      "27  DRB1*01:02  0.029850746268656716   0.018912529550827423   \n",
      "10     B*15:03  0.029850746268656716   0.002364066193853428   \n",
      "24     B*13:02  0.029850746268656716   0.026004728132387706   \n",
      "13     C*02:02  0.029850746268656716  0.0070921985815602835   \n",
      "26     A*01:01  0.014925373134328358     0.0425531914893617   \n",
      "21     C*01:02  0.014925373134328358   0.009456264775413711   \n",
      "1      C*07:02  0.014925373134328358   0.018912529550827423   \n",
      "16     B*35:01  0.014925373134328358    0.06855791962174941   \n",
      "\n",
      "                   total  \n",
      "31    0.7938775510204081  \n",
      "0    0.08979591836734693  \n",
      "3    0.22244897959183674  \n",
      "23   0.18979591836734694  \n",
      "8    0.11428571428571428  \n",
      "11    0.0653061224489796  \n",
      "28   0.08979591836734693  \n",
      "9    0.19591836734693877  \n",
      "30   0.13877551020408163  \n",
      "25   0.04693877551020408  \n",
      "2    0.05714285714285714  \n",
      "29   0.16938775510204082  \n",
      "20  0.053061224489795916  \n",
      "17   0.12448979591836734  \n",
      "5     0.3122448979591837  \n",
      "14   0.10816326530612246  \n",
      "19   0.04285714285714286  \n",
      "7    0.05510204081632653  \n",
      "12  0.012244897959183673  \n",
      "15   0.37551020408163266  \n",
      "4    0.04693877551020408  \n",
      "18    0.1306122448979592  \n",
      "6    0.01020408163265306  \n",
      "22    0.0326530612244898  \n",
      "27   0.02040816326530612  \n",
      "10  0.006122448979591836  \n",
      "24  0.026530612244897958  \n",
      "13   0.01020408163265306  \n",
      "26   0.03877551020408163  \n",
      "21   0.01020408163265306  \n",
      "1   0.018367346938775512  \n",
      "16  0.061224489795918366  \n"
     ]
    }
   ],
   "source": [
    "#normalize ot sample size for fair comparison for africa vs europe\n",
    "intersection = np.array(intersection)   \n",
    "intersection[:,1] = intersection[:,1].astype(float)/67\n",
    "intersection[:,2] = intersection[:,2].astype(float)/423\n",
    "intersection[:,3] = intersection[:,3].astype(float)/490\n",
    "\n",
    "\n",
    "df = pd.DataFrame (intersection, columns = ['allele','yoruba','Europe','total'])\n",
    "df = df.sort_values(by=['yoruba'],ascending=False)\n",
    "\n",
    "with pd.option_context('display.max_rows', None, 'display.max_columns', None):  # more options can be specified also\n",
    "    print(df)"
   ]
  },
  {
   "cell_type": "code",
   "execution_count": 79,
   "id": "e0a49dee",
   "metadata": {},
   "outputs": [],
   "source": []
  },
  {
   "cell_type": "code",
   "execution_count": 81,
   "id": "a83cfa64",
   "metadata": {},
   "outputs": [
    {
     "data": {
      "image/png": "[encoded data removed]",
      "text/plain": [
       "<Figure size 1080x720 with 1 Axes>"
      ]
     },
     "metadata": {
      "needs_background": "light"
     },
     "output_type": "display_data"
    }
   ],
   "source": [
    "allele = np.array(df['allele'])\n",
    "yoruba = np.array(df['yoruba'])\n",
    "europe = np.array(df['Europe'])\n",
    "total = np.array(df['total'])  \n",
    "\n",
    "xaxis = np.arange(len(allele))\n",
    " \n",
    "plt.figure(figsize = (15,10))\n",
    "\n",
    "plt.bar(xaxis - 0.2, yoruba.astype(float), 0.4,color='orange')\n",
    "plt.bar(xaxis + 0.2, europe.astype(float), 0.4, color='purple')\n",
    "plt.legend([\"Africa\",\"European\"])\n",
    "plt.xticks(xaxis,allele,rotation=45, ha='right')\n",
    "plt.xlabel(\"Alleles\")\n",
    "plt.ylabel(\"Average miscalls per sample \")\n",
    "\n",
    "plt.show()"
   ]
  },
  {
   "cell_type": "code",
   "execution_count": null,
   "id": "3e22d71a",
   "metadata": {},
   "outputs": [],
   "source": [
    "#yoruban: avg miscalls/sample\n",
    "np.average(yoruba.astype(float))"
   ]
  },
  {
   "cell_type": "code",
   "execution_count": null,
   "id": "e850af43",
   "metadata": {},
   "outputs": [],
   "source": [
    "#european: avg miscalls/sample\n",
    "np.average(europe.astype(float))"
   ]
  }
 ],
 "metadata": {
  "kernelspec": {
   "display_name": "Python 3 (ipykernel)",
   "language": "python",
   "name": "python3"
  },
  "language_info": {
   "codemirror_mode": {
    "name": "ipython",
    "version": 3
   },
   "file_extension": ".py",
   "mimetype": "text/x-python",
   "name": "python",
   "nbconvert_exporter": "python",
   "pygments_lexer": "ipython3",
   "version": "3.9.12"
  }
 },
 "nbformat": 4,
 "nbformat_minor": 5
}
