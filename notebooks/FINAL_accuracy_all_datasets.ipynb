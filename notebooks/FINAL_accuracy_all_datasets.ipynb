{
  "cells": [
    {
      "cell_type": "code",
      "execution_count": 168,
      "metadata": {
        "id": "vLiELgG5vtsK"
      },
      "outputs": [],
      "source": [
        "# This script is designed to obtain accuracy of callers for each dataset D1-D6, as well as overall accuracy\n",
        "\n",
        "# PROGRESS:\n",
        "# D1: done\n",
        "# D2: done\n",
        "# D3: done\n",
        "# D4: done\n",
        "# D5: done\n",
        "# D6: done"
      ]
    },
    {
      "cell_type": "markdown",
      "metadata": {
        "id": "iT3Og9V_RaJ8"
      },
      "source": [
        "# SETUP - run only once"
      ]
    },
    {
      "cell_type": "code",
      "execution_count": 205,
      "metadata": {
        "colab": {
          "base_uri": "https://localhost:8080/"
        },
        "id": "TYRK4U8RlhA7",
        "outputId": "bef983ba-db23-41e4-d9fd-680c9c8b134e"
      },
      "outputs": [],
      "source": [
        "%matplotlib inline\n",
        "import tarfile\n",
        "import numpy as np\n",
        "import pandas as pd\n",
        "import matplotlib.pyplot as plt\n",
        "from sys import ps2\n",
        "\n",
        "\n",
        "#from google.colab import drive\n",
        "#drive.mount('/content/gdrive')\n",
        "\n",
        "caller_list = list() # holds names of all callers\n",
        "twodig_list = list() # holds 2dig accuracies of all callers\n",
        "fourdig_list = list() # holds 4dig accuracies of all callers"
      ]
    },
    {
      "cell_type": "markdown",
      "metadata": {
        "id": "u-kNs_C7RhSc"
      },
      "source": [
        "# Determining accuracy - run once per caller"
      ]
    },
    {
      "cell_type": "markdown",
      "metadata": {
        "id": "gnGM65ogSS4R"
      },
      "source": [
        "## Setup"
      ]
    },
    {
      "cell_type": "code",
      "execution_count": 211,
      "metadata": {
        "colab": {
          "base_uri": "https://localhost:8080/"
        },
        "id": "_VUGukkioQsM",
        "outputId": "4e82f2a6-30c7-4150-85c5-a35e25ad0310"
      },
      "outputs": [],
      "source": [
        "caller_name = input('What is name of caller ')\n",
        "root1 = '../datasets/'\n",
        "root2 = '../results/standard/{}'.format(caller_name)\n",
        "fourdig = 0\n",
        "twodig = 0\n",
        "numsamples = 0"
      ]
    },
    {
      "cell_type": "markdown",
      "metadata": {
        "id": "Zp-MwtWvSHXZ"
      },
      "source": [
        "## Dataset 1"
      ]
    },
    {
      "cell_type": "code",
      "execution_count": 199,
      "metadata": {
        "colab": {
          "base_uri": "https://localhost:8080/"
        },
        "id": "b2wScYhDOvi8",
        "outputId": "9a7ee0e8-2b26-465e-8b6d-040b818f553a"
      },
      "outputs": [
        {
          "name": "stdout",
          "output_type": "stream",
          "text": [
            "4 Digit Accuracy is : 88.66666666666667  %\n",
            "2 Digit Accuracy is : 97.66666666666667  %\n"
          ]
        }
      ],
      "source": [
        "# D1 Accuracy\n",
        "\n",
        "dir_1 =  root1+\"1_gs.csv\"\n",
        "dir_2 =  root2+'_d1.csv'\n",
        "gs = pd.read_csv(dir_1)\n",
        "pre = pd.read_csv(dir_2)\n",
        "\n",
        "# Put in dictionary with key pointing to 6 values\n",
        "index_list = list()\n",
        "\n",
        "gs_accessions = gs[gs.columns[0]].to_list()\n",
        "pre_accessions = pre[pre.columns[0]].to_list()\n",
        "\n",
        "for i in gs_accessions:\n",
        "  try: index_list.append( pre_accessions.index(i) )\n",
        "  except: pass\n",
        "\n",
        "# constructing standardized, stripped list of all alleles \n",
        "goldstandard = gs.values\n",
        "prediction = pre.values\n",
        "\n",
        "gold_set = []\n",
        "pred_set = []\n",
        "\n",
        "for i in range(0,len(goldstandard)):\n",
        "  try:\n",
        "    g = goldstandard[i][1:7]\n",
        "    p_raw = prediction[index_list[i]][1:7]\n",
        "    p = list()\n",
        "  except: \n",
        "    pass\n",
        "  \n",
        "  for i in p_raw:\n",
        "    p.append(i[0:7])\n",
        "\n",
        "  for k in range(0,len(g)):\n",
        "    gold_set.append(g[k]) # all alleles for the accession number\n",
        "    pred_set.append(p[k])\n",
        "\n",
        "\n",
        "numsamples += len(gold_set)\n",
        "\n",
        "\n",
        "# 4 digit resolution\n",
        "hit = 0\n",
        "#fix this bc it doesn't work because for instance, GS[2] matching with PRE[3] should not work\n",
        "for i in range(0,len(gold_set)):\n",
        "  try:\n",
        "    if gold_set[i] == pred_set[i]:\n",
        "      hit +=1 \n",
        "    elif pred_set[i] == gold_set[i-1]:\n",
        "      hit += 1\n",
        "    elif pred_set[i] == gold_set[i+1]:\n",
        "      hit += 1\n",
        "  except:\n",
        "    pass\n",
        "\n",
        "print('4 Digit Accuracy is :' , hit*100/len(pred_set), ' %')\n",
        "four_dig=hit*100/len(pred_set)\n",
        "fourdig = fourdig + hit\n",
        "\n",
        "# 2 digit resolution\n",
        "hit = 0\n",
        "for i in range(0,len(gold_set)):\n",
        "  if gold_set[i][0:4] == pred_set[i][0:4]:\n",
        "    hit +=1 \n",
        "  elif pred_set[i][0:4] == gold_set[i-1][0:4]:\n",
        "    hit += 1\n",
        "  elif pred_set[i][0:4] == gold_set[i+1][0:4]:\n",
        "    hit += 1\n",
        "\n",
        "print('2 Digit Accuracy is :' , hit*100/len(gold_set), ' %')\n",
        "two_dig = hit*100/len(pred_set)\n",
        "twodig = twodig + hit\n",
        "\n",
        "caller_list.append(caller_name)\n",
        "twodig_list.append(two_dig)\n",
        "fourdig_list.append(four_dig)"
      ]
    },
    {
      "cell_type": "markdown",
      "metadata": {
        "id": "5WhzfSCwScvm"
      },
      "source": [
        "## Dataset 2"
      ]
    },
    {
      "cell_type": "markdown",
      "metadata": {},
      "source": [
        "### 4 Digit Res"
      ]
    },
    {
      "cell_type": "code",
      "execution_count": 207,
      "metadata": {
        "colab": {
          "base_uri": "https://localhost:8080/"
        },
        "id": "P1FQTrazR6OI",
        "outputId": "9575a1e8-984f-4b50-c718-9fbe83ace8ea"
      },
      "outputs": [
        {
          "name": "stdout",
          "output_type": "stream",
          "text": [
            "4 Digit Accuracy is : 74.6938775510204  %\n"
          ]
        }
      ],
      "source": [
        "# Run for D2 accuracy 4 dig res\n",
        "\n",
        "dir_1 =  root1+\"2_gs_corrected.csv\"\n",
        "dir_2 =  root2+\"_d2.csv\"\n",
        "gs = pd.read_csv(dir_1)\n",
        "pre = pd.read_csv(dir_2)\n",
        "\n",
        "# Put in dictionary with key pointing to 6 values\n",
        "index_list = list()\n",
        "\n",
        "gs_accessions = gs[gs.columns[1]].to_list()\n",
        "pre_accessions = pre[pre.columns[0]].to_list()\n",
        "\n",
        "for i in gs_accessions:\n",
        "  try: index_list.append( pre_accessions.index(i) )\n",
        "  except: pass\n",
        "#index list holds the order the prediction samples are in, relative to GS\n",
        "#print(len(index_list))\n",
        "\n",
        "# constructing standardized, stripped list of all alleles \n",
        "goldstandard = gs.values\n",
        "prediction = pre.values\n",
        "\n",
        "gold_set = []\n",
        "pred_set = []\n",
        "\n",
        "for i in range(0,len(goldstandard)):\n",
        "  try:\n",
        "    g = goldstandard[i][2:8]\n",
        "    p_raw = prediction[index_list[i]][1:7]\n",
        "    p = list()\n",
        "  except: \n",
        "    pass\n",
        "  \n",
        "  for i in p_raw:\n",
        "    p.append(i[0:7])\n",
        "\n",
        "  for k in range(0,6):\n",
        "    gold_set.append(g[k]) # all alleles for the accession number\n",
        "    pred_set.append(p[k])\n",
        "\n",
        "numsamples += len(gold_set)\n",
        "# 4 digit resolution\n",
        "hit4 = 0\n",
        "#TODO: fix error where GS[2] matching with PRE[3] should not work\n",
        "\n",
        "for i in range(0,len(gold_set)): \n",
        "  try:\n",
        "    if '/' in gold_set[i]:\n",
        "      allele_list_curr = gold_set[i].split('/')\n",
        "      allele_list_prev = gold_set[i-1].split('/')\n",
        "      allele_list_next = gold_set[i+1].split('/')\n",
        "\n",
        "      allele_list_curr[:] = (elem[:7] for elem in allele_list_curr)\n",
        "      allele_list_prev[:] = (elem[:7] for elem in allele_list_prev)\n",
        "      allele_list_next[:] = (elem[:7] for elem in allele_list_next)\n",
        "\n",
        "      #print(allele_list_curr)\n",
        "\n",
        "      if pred_set[i] in allele_list_curr:\n",
        "        hit4 +=1 \n",
        "      elif pred_set[i] in allele_list_prev:\n",
        "        hit4 += 1\n",
        "      elif pred_set[i] in allele_list_next:\n",
        "        hit4 += 1\n",
        "    else:\n",
        "      if gold_set[i][0:7] == pred_set[i]:\n",
        "        hit4 +=1 \n",
        "      elif pred_set[i] == gold_set[i-1][0:7]:\n",
        "        hit4 += 1\n",
        "      elif pred_set[i] == gold_set[i+1][0:7]:\n",
        "        hit4 += 1\n",
        "  except:\n",
        "    pass\n",
        "\n",
        "print('4 Digit Accuracy is :' , hit4*100/len(pred_set), ' %')\n",
        "fourdig = fourdig + hit4\n"
      ]
    },
    {
      "cell_type": "markdown",
      "metadata": {},
      "source": [
        "### 2 Digit Res"
      ]
    },
    {
      "cell_type": "code",
      "execution_count": 208,
      "metadata": {
        "colab": {
          "base_uri": "https://localhost:8080/"
        },
        "id": "5rIPp_R3cSx1",
        "outputId": "43599ce2-e2cd-42fb-9be4-98f1ab8691f4"
      },
      "outputs": [
        {
          "name": "stdout",
          "output_type": "stream",
          "text": [
            "2 Digit Accuracy is : 78.84353741496598  %\n"
          ]
        }
      ],
      "source": [
        "# Run for D2 accuracy 2 dig res\n",
        "\n",
        "\n",
        "dir_1 =  root1+\"2_gs_corrected.csv\"\n",
        "dir_2 =  root2+\"_d2.csv\"\n",
        "gs = pd.read_csv(dir_1)\n",
        "pre = pd.read_csv(dir_2)\n",
        "\n",
        "# Put in dictionary with key pointing to 6 values\n",
        "index_list = list()\n",
        "\n",
        "gs_accessions = gs[gs.columns[1]].to_list()\n",
        "pre_accessions = pre[pre.columns[0]].to_list()\n",
        "\n",
        "for i in gs_accessions:\n",
        "  try: index_list.append( pre_accessions.index(i) )\n",
        "  except: pass\n",
        "#index list holds the order the prediction samples are in, relative to GS\n",
        "#print(len(index_list))\n",
        "\n",
        "# constructing standardized, stripped list of all alleles \n",
        "goldstandard = gs.values\n",
        "prediction = pre.values\n",
        "\n",
        "gold_set = []\n",
        "pred_set = []\n",
        "\n",
        "for i in range(0,len(goldstandard)):\n",
        "  try:\n",
        "    g = goldstandard[i][2:8]\n",
        "    p_raw = prediction[index_list[i]][1:7]\n",
        "    p = list()\n",
        "  except: \n",
        "    pass\n",
        "  \n",
        "  for i in p_raw:\n",
        "    p.append(i[0:4])\n",
        "\n",
        "  for k in range(0,6):\n",
        "    gold_set.append(g[k]) # all alleles for the accession number\n",
        "    pred_set.append(p[k])\n",
        "\n",
        "numsamples += len(gold_set)\n",
        "# 2 digit resolution\n",
        "hit2 = 0\n",
        "#TODO: fix error where GS[2] matching with PRE[3] should not work\n",
        "\n",
        "for i in range(0,len(pred_set)): \n",
        "  try:\n",
        "    if '/' in gold_set[i]:\n",
        "      allele_list_curr = gold_set[i].split('/')\n",
        "      allele_list_prev = gold_set[i-1].split('/')\n",
        "      allele_list_next = gold_set[i+1].split('/')\n",
        "\n",
        "      allele_list_curr[:] = (elem[:4] for elem in allele_list_curr)\n",
        "      allele_list_prev[:] = (elem[:4] for elem in allele_list_prev)\n",
        "      allele_list_next[:] = (elem[:4] for elem in allele_list_next)\n",
        "\n",
        "      if pred_set[i][0:4] in allele_list_curr:\n",
        "        hit2 +=1 \n",
        "      elif pred_set[i][0:4] in allele_list_prev:\n",
        "        hit2 += 1\n",
        "      elif pred_set[i][0:4] in allele_list_next:\n",
        "        hit2 += 1\n",
        "    else:\n",
        "      if gold_set[i][0:4] == pred_set[i][0:4]:\n",
        "        hit2 +=1 \n",
        "      elif pred_set[i][0:4] == gold_set[i-1][0:4]:\n",
        "        hit2 += 1\n",
        "      elif pred_set[i][0:4] == gold_set[i+1][0:4]:\n",
        "        hit2 += 1\n",
        "  except:\n",
        "    pass\n",
        "\n",
        "print('2 Digit Accuracy is :' , hit2*100/len(pred_set), ' %')\n",
        "twodig = twodig + hit2\n"
      ]
    },
    {
      "cell_type": "code",
      "execution_count": 209,
      "metadata": {},
      "outputs": [],
      "source": [
        "two_dig=hit2*100/len(pred_set)\n",
        "four_dig=hit4*100/len(pred_set)\n",
        "caller_list.append(caller_name)\n",
        "twodig_list.append(two_dig)\n",
        "fourdig_list.append(four_dig)"
      ]
    },
    {
      "cell_type": "markdown",
      "metadata": {
        "id": "9xuj4mksTEwn"
      },
      "source": [
        "## Dataset 3"
      ]
    },
    {
      "cell_type": "code",
      "execution_count": null,
      "metadata": {
        "id": "SF5w7mgordxk"
      },
      "outputs": [
        {
          "name": "stdout",
          "output_type": "stream",
          "text": [
            "4 Digit Accuracy is : 97.09302325581395  %\n",
            "2 Digit Accuracy is : 100.0  %\n"
          ]
        }
      ],
      "source": [
        "# D3 Accuracy\n",
        "\n",
        "dir_1 =  root1+\"3_gs_corrected.csv\"\n",
        "dir_2 =  root2+\"_d3.csv\"\n",
        "gs = pd.read_csv(dir_1)\n",
        "pre = pd.read_csv(dir_2)\n",
        "pre=pre.set_index(pre.columns[0])\n",
        "mask = pre.apply(lambda col: col.str.contains('DRB1').any(),\n",
        "                axis=0)\n",
        "pre=pre.loc[: , mask]\n",
        "pre=pre.reset_index()\n",
        "pre=pre.fillna('DRB1*00:00')\n",
        "#pre=pre.dropna()\n",
        "twodig_hit = 0\n",
        "fourdig_hit = 0\n",
        "\n",
        "# Put in dictionary with key pointing to 6 values\n",
        "index_list = list()\n",
        "\n",
        "gs_accessions = gs[gs.columns[0]].to_list()\n",
        "pre_accessions = pre[pre.columns[0]].to_list()\n",
        "\n",
        "for i in gs_accessions:\n",
        "  try: index_list.append( pre_accessions.index(i) )\n",
        "  except: pass\n",
        "\n",
        "# constructing standardized, stripped list of all alleles \n",
        "goldstandard = gs.values\n",
        "prediction = pre.values\n",
        "\n",
        "gold_set = []\n",
        "pred_set = []\n",
        "\n",
        "for i in range(0,len(goldstandard)):\n",
        "  try:\n",
        "    g = goldstandard[i][1:7]\n",
        "    p_raw = prediction[index_list[i]][1:7]\n",
        "    p = list()\n",
        "  except: \n",
        "    pass\n",
        "  \n",
        "  for i in p_raw:\n",
        "    p.append(i[0:10])\n",
        "\n",
        "  for k in range(0,len(g)):\n",
        "    gold_set.append(g[k]) # all alleles for the accession number\n",
        "    pred_set.append(p[k])\n",
        "\n",
        "\n",
        "numsamples += len(gold_set)\n",
        "\n",
        "\n",
        "# 4 digit resolution\n",
        "hit = 0\n",
        "#fix this bc it doesn't work because for instance, GS[2] matching with PRE[3] should not work\n",
        "for i in range(0,len(gold_set)):\n",
        "  try:\n",
        "    if gold_set[i] == pred_set[i]:\n",
        "      hit +=1 \n",
        "    elif pred_set[i] == gold_set[i-1]:\n",
        "      hit += 1\n",
        "    elif pred_set[i] == gold_set[i+1]:\n",
        "      hit += 1\n",
        "  except:\n",
        "    pass\n",
        "\n",
        "print('4 Digit Accuracy is :' , hit*100/len(pred_set), ' %')\n",
        "fourdig = fourdig + hit\n",
        "\n",
        "# 2 digit resolution\n",
        "hit = 0\n",
        "for i in range(0,len(gold_set)):\n",
        "  try:\n",
        "    if gold_set[i][0:7] == pred_set[i][0:7]:\n",
        "      hit +=1 \n",
        "    elif pred_set[i][0:7] == gold_set[i-1][0:7]:\n",
        "      hit += 1\n",
        "    elif pred_set[i][0:7] == gold_set[i+1][0:7]:\n",
        "      hit += 1\n",
        "  except:\n",
        "    pass\n",
        "  \n",
        "print('2 Digit Accuracy is :' , hit*100/len(gold_set), ' %')\n",
        "two_dig = hit*100/len(pred_set)\n",
        "twodig = twodig + hit"
      ]
    },
    {
      "cell_type": "markdown",
      "metadata": {
        "id": "_-9w8xXnSggd"
      },
      "source": [
        "## Dataset 4"
      ]
    },
    {
      "cell_type": "code",
      "execution_count": null,
      "metadata": {},
      "outputs": [
        {
          "name": "stdout",
          "output_type": "stream",
          "text": [
            "4 Digit Accuracy is : 14.285714285714286  %\n",
            "2 Digit Accuracy is : 14.285714285714286  %\n"
          ]
        }
      ],
      "source": [
        "# D4 Accuracy\n",
        "\n",
        "dir_1 =  root1+\"4_gs_corrected.csv\"\n",
        "dir_2 =  root2+\"_d4.csv\"\n",
        "gs = pd.read_csv(dir_1)\n",
        "pre = pd.read_csv(dir_2)\n",
        "pre=pre.set_index(pre.columns[0])\n",
        "mask = pre.apply(lambda col: col.str.contains('DRB1').any(),\n",
        "                axis=0)\n",
        "pre=pre.loc[: , mask]\n",
        "pre=pre.reset_index()\n",
        "pre=pre.fillna('DRB1*00:00')\n",
        "#pre=pre.dropna()\n",
        "twodig_hit = 0\n",
        "fourdig_hit = 0\n",
        "\n",
        "# Put in dictionary with key pointing to 6 values\n",
        "index_list = list()\n",
        "\n",
        "gs_accessions = gs[gs.columns[0]].to_list()\n",
        "pre_accessions = pre[pre.columns[0]].to_list()\n",
        "\n",
        "for i in gs_accessions:\n",
        "  try: index_list.append( pre_accessions.index(i) )\n",
        "  except: pass\n",
        "\n",
        "# constructing standardized, stripped list of all alleles \n",
        "goldstandard = gs.values\n",
        "prediction = pre.values\n",
        "\n",
        "gold_set = []\n",
        "pred_set = []\n",
        "\n",
        "for i in range(0,len(goldstandard)):\n",
        "  try:\n",
        "    g = goldstandard[i][1:7]\n",
        "    p_raw = prediction[index_list[i]][1:7]\n",
        "    p = list()\n",
        "  except: \n",
        "    pass\n",
        "  \n",
        "  for i in p_raw:\n",
        "    p.append(i[0:10])\n",
        "\n",
        "  for k in range(0,len(g)):\n",
        "    gold_set.append(g[k]) # all alleles for the accession number\n",
        "    pred_set.append(p[k])\n",
        "\n",
        "\n",
        "numsamples += len(gold_set)\n",
        "\n",
        "\n",
        "# 4 digit resolution\n",
        "hit = 0\n",
        "#fix this bc it doesn't work because for instance, GS[2] matching with PRE[3] should not work\n",
        "for i in range(0,len(gold_set)):\n",
        "  try:\n",
        "    if gold_set[i] == pred_set[i]:\n",
        "      hit +=1 \n",
        "    elif pred_set[i] == gold_set[i-1]:\n",
        "      hit += 1\n",
        "    elif pred_set[i] == gold_set[i+1]:\n",
        "      hit += 1\n",
        "  except:\n",
        "    pass\n",
        "\n",
        "print('4 Digit Accuracy is :' , hit*100/len(pred_set), ' %')\n",
        "fourdig = fourdig + hit\n",
        "\n",
        "# 2 digit resolution\n",
        "hit = 0\n",
        "for i in range(0,len(gold_set)):\n",
        "  try:\n",
        "    if gold_set[i][0:7] == pred_set[i][0:7]:\n",
        "      hit +=1 \n",
        "    elif pred_set[i][0:7] == gold_set[i-1][0:7]:\n",
        "      hit += 1\n",
        "    elif pred_set[i][0:7] == gold_set[i+1][0:7]:\n",
        "      hit += 1\n",
        "  except:\n",
        "    pass\n",
        "  \n",
        "print('2 Digit Accuracy is :' , hit*100/len(gold_set), ' %')\n",
        "two_dig = hit*100/len(pred_set)\n",
        "twodig = twodig + hit"
      ]
    },
    {
      "cell_type": "markdown",
      "metadata": {
        "id": "-1K9ayTWTP_j"
      },
      "source": [
        "## Dataset 5"
      ]
    },
    {
      "cell_type": "code",
      "execution_count": null,
      "metadata": {
        "colab": {
          "base_uri": "https://localhost:8080/",
          "height": 236
        },
        "id": "OLSltYoB_mXH",
        "outputId": "1c184aca-c7ca-4453-bac1-18d972f0f27a"
      },
      "outputs": [
        {
          "name": "stdout",
          "output_type": "stream",
          "text": [
            "['GSM2450856', 'GSM2450857', 'GSM2450858', 'GSM2450855']\n",
            "4 Digit Accuracy is : 100.0  %\n",
            "2 Digit Accuracy is : 100.0  %\n"
          ]
        }
      ],
      "source": [
        "# Run for d5 accuracy: monoallelic A and B only \n",
        "# i just brute force this for now because there are only 4 samples \n",
        "\n",
        "dir_1 =  root1+\"5_gs.csv\"\n",
        "dir_2 =  root2+\"_d5.csv\"\n",
        "gs = pd.read_csv(dir_1)\n",
        "pre = pd.read_csv(dir_2)\n",
        "pre=pre.set_index(pre.columns[0])\n",
        "mask = pre.apply(lambda col: col.str.contains('A|B').any(),\n",
        "                axis=0)\n",
        "pre=pre.loc[: , mask]\n",
        "pre=pre.reset_index()\n",
        "\n",
        "twodig_hit = 0\n",
        "fourdig_hit = 0\n",
        "\n",
        "# Put in dictionary with key pointing to 6 values\n",
        "index_list = list()\n",
        "\n",
        "gs_accessions = gs[gs.columns[0]].to_list()\n",
        "pre_accessions_raw = pre[pre.columns[0]].to_list()\n",
        "pre_accessions = list()\n",
        "for i in pre_accessions_raw:\n",
        "  pre_accessions.append(i[0:10])\n",
        "\n",
        "for i in gs_accessions:\n",
        "  try: index_list.append( pre_accessions.index(i) )\n",
        "  except: pass\n",
        "\n",
        "numsamples += len(index_list)\n",
        "\n",
        "# constructing standardized, stripped list of all alleles \n",
        "prediction = pre.values\n",
        "pred_set = []\n",
        "\n",
        "for i in range(0,len(index_list)):\n",
        "  p_raw = prediction[index_list[i]][1:5]\n",
        "  for i in p_raw:\n",
        "    try: pred_set.append(i[0:7])\n",
        "    except: pred_set.append('Z*00:00')\n",
        "\n",
        "\n",
        "#sample 1\n",
        "if (pred_set[0][0:7] == 'A*29:02') or pred_set[1][0:7] == 'A*29:02':\n",
        "  fourdig_hit +=1 \n",
        "if (pred_set[0][0:4] == 'A*29') or pred_set[1][0:4] == 'A*29':\n",
        "  twodig_hit +=1 \n",
        "\n",
        "#sample 2\n",
        "if (pred_set[6][0:7] == 'B*51:01') or pred_set[7][0:7] == 'B*51:01':\n",
        "  fourdig_hit += 1\n",
        "if (pred_set[6][0:4] == 'B*51') or pred_set[7][0:4] == 'B*51':\n",
        "  twodig_hit += 1\n",
        "\n",
        "#sample 3\n",
        "if (pred_set[10][0:7] == 'B*54:01') or pred_set[11][0:7] == 'B*54:01':\n",
        "  fourdig_hit += 1\n",
        "if (pred_set[10][0:4] == 'B*54') or pred_set[11][0:4] == 'B*54':\n",
        "  twodig_hit += 1\n",
        "\n",
        "#sample 4\n",
        "if (pred_set[14][0:7] == 'B*57:01') or pred_set[15][0:7] == 'B*57:01':\n",
        "  fourdig_hit += 1\n",
        "if (pred_set[14][0:4] == 'B*57') or pred_set[15][0:4] == 'B*57':\n",
        "  twodig_hit += 1\n",
        "      \n",
        "\n",
        "print('4 Digit Accuracy is :' , fourdig_hit*100/4, ' %')\n",
        "fourdig = fourdig + fourdig_hit\n",
        "\n",
        "print('2 Digit Accuracy is :' , twodig_hit*100/4, ' %')\n",
        "two_dig = twodig_hit*100/len(pred_set)\n",
        "twodig = twodig + twodig_hit"
      ]
    },
    {
      "cell_type": "markdown",
      "metadata": {
        "id": "JzpEjpbZTVqb"
      },
      "source": [
        "## Dataset 6"
      ]
    },
    {
      "cell_type": "code",
      "execution_count": null,
      "metadata": {
        "colab": {
          "base_uri": "https://localhost:8080/"
        },
        "id": "nYJJyaw4rmG2",
        "outputId": "28563833-decc-46a4-dc44-a4edb3e0cf1d"
      },
      "outputs": [
        {
          "name": "stdout",
          "output_type": "stream",
          "text": [
            "['GSM3768246', 'GSM3768251', 'GSM3768247', 'GSM3768250', 'GSM3768244', 'GSM3768249', 'GSM3768245', 'GSM3768248']\n",
            "[4, 6, 0, 2, 7, 5, 3, 1]\n",
            "['C*04:01', 'C*04:01', 'C*04:01', 'C*04:01', 'C*04:01', 'C*04:01', 'C*04:01', 'C*04:01', 'C*07:01', 'C*07:01', 'C*07:01', 'C*07:01', 'C*07:01', 'C*07:01', 'C*07:01', 'C*07:01']\n",
            "['C*04:01', 'C*04:01', 'C*04:01', 'C*04:01', 'C*07:01', 'C*07:01', 'C*07:01', 'C*07:01']\n",
            "4 Digit Accuracy is : 100.0  %\n",
            "2 Digit Accuracy is : 100.0  %\n"
          ]
        }
      ],
      "source": [
        "# run for d6 accuracy: monoallelic C only\n",
        "\n",
        "dir_1 =  root1+\"6_gs.csv\"\n",
        "dir_2 =  root2+\"_d6.csv\"\n",
        "gs = pd.read_csv(dir_1)\n",
        "pre = pd.read_csv(dir_2)\n",
        "pre=pre.set_index(pre.columns[0])\n",
        "mask = pre.apply(lambda col: col.str.contains('C').any(),\n",
        "                axis=0)\n",
        "pre=pre.loc[: , mask]\n",
        "pre=pre.reset_index()\n",
        "twodig_hit = 0\n",
        "fourdig_hit = 0\n",
        "\n",
        "# Put in dictionary with key pointing to 6 values\n",
        "index_list = list()\n",
        "\n",
        "gs_accessions = gs[gs.columns[0]].to_list()\n",
        "pre_accessions_raw = pre[pre.columns[0]].to_list()\n",
        "pre_accessions = list()\n",
        "for i in pre_accessions_raw:\n",
        "  pre_accessions.append(i[0:10])\n",
        "\n",
        "for i in gs_accessions:\n",
        "  try: index_list.append( pre_accessions.index(i) )\n",
        "  except: pass\n",
        "\n",
        "numsamples += len(index_list)\n",
        "\n",
        "# constructing standardized, stripped list of all alleles \n",
        "goldstandard = gs.values\n",
        "prediction = pre.values\n",
        "\n",
        "gold_set = gs[gs.columns[1]].to_list();\n",
        "pred_set = []\n",
        "\n",
        "for i in range(0,len(index_list)):\n",
        "  p_raw = prediction[index_list[i]][1:3] #select C alleles only\n",
        "  for i in p_raw:\n",
        "    try: pred_set.append(i[0:7])\n",
        "    except: pred_set.append('Z*00:00')\n",
        "\n",
        "\n",
        "\n",
        "for i in range(8):\n",
        "  if (pred_set[2*i][0:7] == gold_set[i]) or pred_set[2*i+1][0:7] == gold_set[i][0:7]:\n",
        "    fourdig_hit +=1 \n",
        "  if (pred_set[2*i][0:4] == gold_set[i][0:4]) or pred_set[2*i+1][0:4] == gold_set[i][0:4]:\n",
        "    twodig_hit +=1 \n",
        "\n",
        "print('4 Digit Accuracy is :' , fourdig_hit*100/8, ' %')\n",
        "fourdig = fourdig + fourdig_hit\n",
        "\n",
        "print('2 Digit Accuracy is :' , twodig_hit*100/8, ' %')\n",
        "two_dig = twodig_hit*100/len(pred_set)\n",
        "twodig = twodig + twodig_hit"
      ]
    },
    {
      "cell_type": "markdown",
      "metadata": {
        "id": "JOVBZjvCTZjT"
      },
      "source": [
        "# Accuracy Plots"
      ]
    },
    {
      "cell_type": "code",
      "execution_count": 172,
      "metadata": {
        "id": "b-V-4D5RTpEp"
      },
      "outputs": [],
      "source": [
        "import seaborn as sns"
      ]
    },
    {
      "cell_type": "markdown",
      "metadata": {
        "id": "tHYBAHpRTdaq"
      },
      "source": [
        "## Overall Accuracy Plot"
      ]
    },
    {
      "cell_type": "code",
      "execution_count": null,
      "metadata": {
        "colab": {
          "base_uri": "https://localhost:8080/",
          "height": 312
        },
        "id": "YELCZETUE6V-",
        "outputId": "63536306-2a55-4100-9520-a39f81fc30ec"
      },
      "outputs": [
        {
          "data": {
            "text/plain": [
              "<matplotlib.legend.Legend at 0x7f20781eebd0>"
            ]
          },
          "execution_count": 31,
          "metadata": {},
          "output_type": "execute_result"
        },
        {
          "data": {
            "image/png": "[encoded data removed]",
            "text/plain": [
              "<Figure size 432x288 with 1 Axes>"
            ]
          },
          "metadata": {},
          "output_type": "display_data"
        }
      ],
      "source": [
        "#graph creation. only run once once all data is collected\n",
        "X_axis = np.arange(len(caller_list))\n",
        "plt.bar(X_axis - 0.2, fourdig_list, 0.4, label = 'four digit res')\n",
        "plt.bar(X_axis + 0.2, twodig_list, 0.4, label = 'two digit res')\n",
        "plt.xticks(X_axis, caller_list)\n",
        "plt.xlabel('Callers')\n",
        "plt.ylabel('Accuracy')\n",
        "plt.title('Accuracy of callers, to 2- and 4-Digit Resolution')\n",
        "plt.legend()"
      ]
    },
    {
      "cell_type": "markdown",
      "metadata": {
        "id": "_cIjQX8PThPx"
      },
      "source": [
        "## D1 Accuracy Plot"
      ]
    },
    {
      "cell_type": "code",
      "execution_count": 200,
      "metadata": {
        "colab": {
          "base_uri": "https://localhost:8080/",
          "height": 201
        },
        "id": "wAn7NFbxT5AM",
        "outputId": "e919604f-e534-4d1d-feeb-5a88be122fcf"
      },
      "outputs": [],
      "source": [
        "d1_caller_list=caller_list\n",
        "d1_twodig_list=twodig_list\n",
        "d1_fourdig_list=fourdig_list\n",
        "df1=pd.DataFrame(np.column_stack([d1_caller_list,d1_twodig_list,d1_fourdig_list]), \n",
        "                               columns=['Callers','Two Digits', 'Four Digit'])"
      ]
    },
    {
      "cell_type": "code",
      "execution_count": 201,
      "metadata": {
        "colab": {
          "base_uri": "https://localhost:8080/",
          "height": 269
        },
        "id": "nS7W35XRUbkS",
        "outputId": "2432baa0-22a0-4c7a-f530-7cd1f2e0390b"
      },
      "outputs": [
        {
          "data": {
            "text/html": [
              "<div>\n",
              "<style scoped>\n",
              "    .dataframe tbody tr th:only-of-type {\n",
              "        vertical-align: middle;\n",
              "    }\n",
              "\n",
              "    .dataframe tbody tr th {\n",
              "        vertical-align: top;\n",
              "    }\n",
              "\n",
              "    .dataframe thead th {\n",
              "        text-align: right;\n",
              "    }\n",
              "</style>\n",
              "<table border=\"1\" class=\"dataframe\">\n",
              "  <thead>\n",
              "    <tr style=\"text-align: right;\">\n",
              "      <th></th>\n",
              "      <th>Callers</th>\n",
              "      <th>Two Digits</th>\n",
              "      <th>Four Digit</th>\n",
              "    </tr>\n",
              "  </thead>\n",
              "  <tbody>\n",
              "    <tr>\n",
              "      <th>0</th>\n",
              "      <td>arcas</td>\n",
              "      <td>97.66666666666667</td>\n",
              "      <td>68.33333333333333</td>\n",
              "    </tr>\n",
              "    <tr>\n",
              "      <th>1</th>\n",
              "      <td>hlaforest</td>\n",
              "      <td>96.66666666666667</td>\n",
              "      <td>85.66666666666667</td>\n",
              "    </tr>\n",
              "    <tr>\n",
              "      <th>2</th>\n",
              "      <td>optitype</td>\n",
              "      <td>97.0</td>\n",
              "      <td>93.66666666666667</td>\n",
              "    </tr>\n",
              "    <tr>\n",
              "      <th>3</th>\n",
              "      <td>phlat</td>\n",
              "      <td>96.66666666666667</td>\n",
              "      <td>83.66666666666667</td>\n",
              "    </tr>\n",
              "    <tr>\n",
              "      <th>4</th>\n",
              "      <td>rna2hla</td>\n",
              "      <td>97.66666666666667</td>\n",
              "      <td>92.33333333333333</td>\n",
              "    </tr>\n",
              "    <tr>\n",
              "      <th>5</th>\n",
              "      <td>seq2hla</td>\n",
              "      <td>97.66666666666667</td>\n",
              "      <td>92.33333333333333</td>\n",
              "    </tr>\n",
              "    <tr>\n",
              "      <th>6</th>\n",
              "      <td>hlavbseq</td>\n",
              "      <td>97.66666666666667</td>\n",
              "      <td>88.66666666666667</td>\n",
              "    </tr>\n",
              "  </tbody>\n",
              "</table>\n",
              "</div>"
            ],
            "text/plain": [
              "     Callers         Two Digits         Four Digit\n",
              "0      arcas  97.66666666666667  68.33333333333333\n",
              "1  hlaforest  96.66666666666667  85.66666666666667\n",
              "2   optitype               97.0  93.66666666666667\n",
              "3      phlat  96.66666666666667  83.66666666666667\n",
              "4    rna2hla  97.66666666666667  92.33333333333333\n",
              "5    seq2hla  97.66666666666667  92.33333333333333\n",
              "6   hlavbseq  97.66666666666667  88.66666666666667"
            ]
          },
          "execution_count": 201,
          "metadata": {},
          "output_type": "execute_result"
        }
      ],
      "source": [
        "df1"
      ]
    },
    {
      "cell_type": "code",
      "execution_count": 202,
      "metadata": {
        "id": "lsXJDUiBUgJo"
      },
      "outputs": [],
      "source": [
        "df1=df1.melt(id_vars='Callers').rename(columns=str.title)\n",
        "df1['Value'] = df1['Value'].astype(float)"
      ]
    },
    {
      "cell_type": "code",
      "execution_count": 204,
      "metadata": {
        "colab": {
          "base_uri": "https://localhost:8080/",
          "height": 325
        },
        "id": "ZcgyUNdNTvu5",
        "outputId": "64fd823b-7ab2-4e72-f1ad-226564d9c4dd"
      },
      "outputs": [
        {
          "data": {
            "image/png": "[encoded data removed]",
            "text/plain": [
              "<Figure size 432x288 with 1 Axes>"
            ]
          },
          "metadata": {
            "needs_background": "light"
          },
          "output_type": "display_data"
        }
      ],
      "source": [
        "sns.set_context(\"paper\")\n",
        "sns.color_palette(\"pastel\")\n",
        "ax=sns.barplot(x='Callers',y='Value', hue='Variable', data=df1)\n",
        "ax.set_xticklabels(['ArcasHLA', 'HLAForest', 'Optitype','PHLAT','RNA2HLA','seq2HLA','HLA-VBSeq'],rotation=45)\n",
        "# Put the legend out of the figure\n",
        "ax.set_ylabel(\"Accuracy\")\n",
        "ax.set_title(\"Dataset 1 Accuracy Scores\") \n",
        "plt.legend(bbox_to_anchor=(1.05, 1), loc=2, borderaxespad=0.)\n",
        "sns.despine()\n",
        "plt.savefig('../Figures/d1_accuracy.png',bbox_inches =\"tight\",dpi=300)"
      ]
    },
    {
      "cell_type": "markdown",
      "metadata": {
        "id": "Yy1OalUeXp8t"
      },
      "source": [
        "## D2 Accuracy Plot"
      ]
    },
    {
      "cell_type": "code",
      "execution_count": null,
      "metadata": {},
      "outputs": [],
      "source": [
        "d2_caller_list=caller_list\n",
        "d2_twodig_list=twodig_list\n",
        "d2_fourdig_list=fourdig_list\n",
        "df2=pd.DataFrame(np.column_stack([d2_caller_list,d2_twodig_list,d2_fourdig_list]), \n",
        "                               columns=['Callers','Two Digits', 'Four Digit'])\n",
        "df2=df2.melt(id_vars='Callers').rename(columns=str.title)\n",
        "df2['Value'] = df6['Value'].astype(float)"
      ]
    },
    {
      "cell_type": "code",
      "execution_count": null,
      "metadata": {},
      "outputs": [],
      "source": [
        "sns.set_context(\"paper\")\n",
        "sns.color_palette(\"pastel\")\n",
        "ax=sns.barplot(x='Callers',y='Value', hue='Variable', data=df6)\n",
        "ax.set_xticklabels(['ArcasHLA','RNA2HLA','seq2HLA','HLA-VBSeq'],rotation=45)\n",
        "# Put the legend out of the figure\n",
        "ax.set_ylabel(\"Accuracy\")\n",
        "ax.set_title(\"Dataset 2 Accuracy Scores\") \n",
        "plt.legend(bbox_to_anchor=(1.05, 1), loc=2, borderaxespad=0.)\n",
        "sns.despine()\n",
        "plt.savefig('/content/gdrive/MyDrive/HLA_analysis/Figures/d2_accuracy.png',bbox_inches =\"tight\")"
      ]
    },
    {
      "cell_type": "markdown",
      "metadata": {},
      "source": [
        "## D3 Accuracy Plot"
      ]
    },
    {
      "cell_type": "code",
      "execution_count": null,
      "metadata": {},
      "outputs": [],
      "source": [
        "d3_caller_list=caller_list\n",
        "d3_twodig_list=twodig_list\n",
        "d3_fourdig_list=fourdig_list\n",
        "df3=pd.DataFrame(np.column_stack([d3_caller_list,d3_twodig_list,d3_fourdig_list]), \n",
        "                               columns=['Callers','Two Digits', 'Four Digit'])\n",
        "df3=df3.melt(id_vars='Callers').rename(columns=str.title)\n",
        "df3['Value'] = df6['Value'].astype(float)"
      ]
    },
    {
      "cell_type": "code",
      "execution_count": null,
      "metadata": {},
      "outputs": [],
      "source": [
        "sns.set_context(\"paper\")\n",
        "sns.color_palette(\"pastel\")\n",
        "ax=sns.barplot(x='Callers',y='Value', hue='Variable', data=df6)\n",
        "ax.set_xticklabels(['ArcasHLA','RNA2HLA','seq2HLA','HLA-VBSeq'],rotation=45)\n",
        "# Put the legend out of the figure\n",
        "ax.set_ylabel(\"Accuracy\")\n",
        "ax.set_title(\"Dataset 2 Accuracy Scores\") \n",
        "plt.legend(bbox_to_anchor=(1.05, 1), loc=2, borderaxespad=0.)\n",
        "sns.despine()\n",
        "plt.savefig('/content/gdrive/MyDrive/HLA_analysis/Figures/d3_accuracy.png',bbox_inches =\"tight\")"
      ]
    },
    {
      "cell_type": "markdown",
      "metadata": {},
      "source": [
        "## D4 Accuracy Plot"
      ]
    },
    {
      "cell_type": "code",
      "execution_count": null,
      "metadata": {},
      "outputs": [],
      "source": [
        "d4_caller_list=caller_list\n",
        "d4_twodig_list=twodig_list\n",
        "d4_fourdig_list=fourdig_list\n",
        "df4=pd.DataFrame(np.column_stack([d4_caller_list,d4_twodig_list,d4_fourdig_list]), \n",
        "                               columns=['Callers','Two Digits', 'Four Digit'])\n",
        "df4=df4.melt(id_vars='Callers').rename(columns=str.title)\n",
        "df4['Value'] = df6['Value'].astype(float)"
      ]
    },
    {
      "cell_type": "code",
      "execution_count": null,
      "metadata": {},
      "outputs": [],
      "source": [
        "sns.set_context(\"paper\")\n",
        "sns.color_palette(\"pastel\")\n",
        "ax=sns.barplot(x='Callers',y='Value', hue='Variable', data=df6)\n",
        "ax.set_xticklabels(['ArcasHLA','RNA2HLA','seq2HLA','HLA-VBSeq'],rotation=45)\n",
        "# Put the legend out of the figure\n",
        "ax.set_ylabel(\"Accuracy\")\n",
        "ax.set_title(\"Dataset 2 Accuracy Scores\") \n",
        "plt.legend(bbox_to_anchor=(1.05, 1), loc=2, borderaxespad=0.)\n",
        "sns.despine()\n",
        "plt.savefig('/content/gdrive/MyDrive/HLA_analysis/Figures/d4_accuracy.png',bbox_inches =\"tight\")"
      ]
    },
    {
      "cell_type": "markdown",
      "metadata": {},
      "source": [
        "## D5 Accuracy Plot"
      ]
    },
    {
      "cell_type": "code",
      "execution_count": null,
      "metadata": {},
      "outputs": [],
      "source": [
        "d5_caller_list=caller_list\n",
        "d5_twodig_list=twodig_list\n",
        "d5_fourdig_list=fourdig_list\n",
        "df5=pd.DataFrame(np.column_stack([d5_caller_list,d5_twodig_list,d5_fourdig_list]), \n",
        "                               columns=['Callers','Two Digits', 'Four Digit'])\n",
        "df6=df6.melt(id_vars='Callers').rename(columns=str.title)\n",
        "df5['Value'] = df5['Value'].astype(float)"
      ]
    },
    {
      "cell_type": "code",
      "execution_count": null,
      "metadata": {
        "id": "GYzW9JbSXyty"
      },
      "outputs": [],
      "source": [
        "sns.set_context(\"paper\")\n",
        "sns.color_palette(\"pastel\")\n",
        "ax=sns.barplot(x='Callers',y='Value', hue='Variable', data=df5)\n",
        "#ax.set_xticklabels(['ArcasHLA', 'HLAForest', 'Optitype','PHLAT','RNA2HLA','seq2HLA','HLA-VBSeq'],rotation=45)\n",
        "# Put the legend out of the figure\n",
        "ax.set_ylabel(\"Accuracy\")\n",
        "ax.set_title(\"Dataset 1 Accuracy Scores\") \n",
        "plt.legend(bbox_to_anchor=(1.05, 1), loc=2, borderaxespad=0.)\n",
        "sns.despine()\n",
        "plt.savefig('/content/gdrive/MyDrive/HLA_analysis/Figures/d5_accuracy.png',bbox_inches =\"tight\")"
      ]
    },
    {
      "cell_type": "markdown",
      "metadata": {
        "id": "qWBvTk_JzGTV"
      },
      "source": [
        "## D6 Accuracy Plot"
      ]
    },
    {
      "cell_type": "code",
      "execution_count": null,
      "metadata": {
        "id": "_SoNZEKLzIu9"
      },
      "outputs": [],
      "source": [
        "d6_caller_list=caller_list\n",
        "d6_twodig_list=twodig_list\n",
        "d6_fourdig_list=fourdig_list\n",
        "df6=pd.DataFrame(np.column_stack([d6_caller_list,d6_twodig_list,d6_fourdig_list]), \n",
        "                               columns=['Callers','Two Digits', 'Four Digit'])\n",
        "df6=df6.melt(id_vars='Callers').rename(columns=str.title)\n",
        "df6['Value'] = df6['Value'].astype(float)"
      ]
    },
    {
      "cell_type": "code",
      "execution_count": null,
      "metadata": {
        "colab": {
          "base_uri": "https://localhost:8080/",
          "height": 325
        },
        "id": "Udr527M-zRuh",
        "outputId": "a6287005-fe44-4790-9563-736b01a4d72e"
      },
      "outputs": [
        {
          "data": {
            "image/png": "[encoded data removed]",
            "text/plain": [
              "<Figure size 432x288 with 1 Axes>"
            ]
          },
          "metadata": {},
          "output_type": "display_data"
        }
      ],
      "source": [
        "sns.set_context(\"paper\")\n",
        "sns.color_palette(\"pastel\")\n",
        "ax=sns.barplot(x='Callers',y='Value', hue='Variable', data=df6)\n",
        "ax.set_xticklabels(['ArcasHLA','RNA2HLA','seq2HLA','HLA-VBSeq'],rotation=45)\n",
        "# Put the legend out of the figure\n",
        "ax.set_ylabel(\"Accuracy\")\n",
        "ax.set_title(\"Dataset 6 Accuracy Scores\") \n",
        "plt.legend(bbox_to_anchor=(1.05, 1), loc=2, borderaxespad=0.)\n",
        "sns.despine()\n",
        "plt.savefig('/content/gdrive/MyDrive/HLA_analysis/Figures/d6_accuracy.png',bbox_inches =\"tight\")"
      ]
    }
  ],
  "metadata": {
    "colab": {
      "collapsed_sections": [
        "Zp-MwtWvSHXZ",
        "9xuj4mksTEwn",
        "_-9w8xXnSggd",
        "-1K9ayTWTP_j",
        "JzpEjpbZTVqb",
        "tHYBAHpRTdaq",
        "_cIjQX8PThPx",
        "Yy1OalUeXp8t",
        "qWBvTk_JzGTV"
      ],
      "name": "FINAL accuracy - all datasets.ipynb",
      "provenance": []
    },
    "kernelspec": {
      "display_name": "Python 3.8.8 ('base')",
      "language": "python",
      "name": "python3"
    },
    "language_info": {
      "codemirror_mode": {
        "name": "ipython",
        "version": 3
      },
      "file_extension": ".py",
      "mimetype": "text/x-python",
      "name": "python",
      "nbconvert_exporter": "python",
      "pygments_lexer": "ipython3",
      "version": "3.8.8"
    },
    "vscode": {
      "interpreter": {
        "hash": "a5887580c7cbb0fe8c117cf89484cb0db59155905523768f16ba2f70bd8e79c7"
      }
    }
  },
  "nbformat": 4,
  "nbformat_minor": 0
}
