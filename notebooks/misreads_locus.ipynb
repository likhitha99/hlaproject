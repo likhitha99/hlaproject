{
 "cells": [
  {
   "cell_type": "code",
   "execution_count": 6,
   "metadata": {},
   "outputs": [],
   "source": [
    "import pandas as pd\n",
    "import glob\n",
    "import collections\n",
    "import seaborn as sns\n",
    "import numpy as np\n",
    "import matplotlib.pyplot as plt \n",
    "from utils import *"
   ]
  },
  {
   "cell_type": "markdown",
   "metadata": {},
   "source": [
    "# Functions"
   ]
  },
  {
   "cell_type": "markdown",
   "metadata": {},
   "source": [
    "# Mismatch"
   ]
  },
  {
   "cell_type": "code",
   "execution_count": 7,
   "metadata": {},
   "outputs": [],
   "source": [
    "tool_list=[\"arcas\",\"hlaforest\",\"hlavbseq\",\"optitype\",\"phlat\",\"rna2hla\",\"seq2hla\",\"hlahd\"]\n",
    "#tool_list=[\"hlavbseq\"]\n",
    "\n",
    "missed_alleles = []\n",
    "\n",
    "for t in tool_list:\n",
    "    missed_alleles_caller = []\n",
    "    for i in range(1,7):\n",
    "        gs=pd.read_csv(f\"../datasets/{i}_gs.csv\")\n",
    "        pre=pd.read_csv(f\"../results/standard/{t}_d{i}.csv\")\n",
    "    \n",
    "        ret = get_inaccurate_and_all_alleles(pre,gs)\n",
    "        missed_alleles_caller.append(ret[0])\n",
    "    missed_alleles.append(missed_alleles_caller)\n",
    "\n"
   ]
  },
  {
   "cell_type": "code",
   "execution_count": 8,
   "metadata": {},
   "outputs": [
    {
     "name": "stdout",
     "output_type": "stream",
     "text": [
      "[[0.01383764 0.01574074 0.01654412 0.02627119 0.00306122]\n",
      " [0.01476015 0.07685185 0.01470588 0.02457627 0.02653061]\n",
      " [0.08210332 0.11481481 0.09742647 0.88220339 0.95714286]\n",
      " [0.00276753 0.01111111 0.00551471 0.         0.        ]\n",
      " [0.00830258 0.05925926 0.02665441 0.02457627 0.39591837]\n",
      " [0.00369004 0.02222222 0.02205882 0.06779661 0.        ]\n",
      " [0.00369004 0.02222222 0.02205882 0.10254237 0.07040816]\n",
      " [0.06549815 0.05185185 0.05790441 0.06355932 0.06326531]]\n"
     ]
    }
   ],
   "source": [
    "mis_total = []\n",
    "all_total = np.array([1084, 1080, 1088, 1180, 980]) #5 element vector with # of gold standard A, B, C, DRB, and DQB\n",
    "\n",
    "for tool in missed_alleles:\n",
    "    mis_counts = [0,0,0,0,0]\n",
    "    for d in tool:\n",
    "        for allele in d:\n",
    "            if allele[0] == \"A\":\n",
    "                mis_counts[0]+=1\n",
    "            if allele[0] == \"B\":\n",
    "                mis_counts[1] += 1\n",
    "            if allele[0] == 'C':\n",
    "                mis_counts[2] += 1\n",
    "            if allele[0:2] == 'DR':\n",
    "                mis_counts[3] += 1\n",
    "            if allele[0:2] == 'DQ':\n",
    "                mis_counts[4] += 1\n",
    "    mis_total.append(mis_counts)\n",
    "\n",
    "percentage = mis_total/all_total\n",
    "print(percentage)"
   ]
  },
  {
   "cell_type": "markdown",
   "metadata": {},
   "source": [
    "# Plots"
   ]
  },
  {
   "cell_type": "code",
   "execution_count": 9,
   "metadata": {},
   "outputs": [
    {
     "data": {
      "text/html": [
       "<div>\n",
       "<style scoped>\n",
       "    .dataframe tbody tr th:only-of-type {\n",
       "        vertical-align: middle;\n",
       "    }\n",
       "\n",
       "    .dataframe tbody tr th {\n",
       "        vertical-align: top;\n",
       "    }\n",
       "\n",
       "    .dataframe thead th {\n",
       "        text-align: right;\n",
       "    }\n",
       "</style>\n",
       "<table border=\"1\" class=\"dataframe\">\n",
       "  <thead>\n",
       "    <tr style=\"text-align: right;\">\n",
       "      <th></th>\n",
       "      <th>A</th>\n",
       "      <th>B</th>\n",
       "      <th>C</th>\n",
       "      <th>DRB1</th>\n",
       "      <th>DQB1</th>\n",
       "    </tr>\n",
       "  </thead>\n",
       "  <tbody>\n",
       "    <tr>\n",
       "      <th>arcas</th>\n",
       "      <td>15</td>\n",
       "      <td>17</td>\n",
       "      <td>18</td>\n",
       "      <td>31</td>\n",
       "      <td>3</td>\n",
       "    </tr>\n",
       "    <tr>\n",
       "      <th>hlaforest</th>\n",
       "      <td>16</td>\n",
       "      <td>83</td>\n",
       "      <td>16</td>\n",
       "      <td>29</td>\n",
       "      <td>26</td>\n",
       "    </tr>\n",
       "    <tr>\n",
       "      <th>hlavbseq</th>\n",
       "      <td>89</td>\n",
       "      <td>124</td>\n",
       "      <td>106</td>\n",
       "      <td>1041</td>\n",
       "      <td>938</td>\n",
       "    </tr>\n",
       "    <tr>\n",
       "      <th>optitype</th>\n",
       "      <td>3</td>\n",
       "      <td>12</td>\n",
       "      <td>6</td>\n",
       "      <td>0</td>\n",
       "      <td>0</td>\n",
       "    </tr>\n",
       "    <tr>\n",
       "      <th>phlat</th>\n",
       "      <td>9</td>\n",
       "      <td>64</td>\n",
       "      <td>29</td>\n",
       "      <td>29</td>\n",
       "      <td>388</td>\n",
       "    </tr>\n",
       "    <tr>\n",
       "      <th>rna2hla</th>\n",
       "      <td>4</td>\n",
       "      <td>24</td>\n",
       "      <td>24</td>\n",
       "      <td>80</td>\n",
       "      <td>0</td>\n",
       "    </tr>\n",
       "    <tr>\n",
       "      <th>seq2hla</th>\n",
       "      <td>4</td>\n",
       "      <td>24</td>\n",
       "      <td>24</td>\n",
       "      <td>121</td>\n",
       "      <td>69</td>\n",
       "    </tr>\n",
       "    <tr>\n",
       "      <th>hlahd</th>\n",
       "      <td>71</td>\n",
       "      <td>56</td>\n",
       "      <td>63</td>\n",
       "      <td>75</td>\n",
       "      <td>62</td>\n",
       "    </tr>\n",
       "  </tbody>\n",
       "</table>\n",
       "</div>"
      ],
      "text/plain": [
       "            A    B    C  DRB1  DQB1\n",
       "arcas      15   17   18    31     3\n",
       "hlaforest  16   83   16    29    26\n",
       "hlavbseq   89  124  106  1041   938\n",
       "optitype    3   12    6     0     0\n",
       "phlat       9   64   29    29   388\n",
       "rna2hla     4   24   24    80     0\n",
       "seq2hla     4   24   24   121    69\n",
       "hlahd      71   56   63    75    62"
      ]
     },
     "execution_count": 9,
     "metadata": {},
     "output_type": "execute_result"
    }
   ],
   "source": [
    "df = pd.DataFrame(mis_total)\n",
    "df.columns = ['A','B','C','DRB1','DQB1']\n",
    "df.index = [\"arcas\",\"hlaforest\",\"hlavbseq\",\"optitype\",\"phlat\",\"rna2hla\",\"seq2hla\",\"hlahd\"]\n",
    "df"
   ]
  },
  {
   "cell_type": "code",
   "execution_count": 10,
   "metadata": {},
   "outputs": [
    {
     "data": {
      "text/html": [
       "<div>\n",
       "<style scoped>\n",
       "    .dataframe tbody tr th:only-of-type {\n",
       "        vertical-align: middle;\n",
       "    }\n",
       "\n",
       "    .dataframe tbody tr th {\n",
       "        vertical-align: top;\n",
       "    }\n",
       "\n",
       "    .dataframe thead th {\n",
       "        text-align: right;\n",
       "    }\n",
       "</style>\n",
       "<table border=\"1\" class=\"dataframe\">\n",
       "  <thead>\n",
       "    <tr style=\"text-align: right;\">\n",
       "      <th></th>\n",
       "      <th>A</th>\n",
       "      <th>B</th>\n",
       "      <th>C</th>\n",
       "      <th>DRB1</th>\n",
       "      <th>DQB1</th>\n",
       "    </tr>\n",
       "  </thead>\n",
       "  <tbody>\n",
       "    <tr>\n",
       "      <th>arcas</th>\n",
       "      <td>0.013838</td>\n",
       "      <td>0.015741</td>\n",
       "      <td>0.016544</td>\n",
       "      <td>0.026271</td>\n",
       "      <td>0.003061</td>\n",
       "    </tr>\n",
       "    <tr>\n",
       "      <th>hlaforest</th>\n",
       "      <td>0.014760</td>\n",
       "      <td>0.076852</td>\n",
       "      <td>0.014706</td>\n",
       "      <td>0.024576</td>\n",
       "      <td>0.026531</td>\n",
       "    </tr>\n",
       "    <tr>\n",
       "      <th>hlavbseq</th>\n",
       "      <td>0.082103</td>\n",
       "      <td>0.114815</td>\n",
       "      <td>0.097426</td>\n",
       "      <td>0.882203</td>\n",
       "      <td>0.957143</td>\n",
       "    </tr>\n",
       "    <tr>\n",
       "      <th>optitype</th>\n",
       "      <td>0.002768</td>\n",
       "      <td>0.011111</td>\n",
       "      <td>0.005515</td>\n",
       "      <td>0.000000</td>\n",
       "      <td>0.000000</td>\n",
       "    </tr>\n",
       "    <tr>\n",
       "      <th>phlat</th>\n",
       "      <td>0.008303</td>\n",
       "      <td>0.059259</td>\n",
       "      <td>0.026654</td>\n",
       "      <td>0.024576</td>\n",
       "      <td>0.395918</td>\n",
       "    </tr>\n",
       "    <tr>\n",
       "      <th>rna2hla</th>\n",
       "      <td>0.003690</td>\n",
       "      <td>0.022222</td>\n",
       "      <td>0.022059</td>\n",
       "      <td>0.067797</td>\n",
       "      <td>0.000000</td>\n",
       "    </tr>\n",
       "    <tr>\n",
       "      <th>seq2hla</th>\n",
       "      <td>0.003690</td>\n",
       "      <td>0.022222</td>\n",
       "      <td>0.022059</td>\n",
       "      <td>0.102542</td>\n",
       "      <td>0.070408</td>\n",
       "    </tr>\n",
       "    <tr>\n",
       "      <th>hlahd</th>\n",
       "      <td>0.065498</td>\n",
       "      <td>0.051852</td>\n",
       "      <td>0.057904</td>\n",
       "      <td>0.063559</td>\n",
       "      <td>0.063265</td>\n",
       "    </tr>\n",
       "  </tbody>\n",
       "</table>\n",
       "</div>"
      ],
      "text/plain": [
       "                  A         B         C      DRB1      DQB1\n",
       "arcas      0.013838  0.015741  0.016544  0.026271  0.003061\n",
       "hlaforest  0.014760  0.076852  0.014706  0.024576  0.026531\n",
       "hlavbseq   0.082103  0.114815  0.097426  0.882203  0.957143\n",
       "optitype   0.002768  0.011111  0.005515  0.000000  0.000000\n",
       "phlat      0.008303  0.059259  0.026654  0.024576  0.395918\n",
       "rna2hla    0.003690  0.022222  0.022059  0.067797  0.000000\n",
       "seq2hla    0.003690  0.022222  0.022059  0.102542  0.070408\n",
       "hlahd      0.065498  0.051852  0.057904  0.063559  0.063265"
      ]
     },
     "execution_count": 10,
     "metadata": {},
     "output_type": "execute_result"
    }
   ],
   "source": [
    "df = pd.DataFrame(percentage)\n",
    "df.columns = ['A','B','C','DRB1','DQB1']\n",
    "df.index = [\"arcas\",\"hlaforest\",\"hlavbseq\",\"optitype\",\"phlat\",\"rna2hla\",\"seq2hla\",\"hlahd\"]\n",
    "df"
   ]
  },
  {
   "cell_type": "code",
   "execution_count": 16,
   "metadata": {},
   "outputs": [
    {
     "data": {
      "text/plain": [
       "<AxesSubplot:>"
      ]
     },
     "execution_count": 16,
     "metadata": {},
     "output_type": "execute_result"
    },
    {
     "data": {
      "image/png": "[encoded data removed]",
      "text/plain": [
       "<Figure size 432x288 with 2 Axes>"
      ]
     },
     "metadata": {
      "needs_background": "light"
     },
     "output_type": "display_data"
    }
   ],
   "source": [
    "from matplotlib.colors import LogNorm, Normalize\n",
    "sns.heatmap(df,annot=True,vmin=0,vmax=0.3)"
   ]
  }
 ],
 "metadata": {
  "kernelspec": {
   "display_name": "Python 3 (ipykernel)",
   "language": "python",
   "name": "python3"
  },
  "language_info": {
   "codemirror_mode": {
    "name": "ipython",
    "version": 3
   },
   "file_extension": ".py",
   "mimetype": "text/x-python",
   "name": "python",
   "nbconvert_exporter": "python",
   "pygments_lexer": "ipython3",
   "version": "3.9.12"
  },
  "vscode": {
   "interpreter": {
    "hash": "7643bbb66755ef3870c758d7b4bba1f004baaf4db68a76fa62b05d8b16893657"
   }
  }
 },
 "nbformat": 4,
 "nbformat_minor": 2
}
