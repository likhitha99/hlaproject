{
 "cells": [
  {
   "cell_type": "code",
   "execution_count": 1,
   "metadata": {},
   "outputs": [],
   "source": [
    "import pandas as pd\n",
    "import glob\n",
    "import collections\n",
    "import seaborn as sns\n",
    "import numpy as np\n",
    "import matplotlib.pyplot as plt \n",
    "from utils import *"
   ]
  },
  {
   "cell_type": "markdown",
   "metadata": {},
   "source": [
    "# Functions"
   ]
  },
  {
   "cell_type": "code",
   "execution_count": 2,
   "metadata": {},
   "outputs": [],
   "source": [
    "tool_list=[\"optitype\",\"arcas\",\"rna2hla\",\"hlaforest\",\"seq2hla\",\"hlahd\",\"phlat\",\"hlavbseq\",'hlaminer']\n",
    "\n",
    "missed_alleles = []\n",
    "\n",
    "for t in tool_list:\n",
    "    missed_alleles_caller = []\n",
    "    for i in range(1,7):\n",
    "        gs=pd.read_csv(f\"../datasets/{i}_gs.csv\")\n",
    "        pre=pd.read_csv(f\"../results/standard/{t}_d{i}.csv\")\n",
    "    \n",
    "        ret = get_inaccurate_and_all_alleles(pre,gs)\n",
    "        missed_alleles_caller.append(ret[0])\n",
    "    missed_alleles.append(missed_alleles_caller)\n",
    "\n"
   ]
  },
  {
   "cell_type": "code",
   "execution_count": 3,
   "metadata": {},
   "outputs": [
    {
     "name": "stdout",
     "output_type": "stream",
     "text": [
      "[[0.00276753 0.01018519 0.00367647 0.         0.        ]\n",
      " [0.01383764 0.01481481 0.01470588 0.02627119 0.00306122]\n",
      " [0.00369004 0.0212963  0.02022059 0.06779661 0.        ]\n",
      " [0.01476015 0.07592593 0.01286765 0.02457627 0.02653061]\n",
      " [0.00369004 0.0212963  0.02022059 0.10254237 0.07040816]\n",
      " [0.06549815 0.05092593 0.05606618 0.06355932 0.06326531]\n",
      " [0.00830258 0.05833333 0.02481618 0.02457627 0.39591837]\n",
      " [0.08210332 0.11388889 0.09558824 0.88220339 0.95714286]\n",
      " [0.78413284 0.85555556 0.77297794 0.7779661  0.56938776]]\n",
      "[[0.99723247 0.98981481 0.99632353 1.         1.        ]\n",
      " [0.98616236 0.98518519 0.98529412 0.97372881 0.99693878]\n",
      " [0.99630996 0.9787037  0.97977941 0.93220339 1.        ]\n",
      " [0.98523985 0.92407407 0.98713235 0.97542373 0.97346939]\n",
      " [0.99630996 0.9787037  0.97977941 0.89745763 0.92959184]\n",
      " [0.93450185 0.94907407 0.94393382 0.93644068 0.93673469]\n",
      " [0.99169742 0.94166667 0.97518382 0.97542373 0.60408163]\n",
      " [0.91789668 0.88611111 0.90441176 0.11779661 0.04285714]\n",
      " [0.21586716 0.14444444 0.22702206 0.2220339  0.43061224]]\n"
     ]
    }
   ],
   "source": [
    "mis_total = []\n",
    "all_total = np.array([1084, 1080, 1088, 1180, 980]) #5 element vector with # of gold standard A, B, C, DRB, and DQB\n",
    "\n",
    "for tool in missed_alleles:\n",
    "    mis_counts = [0,0,0,0,0]\n",
    "    for d in tool:\n",
    "        for allele in d:\n",
    "            if allele[0] == \"A\":\n",
    "                mis_counts[0]+=1\n",
    "            if allele[0] == \"B\":\n",
    "                mis_counts[1] += 1\n",
    "            if allele[0] == 'C':\n",
    "                mis_counts[2] += 1\n",
    "            if allele[0:2] == 'DR':\n",
    "                mis_counts[3] += 1\n",
    "            if allele[0:2] == 'DQ':\n",
    "                mis_counts[4] += 1\n",
    "    mis_total.append(mis_counts)\n",
    "\n",
    "percentage = mis_total/all_total\n",
    "print(percentage)\n",
    "accuracy = 1-percentage\n",
    "print(accuracy)"
   ]
  },
  {
   "cell_type": "markdown",
   "metadata": {},
   "source": [
    "# Plots"
   ]
  },
  {
   "cell_type": "code",
   "execution_count": 4,
   "metadata": {},
   "outputs": [
    {
     "data": {
      "text/html": [
       "<div>\n",
       "<style scoped>\n",
       "    .dataframe tbody tr th:only-of-type {\n",
       "        vertical-align: middle;\n",
       "    }\n",
       "\n",
       "    .dataframe tbody tr th {\n",
       "        vertical-align: top;\n",
       "    }\n",
       "\n",
       "    .dataframe thead th {\n",
       "        text-align: right;\n",
       "    }\n",
       "</style>\n",
       "<table border=\"1\" class=\"dataframe\">\n",
       "  <thead>\n",
       "    <tr style=\"text-align: right;\">\n",
       "      <th></th>\n",
       "      <th>A</th>\n",
       "      <th>B</th>\n",
       "      <th>C</th>\n",
       "      <th>DRB1</th>\n",
       "      <th>DQB1</th>\n",
       "    </tr>\n",
       "  </thead>\n",
       "  <tbody>\n",
       "    <tr>\n",
       "      <th>optitype</th>\n",
       "      <td>3</td>\n",
       "      <td>11</td>\n",
       "      <td>4</td>\n",
       "      <td>0</td>\n",
       "      <td>0</td>\n",
       "    </tr>\n",
       "    <tr>\n",
       "      <th>arcas</th>\n",
       "      <td>15</td>\n",
       "      <td>16</td>\n",
       "      <td>16</td>\n",
       "      <td>31</td>\n",
       "      <td>3</td>\n",
       "    </tr>\n",
       "    <tr>\n",
       "      <th>rna2hla</th>\n",
       "      <td>4</td>\n",
       "      <td>23</td>\n",
       "      <td>22</td>\n",
       "      <td>80</td>\n",
       "      <td>0</td>\n",
       "    </tr>\n",
       "    <tr>\n",
       "      <th>hlaforest</th>\n",
       "      <td>16</td>\n",
       "      <td>82</td>\n",
       "      <td>14</td>\n",
       "      <td>29</td>\n",
       "      <td>26</td>\n",
       "    </tr>\n",
       "    <tr>\n",
       "      <th>seq2hla</th>\n",
       "      <td>4</td>\n",
       "      <td>23</td>\n",
       "      <td>22</td>\n",
       "      <td>121</td>\n",
       "      <td>69</td>\n",
       "    </tr>\n",
       "    <tr>\n",
       "      <th>hlahd</th>\n",
       "      <td>71</td>\n",
       "      <td>55</td>\n",
       "      <td>61</td>\n",
       "      <td>75</td>\n",
       "      <td>62</td>\n",
       "    </tr>\n",
       "    <tr>\n",
       "      <th>phlat</th>\n",
       "      <td>9</td>\n",
       "      <td>63</td>\n",
       "      <td>27</td>\n",
       "      <td>29</td>\n",
       "      <td>388</td>\n",
       "    </tr>\n",
       "    <tr>\n",
       "      <th>hlavbseq</th>\n",
       "      <td>89</td>\n",
       "      <td>123</td>\n",
       "      <td>104</td>\n",
       "      <td>1041</td>\n",
       "      <td>938</td>\n",
       "    </tr>\n",
       "    <tr>\n",
       "      <th>hlaminer</th>\n",
       "      <td>850</td>\n",
       "      <td>924</td>\n",
       "      <td>841</td>\n",
       "      <td>918</td>\n",
       "      <td>558</td>\n",
       "    </tr>\n",
       "  </tbody>\n",
       "</table>\n",
       "</div>"
      ],
      "text/plain": [
       "             A    B    C  DRB1  DQB1\n",
       "optitype     3   11    4     0     0\n",
       "arcas       15   16   16    31     3\n",
       "rna2hla      4   23   22    80     0\n",
       "hlaforest   16   82   14    29    26\n",
       "seq2hla      4   23   22   121    69\n",
       "hlahd       71   55   61    75    62\n",
       "phlat        9   63   27    29   388\n",
       "hlavbseq    89  123  104  1041   938\n",
       "hlaminer   850  924  841   918   558"
      ]
     },
     "execution_count": 4,
     "metadata": {},
     "output_type": "execute_result"
    }
   ],
   "source": [
    "df = pd.DataFrame(mis_total)\n",
    "df.columns = ['A','B','C','DRB1','DQB1']\n",
    "df.index = tool_list\n",
    "df"
   ]
  },
  {
   "cell_type": "code",
   "execution_count": 5,
   "metadata": {},
   "outputs": [
    {
     "data": {
      "text/html": [
       "<div>\n",
       "<style scoped>\n",
       "    .dataframe tbody tr th:only-of-type {\n",
       "        vertical-align: middle;\n",
       "    }\n",
       "\n",
       "    .dataframe tbody tr th {\n",
       "        vertical-align: top;\n",
       "    }\n",
       "\n",
       "    .dataframe thead th {\n",
       "        text-align: right;\n",
       "    }\n",
       "</style>\n",
       "<table border=\"1\" class=\"dataframe\">\n",
       "  <thead>\n",
       "    <tr style=\"text-align: right;\">\n",
       "      <th></th>\n",
       "      <th>A</th>\n",
       "      <th>B</th>\n",
       "      <th>C</th>\n",
       "      <th>DRB1</th>\n",
       "      <th>DQB1</th>\n",
       "    </tr>\n",
       "  </thead>\n",
       "  <tbody>\n",
       "    <tr>\n",
       "      <th>optitype</th>\n",
       "      <td>0.002768</td>\n",
       "      <td>0.010185</td>\n",
       "      <td>0.003676</td>\n",
       "      <td>0.000000</td>\n",
       "      <td>0.000000</td>\n",
       "    </tr>\n",
       "    <tr>\n",
       "      <th>arcas</th>\n",
       "      <td>0.013838</td>\n",
       "      <td>0.014815</td>\n",
       "      <td>0.014706</td>\n",
       "      <td>0.026271</td>\n",
       "      <td>0.003061</td>\n",
       "    </tr>\n",
       "    <tr>\n",
       "      <th>rna2hla</th>\n",
       "      <td>0.003690</td>\n",
       "      <td>0.021296</td>\n",
       "      <td>0.020221</td>\n",
       "      <td>0.067797</td>\n",
       "      <td>0.000000</td>\n",
       "    </tr>\n",
       "    <tr>\n",
       "      <th>hlaforest</th>\n",
       "      <td>0.014760</td>\n",
       "      <td>0.075926</td>\n",
       "      <td>0.012868</td>\n",
       "      <td>0.024576</td>\n",
       "      <td>0.026531</td>\n",
       "    </tr>\n",
       "    <tr>\n",
       "      <th>seq2hla</th>\n",
       "      <td>0.003690</td>\n",
       "      <td>0.021296</td>\n",
       "      <td>0.020221</td>\n",
       "      <td>0.102542</td>\n",
       "      <td>0.070408</td>\n",
       "    </tr>\n",
       "    <tr>\n",
       "      <th>hlahd</th>\n",
       "      <td>0.065498</td>\n",
       "      <td>0.050926</td>\n",
       "      <td>0.056066</td>\n",
       "      <td>0.063559</td>\n",
       "      <td>0.063265</td>\n",
       "    </tr>\n",
       "    <tr>\n",
       "      <th>phlat</th>\n",
       "      <td>0.008303</td>\n",
       "      <td>0.058333</td>\n",
       "      <td>0.024816</td>\n",
       "      <td>0.024576</td>\n",
       "      <td>0.395918</td>\n",
       "    </tr>\n",
       "    <tr>\n",
       "      <th>hlavbseq</th>\n",
       "      <td>0.082103</td>\n",
       "      <td>0.113889</td>\n",
       "      <td>0.095588</td>\n",
       "      <td>0.882203</td>\n",
       "      <td>0.957143</td>\n",
       "    </tr>\n",
       "    <tr>\n",
       "      <th>hlaminer</th>\n",
       "      <td>0.784133</td>\n",
       "      <td>0.855556</td>\n",
       "      <td>0.772978</td>\n",
       "      <td>0.777966</td>\n",
       "      <td>0.569388</td>\n",
       "    </tr>\n",
       "  </tbody>\n",
       "</table>\n",
       "</div>"
      ],
      "text/plain": [
       "                  A         B         C      DRB1      DQB1\n",
       "optitype   0.002768  0.010185  0.003676  0.000000  0.000000\n",
       "arcas      0.013838  0.014815  0.014706  0.026271  0.003061\n",
       "rna2hla    0.003690  0.021296  0.020221  0.067797  0.000000\n",
       "hlaforest  0.014760  0.075926  0.012868  0.024576  0.026531\n",
       "seq2hla    0.003690  0.021296  0.020221  0.102542  0.070408\n",
       "hlahd      0.065498  0.050926  0.056066  0.063559  0.063265\n",
       "phlat      0.008303  0.058333  0.024816  0.024576  0.395918\n",
       "hlavbseq   0.082103  0.113889  0.095588  0.882203  0.957143\n",
       "hlaminer   0.784133  0.855556  0.772978  0.777966  0.569388"
      ]
     },
     "execution_count": 5,
     "metadata": {},
     "output_type": "execute_result"
    }
   ],
   "source": [
    "df = pd.DataFrame(percentage)\n",
    "df.columns = ['A','B','C','DRB1','DQB1']\n",
    "df.index = tool_list\n",
    "df"
   ]
  },
  {
   "cell_type": "code",
   "execution_count": 6,
   "metadata": {},
   "outputs": [
    {
     "data": {
      "text/plain": [
       "<AxesSubplot:>"
      ]
     },
     "execution_count": 6,
     "metadata": {},
     "output_type": "execute_result"
    },
    {
     "data": {
      "image/png": "[encoded data removed]",
      "text/plain": [
       "<Figure size 432x288 with 2 Axes>"
      ]
     },
     "metadata": {
      "needs_background": "light"
     },
     "output_type": "display_data"
    }
   ],
   "source": [
    "df = pd.DataFrame(percentage)\n",
    "df.columns = ['A','B','C','DRB1','DQB1']\n",
    "df.index = tool_list\n",
    "df\n",
    "\n",
    "from matplotlib.colors import LogNorm, Normalize\n",
    "sns.heatmap(df,annot=True,vmin=0,vmax=0.3)"
   ]
  },
  {
   "cell_type": "code",
   "execution_count": 7,
   "metadata": {},
   "outputs": [
    {
     "data": {
      "text/plain": [
       "<AxesSubplot:>"
      ]
     },
     "execution_count": 7,
     "metadata": {},
     "output_type": "execute_result"
    },
    {
     "data": {
      "image/png": "[encoded data removed]",
      "text/plain": [
       "<Figure size 720x576 with 2 Axes>"
      ]
     },
     "metadata": {
      "needs_background": "light"
     },
     "output_type": "display_data"
    }
   ],
   "source": [
    "df = pd.DataFrame(accuracy)\n",
    "df.columns = ['A','B','C','DRB1','DQB1']\n",
    "df.index = tool_list\n",
    "df\n",
    "\n",
    "from matplotlib.colors import LogNorm, Normalize\n",
    "plt.figure(figsize=(10,8))\n",
    "sns.heatmap(df,annot=True,vmin=0.6,vmax=1)"
   ]
  }
 ],
 "metadata": {
  "kernelspec": {
   "display_name": "Python 3 (ipykernel)",
   "language": "python",
   "name": "python3"
  },
  "language_info": {
   "codemirror_mode": {
    "name": "ipython",
    "version": 3
   },
   "file_extension": ".py",
   "mimetype": "text/x-python",
   "name": "python",
   "nbconvert_exporter": "python",
   "pygments_lexer": "ipython3",
   "version": "3.9.12"
  },
  "vscode": {
   "interpreter": {
    "hash": "7643bbb66755ef3870c758d7b4bba1f004baaf4db68a76fa62b05d8b16893657"
   }
  }
 },
 "nbformat": 4,
 "nbformat_minor": 2
}
