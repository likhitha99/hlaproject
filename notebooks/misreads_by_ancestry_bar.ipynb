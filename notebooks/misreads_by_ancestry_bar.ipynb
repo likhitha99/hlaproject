{
 "cells": [
  {
   "cell_type": "code",
   "execution_count": 41,
   "id": "ecd3f72a",
   "metadata": {},
   "outputs": [],
   "source": [
    "import pandas as pd\n",
    "import numpy as np\n",
    "import matplotlib.pyplot as plt\n",
    "from scipy.stats import chi2_contingency\n",
    "from scipy.stats import chisquare\n",
    "\n",
    "from collections import Counter\n",
    "from utils import *\n"
   ]
  },
  {
   "cell_type": "code",
   "execution_count": 42,
   "id": "95a7008f",
   "metadata": {
    "scrolled": true
   },
   "outputs": [],
   "source": [
    "def missed_alleles_per_ancestry(pre,gs):\n",
    "    groupscsv = \"../datasets/SraRunTableD2.txt\"\n",
    "    groups = pd.read_csv(groupscsv)\n",
    "    \n",
    "    results = []\n",
    "\n",
    "    for group, df_by_group in groups.groupby('Population'):\n",
    "        accession_numbers = df_by_group['Run'].values.tolist()\n",
    "        gs_final = gs[gs['Run'].isin(accession_numbers)] #gs_final is a df containing the gold standard samples per population group\n",
    "        gs_final = gs_final.iloc[: ,:]\n",
    "        \n",
    "\n",
    "        ret = get_inaccurate_alleles(pre,gs_final)\n",
    "        results.append(ret)\n",
    "\n",
    "    yorubaresult = results[4]\n",
    "    europeanresult = sum_euro_groups(results[1:4])\n",
    "\n",
    "    return yorubaresult, europeanresult"
   ]
  },
  {
   "cell_type": "code",
   "execution_count": 43,
   "id": "c895882c",
   "metadata": {},
   "outputs": [],
   "source": [
    "data = list()\n",
    "tools=[\"hlaforest\",\"optitype\",\"phlat\",\"seq2hla\",\"rna2hla\",\"arcas\",\"hlavbseq\",\"hlahd\"]\n",
    "\n",
    "yoruba_missed_alleles = []\n",
    "europe_missed_alleles = []\n",
    "\n",
    "for t in tools:\n",
    "    gs=pd.read_csv(\"../datasets/2_gs.csv\")\n",
    "    pre=pd.read_csv(\"../results/standard/\"+str(t)+\"_d2.csv\")\n",
    "        \n",
    "    results = missed_alleles_per_ancestry(pre,gs)\n",
    "    \n",
    "    for i in results[0]:\n",
    "        yoruba_missed_alleles.append(i)\n",
    "    for i in results[1]:\n",
    "        europe_missed_alleles.append(i)\n",
    "    \n",
    "\n"
   ]
  },
  {
   "cell_type": "code",
   "execution_count": 44,
   "id": "116d15d7",
   "metadata": {},
   "outputs": [
    {
     "name": "stdout",
     "output_type": "stream",
     "text": [
      "Counter({'DQB1*02:01': 57, 'DQB1*03:01': 26, 'DQB1*06:03': 26, 'DQB1*06:02': 26, 'DQB1*05:01': 24, 'B*53:01': 22, 'DQB1*04:02': 20, 'DRB1*08:04': 17, 'DRB1*07:01': 17, 'DRB1*13:03': 16, 'DRB1*15:03': 16, 'B*42:01': 15, 'DRB1*13:01': 15, 'C*04:01': 14, 'DRB1*11:04': 13, 'DQB1*06:05': 13, 'DQB1*05:02': 13, 'DRB1*03:01': 13, 'DRB1*14:01': 12, 'B*52:01': 10, 'B*35:01': 9, 'DRB1*13:02': 9, 'DRB1*03:02': 9, 'DQB1*06:04': 6, 'A*23:01': 5, 'C*07:02': 5, 'B*58:01': 4, 'DQB1*05:03': 4, 'A*24:24': 4, 'DRB1*01:01': 4, 'DRB1*11:01': 3, 'A*02:01': 3, 'B*07:02': 3, 'DRB1*11:02': 3, 'A*03:01': 3, 'A*74:01': 2, 'B*15:10': 2, 'B*51:01': 2, 'B*18:01': 2, 'DRB1*12:01': 2, 'DRB1*09:01': 2, 'DRB1*04:03': 2, 'DQB1*03:02': 2, 'DRB1*13:27': 2, 'A*29:02': 2, 'A*68:01': 2, 'DRB1*13:35': 2, 'B*13:02': 2, 'C*17:01': 2, 'A*30:02': 2, 'B*15:03': 1, 'B*45:01': 1, 'C*08:02': 1, 'B*49:01': 1, 'C*08:04': 1, 'A*26:01': 1, 'B*39:03': 1, 'A*02:05': 1, 'C*16:01': 1, 'A*33:03': 1, 'B*42:02': 1, 'DRB1*01:02': 1, 'C*02:02': 1, 'A*68:02': 1, 'B*56:01': 1})\n",
      "Counter({'DQB1*02:01': 177, 'DQB1*03:01': 170, 'DQB1*06:02': 143, 'DQB1*05:01': 127, 'DRB1*15:01': 125, 'DQB1*03:02': 94, 'DRB1*07:01': 94, 'DQB1*04:02': 81, 'DRB1*01:01': 81, 'DRB1*03:01': 69, 'C*04:01': 62, 'A*02:01': 61, 'DQB1*06:03': 58, 'DQB1*03:03': 55, 'DRB1*08:01': 45, 'DRB1*13:01': 43, 'DRB1*04:01': 42, 'DRB1*11:01': 36, 'DRB1*13:02': 35, 'C*07:02': 33, 'DRB1*04:04': 27, 'B*51:01': 26, 'DQB1*05:03': 25, 'DRB1*14:01': 23, 'DQB1*06:04': 22, 'A*03:01': 19, 'B*08:01': 18, 'DQB1*05:02': 17, 'B*07:02': 15, 'B*35:01': 15, 'DRB1*12:01': 15, 'C*12:03': 14, 'DRB1*11:04': 14, 'B*44:02': 10, 'DQB1*06:09': 10, 'DRB1*16:01': 10, 'DRB1*09:01': 9, 'C*06:02': 9, 'A*01:01': 8, 'DRB1*10:01': 8, 'B*40:01': 7, 'B*B0:B0': 7, 'C*05:01': 7, 'DRB1*13:03': 7, 'B*55:01': 6, 'B*56:01': 6, 'B*13:02': 6, 'B*27:05': 6, 'B*15:01': 5, 'B*49:01': 5, 'C*16:01': 5, 'DRB1*04:07': 5, 'DRB1*04:03': 5, 'C*08:02': 4, 'C*15:02': 4, 'B*44:03': 4, 'DRB1*08:04': 4, 'DQB1*05:04': 4, 'DRB1*15:02': 4, 'A*68:01': 4, 'A*24:02': 4, 'DRB1*04:08': 4, 'DRB1*08:02': 4, 'C*03:04': 4, 'DRB1*01:02': 4, 'B*58:01': 3, 'B*18:01': 3, 'A*69:01': 3, 'C*01:02': 3, 'A*25:01': 3, 'DRB1*04:02': 3, 'DRB1*11:03': 3, 'B*57:01': 3, 'C*02:02': 3, 'B*15:17': 2, 'B*35:03': 2, 'DRB1*13:21': 2, 'A*31:01': 2, 'B*41:02': 2, 'C*07:01': 2, 'B*38:01': 2, 'B*67:01': 2, 'A*23:01': 2, 'B*47:01': 2, 'B*39:01': 2, 'DRB1*11:02': 2, 'B*14:02': 2, 'DQB1*06:01': 2, 'B*40:02': 1, 'B*53:01': 1, 'B*15:18': 1, 'B*35:02': 1, 'A*29:02': 1, 'B*39:06': 1, 'A*02:05': 1, 'C*15:05': 1, 'B*37:01': 1, 'DRB1*04:05': 1, 'B*14:01': 1, 'A*11:01': 1, 'DQB1*03:04': 1, 'A*02:24': 1, 'DRB1*08:03': 1, 'DRB1*16:02': 1, 'C*03:03': 1, 'A*26:01': 1})\n"
     ]
    }
   ],
   "source": [
    "ycounts = Counter(yoruba_missed_alleles)\n",
    "ecounts = Counter(europe_missed_alleles)\n",
    "\n",
    "print(ycounts)\n",
    "print(ecounts)"
   ]
  },
  {
   "cell_type": "code",
   "execution_count": 45,
   "id": "a38ab5dd",
   "metadata": {},
   "outputs": [
    {
     "name": "stdout",
     "output_type": "stream",
     "text": [
      "        allele  yoruba  Europe  total\n",
      "19  DQB1*02:01      57     177    234\n",
      "18  DQB1*03:01      26     170    196\n",
      "2   DQB1*06:02      26     143    169\n",
      "16  DQB1*05:01      24     127    151\n",
      "36  DRB1*07:01      17      94    111\n",
      "7   DQB1*04:02      20      81    101\n",
      "31  DQB1*03:02       2      94     96\n",
      "28  DRB1*01:01       4      81     85\n",
      "32  DQB1*06:03      26      58     84\n",
      "25  DRB1*03:01      13      69     82\n",
      "11     C*04:01      14      62     76\n",
      "39     A*02:01       3      61     64\n",
      "40  DRB1*13:01      15      43     58\n",
      "41  DRB1*13:02       9      35     44\n",
      "20  DRB1*11:01       3      36     39\n",
      "27     C*07:02       5      33     38\n",
      "29  DRB1*14:01      12      23     35\n",
      "34  DQB1*05:02      13      17     30\n",
      "17  DQB1*05:03       4      25     29\n",
      "13     B*51:01       2      26     28\n",
      "10  DQB1*06:04       6      22     28\n",
      "21  DRB1*11:04      13      14     27\n",
      "0      B*35:01       9      15     24\n",
      "35  DRB1*13:03      16       7     23\n",
      "5      B*53:01      22       1     23\n",
      "9      A*03:01       3      19     22\n",
      "45  DRB1*08:04      17       4     21\n",
      "8      B*07:02       3      15     18\n",
      "22  DRB1*12:01       2      15     17\n",
      "44  DRB1*09:01       2       9     11\n",
      "12     B*13:02       2       6      8\n",
      "42  DRB1*04:03       2       5      7\n",
      "4      B*58:01       4       3      7\n",
      "38     A*23:01       5       2      7\n",
      "14     B*56:01       1       6      7\n",
      "26     B*49:01       1       5      6\n",
      "15     A*68:01       2       4      6\n",
      "30     C*16:01       1       5      6\n",
      "6   DRB1*01:02       1       4      5\n",
      "3   DRB1*11:02       3       2      5\n",
      "1      C*08:02       1       4      5\n",
      "23     B*18:01       2       3      5\n",
      "24     C*02:02       1       3      4\n",
      "43     A*29:02       2       1      3\n",
      "37     A*02:05       1       1      2\n",
      "33     A*26:01       1       1      2\n"
     ]
    }
   ],
   "source": [
    "allele_intersection = list(set(ycounts.keys()) & set(ecounts.keys()))\n",
    "\n",
    "intersection = []\n",
    "\n",
    "for allele in allele_intersection:\n",
    "    intersection.append([allele,ycounts[allele],ecounts[allele],ecounts[allele]+ycounts[allele]])\n",
    "\n",
    "df = pd.DataFrame (intersection, columns = ['allele','yoruba','Europe','total'])\n",
    "df = df.sort_values(by=['total'],ascending=False)\n",
    "\n",
    "with pd.option_context('display.max_rows', None, 'display.max_columns', None):  # more options can be specified also\n",
    "    print(df)"
   ]
  },
  {
   "cell_type": "code",
   "execution_count": 46,
   "id": "fc5b6490",
   "metadata": {},
   "outputs": [
    {
     "name": "stdout",
     "output_type": "stream",
     "text": [
      "        allele                yoruba                 Europe  \\\n",
      "19  DQB1*02:01    0.8507462686567164    0.41843971631205673   \n",
      "2   DQB1*06:02    0.3880597014925373     0.3380614657210402   \n",
      "32  DQB1*06:03    0.3880597014925373    0.13711583924349882   \n",
      "18  DQB1*03:01    0.3880597014925373    0.40189125295508277   \n",
      "16  DQB1*05:01    0.3582089552238806    0.30023640661938533   \n",
      "5      B*53:01    0.3283582089552239   0.002364066193853428   \n",
      "7   DQB1*04:02   0.29850746268656714    0.19148936170212766   \n",
      "45  DRB1*08:04    0.2537313432835821   0.009456264775413711   \n",
      "36  DRB1*07:01    0.2537313432835821     0.2222222222222222   \n",
      "35  DRB1*13:03   0.23880597014925373   0.016548463356973995   \n",
      "40  DRB1*13:01   0.22388059701492538     0.1016548463356974   \n",
      "11     C*04:01     0.208955223880597    0.14657210401891252   \n",
      "34  DQB1*05:02   0.19402985074626866    0.04018912529550828   \n",
      "25  DRB1*03:01   0.19402985074626866    0.16312056737588654   \n",
      "21  DRB1*11:04   0.19402985074626866    0.03309692671394799   \n",
      "29  DRB1*14:01    0.1791044776119403   0.054373522458628844   \n",
      "41  DRB1*13:02   0.13432835820895522    0.08274231678486997   \n",
      "0      B*35:01   0.13432835820895522    0.03546099290780142   \n",
      "10  DQB1*06:04   0.08955223880597014    0.05200945626477541   \n",
      "27     C*07:02   0.07462686567164178    0.07801418439716312   \n",
      "38     A*23:01   0.07462686567164178   0.004728132387706856   \n",
      "4      B*58:01   0.05970149253731343  0.0070921985815602835   \n",
      "28  DRB1*01:01   0.05970149253731343    0.19148936170212766   \n",
      "17  DQB1*05:03   0.05970149253731343     0.0591016548463357   \n",
      "8      B*07:02   0.04477611940298507    0.03546099290780142   \n",
      "9      A*03:01   0.04477611940298507    0.04491725768321513   \n",
      "3   DRB1*11:02   0.04477611940298507   0.004728132387706856   \n",
      "20  DRB1*11:01   0.04477611940298507     0.0851063829787234   \n",
      "39     A*02:01   0.04477611940298507    0.14420803782505912   \n",
      "44  DRB1*09:01  0.029850746268656716    0.02127659574468085   \n",
      "43     A*29:02  0.029850746268656716   0.002364066193853428   \n",
      "42  DRB1*04:03  0.029850746268656716    0.01182033096926714   \n",
      "13     B*51:01  0.029850746268656716   0.061465721040189124   \n",
      "23     B*18:01  0.029850746268656716  0.0070921985815602835   \n",
      "15     A*68:01  0.029850746268656716   0.009456264775413711   \n",
      "31  DQB1*03:02  0.029850746268656716     0.2222222222222222   \n",
      "12     B*13:02  0.029850746268656716   0.014184397163120567   \n",
      "22  DRB1*12:01  0.029850746268656716    0.03546099290780142   \n",
      "33     A*26:01  0.014925373134328358   0.002364066193853428   \n",
      "6   DRB1*01:02  0.014925373134328358   0.009456264775413711   \n",
      "37     A*02:05  0.014925373134328358   0.002364066193853428   \n",
      "14     B*56:01  0.014925373134328358   0.014184397163120567   \n",
      "30     C*16:01  0.014925373134328358    0.01182033096926714   \n",
      "1      C*08:02  0.014925373134328358   0.009456264775413711   \n",
      "26     B*49:01  0.014925373134328358    0.01182033096926714   \n",
      "24     C*02:02  0.014925373134328358  0.0070921985815602835   \n",
      "\n",
      "                   total  \n",
      "19    0.4775510204081633  \n",
      "2     0.3448979591836735  \n",
      "32   0.17142857142857143  \n",
      "18                   0.4  \n",
      "16    0.3081632653061224  \n",
      "5    0.04693877551020408  \n",
      "7    0.20612244897959184  \n",
      "45   0.04285714285714286  \n",
      "36   0.22653061224489796  \n",
      "35   0.04693877551020408  \n",
      "40   0.11836734693877551  \n",
      "11   0.15510204081632653  \n",
      "34  0.061224489795918366  \n",
      "25    0.1673469387755102  \n",
      "21   0.05510204081632653  \n",
      "29   0.07142857142857142  \n",
      "41   0.08979591836734693  \n",
      "0    0.04897959183673469  \n",
      "10   0.05714285714285714  \n",
      "27   0.07755102040816327  \n",
      "38  0.014285714285714285  \n",
      "4   0.014285714285714285  \n",
      "28   0.17346938775510204  \n",
      "17   0.05918367346938776  \n",
      "8   0.036734693877551024  \n",
      "9   0.044897959183673466  \n",
      "3    0.01020408163265306  \n",
      "20   0.07959183673469387  \n",
      "39    0.1306122448979592  \n",
      "44  0.022448979591836733  \n",
      "43  0.006122448979591836  \n",
      "42  0.014285714285714285  \n",
      "13   0.05714285714285714  \n",
      "23   0.01020408163265306  \n",
      "15  0.012244897959183673  \n",
      "31   0.19591836734693877  \n",
      "12    0.0163265306122449  \n",
      "22   0.03469387755102041  \n",
      "33  0.004081632653061225  \n",
      "6    0.01020408163265306  \n",
      "37  0.004081632653061225  \n",
      "14  0.014285714285714285  \n",
      "30  0.012244897959183673  \n",
      "1    0.01020408163265306  \n",
      "26  0.012244897959183673  \n",
      "24   0.00816326530612245  \n"
     ]
    }
   ],
   "source": [
    "#normalize ot sample size for fair comparison for africa vs europe\n",
    "intersection = np.array(intersection)   \n",
    "intersection[:,1] = intersection[:,1].astype(float)/67\n",
    "intersection[:,2] = intersection[:,2].astype(float)/423\n",
    "intersection[:,3] = intersection[:,3].astype(float)/490\n",
    "\n",
    "\n",
    "df = pd.DataFrame (intersection, columns = ['allele','yoruba','Europe','total'])\n",
    "df = df.sort_values(by=['yoruba'],ascending=False)\n",
    "\n",
    "with pd.option_context('display.max_rows', None, 'display.max_columns', None):  # more options can be specified also\n",
    "    print(df)"
   ]
  },
  {
   "cell_type": "code",
   "execution_count": null,
   "id": "e0a49dee",
   "metadata": {},
   "outputs": [],
   "source": []
  },
  {
   "cell_type": "code",
   "execution_count": 47,
   "id": "a83cfa64",
   "metadata": {},
   "outputs": [
    {
     "data": {
      "image/png": "[encoded data removed]",
      "text/plain": [
       "<Figure size 1080x720 with 1 Axes>"
      ]
     },
     "metadata": {
      "needs_background": "light"
     },
     "output_type": "display_data"
    }
   ],
   "source": [
    "allele = np.array(df['allele'])\n",
    "yoruba = np.array(df['yoruba'])\n",
    "europe = np.array(df['Europe'])\n",
    "total = np.array(df['total'])  \n",
    "\n",
    "xaxis = np.arange(len(allele))\n",
    " \n",
    "plt.figure(figsize = (15,10))\n",
    "\n",
    "plt.bar(xaxis - 0.2, yoruba.astype(float), 0.4,color='orange')\n",
    "plt.bar(xaxis + 0.2, europe.astype(float), 0.4, color='purple')\n",
    "plt.legend([\"Africa\",\"European\"])\n",
    "plt.xticks(xaxis,allele,rotation=45, ha='right')\n",
    "plt.xlabel(\"Alleles\")\n",
    "plt.ylabel(\"Average miscalls per sample \")\n",
    "\n",
    "plt.show()"
   ]
  },
  {
   "cell_type": "code",
   "execution_count": 21,
   "id": "3e22d71a",
   "metadata": {},
   "outputs": [
    {
     "data": {
      "text/plain": [
       "0.1637126865671642"
      ]
     },
     "execution_count": 21,
     "metadata": {},
     "output_type": "execute_result"
    }
   ],
   "source": [
    "#yoruban: avg miscalls/sample\n",
    "np.average(yoruba.astype(float))"
   ]
  },
  {
   "cell_type": "code",
   "execution_count": 22,
   "id": "e850af43",
   "metadata": {},
   "outputs": [
    {
     "data": {
      "text/plain": [
       "0.1069001182033097"
      ]
     },
     "execution_count": 22,
     "metadata": {},
     "output_type": "execute_result"
    }
   ],
   "source": [
    "#european: avg miscalls/sample\n",
    "np.average(europe.astype(float))"
   ]
  }
 ],
 "metadata": {
  "kernelspec": {
   "display_name": "Python 3 (ipykernel)",
   "language": "python",
   "name": "python3"
  },
  "language_info": {
   "codemirror_mode": {
    "name": "ipython",
    "version": 3
   },
   "file_extension": ".py",
   "mimetype": "text/x-python",
   "name": "python",
   "nbconvert_exporter": "python",
   "pygments_lexer": "ipython3",
   "version": "3.9.12"
  }
 },
 "nbformat": 4,
 "nbformat_minor": 5
}
