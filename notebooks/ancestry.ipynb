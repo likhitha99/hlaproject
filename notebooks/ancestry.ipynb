{
 "cells": [
  {
   "cell_type": "code",
   "execution_count": 2,
   "metadata": {
    "id": "pgfbVXL5Ywof"
   },
   "outputs": [],
   "source": [
    "import pandas as pd\n",
    "import numpy as np\n",
    "import seaborn as sns\n",
    "from scipy.stats import chi2_contingency\n",
    "from scipy.stats import chisquare\n",
    "import matplotlib.pyplot as plt\n",
    "from utils import *"
   ]
  },
  {
   "cell_type": "markdown",
   "metadata": {},
   "source": [
    "# determine accuracy"
   ]
  },
  {
   "cell_type": "code",
   "execution_count": 3,
   "metadata": {
    "colab": {
     "base_uri": "https://localhost:8080/"
    },
    "id": "VEwaX_Z1r5jH",
    "outputId": "f77aa748-101a-407a-cce4-35b13c542c7a"
   },
   "outputs": [
    {
     "name": "stdout",
     "output_type": "stream",
     "text": [
      "95\n",
      "114\n",
      "111\n",
      "103\n",
      "67\n"
     ]
    }
   ],
   "source": [
    "# determine how many samples of each ancestry group\n",
    "groupscsv = \"../datasets/SraRunTableD1.txt\"\n",
    "goldstandard = \"../datasets/1_gs.csv\"\n",
    "gs = pd.read_csv(goldstandard)\n",
    "groups = pd.read_csv(groupscsv)\n",
    "\n",
    "for group, df_by_group in groups.groupby('Population'):\n",
    "    accession_numbers = df_by_group['Run'].values.tolist()\n",
    "    gs_final = gs[gs['Run'].isin(accession_numbers)] #gs_final is a df containing the gold standard samples per population group\n",
    "    print(len(gs_final))\n"
   ]
  },
  {
   "cell_type": "code",
   "execution_count": 4,
   "metadata": {
    "colab": {
     "base_uri": "https://localhost:8080/"
    },
    "id": "jsWHA-h11Zi4",
    "outputId": "aa16459c-3ccf-4961-c671-d07b72c3a628",
    "scrolled": true
   },
   "outputs": [
    {
     "name": "stdout",
     "output_type": "stream",
     "text": [
      "        tool             europe          yoruba\n",
      "0   optitype     [10, 20, 2502]     [0, 8, 390]\n",
      "1    rna2hla     [66, 90, 3196]   [13, 24, 481]\n",
      "2      arcas    [35, 130, 3951]    [6, 67, 561]\n",
      "3    seq2hla   [118, 230, 3844]   [27, 37, 584]\n",
      "4      hlahd    [250, 92, 3864]   [28, 49, 555]\n",
      "5      phlat   [173, 188, 3221]   [56, 58, 450]\n",
      "6  hlaforest    [81, 447, 3476]   [41, 92, 451]\n",
      "7   hlavbseq  [1856, 137, 2127]  [289, 26, 295]\n",
      "8   hlaminer   [2911, 428, 291]   [503, 51, 34]\n"
     ]
    }
   ],
   "source": [
    "data = list()\n",
    "tools =[\"optitype\",\"rna2hla\",\"arcas\",\"seq2hla\",\"hlahd\",\"phlat\",\"hlaforest\",\"hlavbseq\",'hlaminer']\n",
    "\n",
    "groupscsv = \"../datasets/SraRunTableD1.txt\"\n",
    "groups = pd.read_csv(groupscsv)\n",
    "\n",
    "\n",
    "for t in tools:\n",
    "    toolresult = []\n",
    "    \n",
    "        \n",
    "    gs=pd.read_csv(\"../datasets/1_gs.csv\")\n",
    "    pre=pd.read_csv(\"../results/standard/\"+str(t)+\"_d1.csv\")\n",
    "\n",
    "    for group, df_by_group in groups.groupby('Population'):\n",
    "        accession_numbers = df_by_group['Run'].values.tolist()\n",
    "        gs_final = gs[gs['Run'].isin(accession_numbers)] #gs_final is a df containing the gold standard samples per population group\n",
    "        ret = compute_matches(pre,gs_final)\n",
    "        ret = np.sum(np.array(ret),axis=1)\n",
    "        #print(ret)\n",
    "        toolresult.append(ret)\n",
    "\n",
    "\n",
    "    europe = sum_euro_groups(toolresult[0:4])\n",
    "    yoruba = toolresult[4]\n",
    "    data.append([t, europe, yoruba])\n",
    "\n",
    "    \n",
    "    \n",
    "df = pd.DataFrame(data,columns=['tool','europe','yoruba'])\n",
    "print(df)"
   ]
  },
  {
   "cell_type": "markdown",
   "metadata": {},
   "source": [
    "# chi square"
   ]
  },
  {
   "cell_type": "code",
   "execution_count": 4,
   "metadata": {},
   "outputs": [
    {
     "name": "stdout",
     "output_type": "stream",
     "text": [
      "\n",
      "tool:  optitype \n",
      " 2dig Power_divergenceResult(statistic=0.005383150468523436, pvalue=0.9415117246436452) \n",
      " 4dig Power_divergenceResult(statistic=0.02372924384760334, pvalue=0.8775758362172591)\n",
      "\n",
      "tool:  rna2hla \n",
      " 2dig Power_divergenceResult(statistic=0.01338932266849135, pvalue=0.9078806046760418) \n",
      " 4dig Power_divergenceResult(statistic=0.292524155416949, pvalue=0.5886075142741989)\n",
      "\n",
      "tool:  arcas \n",
      " 2dig Power_divergenceResult(statistic=0.0005110563853369763, pvalue=0.9819641140366697) \n",
      " 4dig Power_divergenceResult(statistic=3.2579837652486883, pvalue=0.07107646947093756)\n",
      "\n",
      "tool:  seq2hla \n",
      " 2dig Power_divergenceResult(statistic=0.10572397141672385, pvalue=0.7450658623050277) \n",
      " 4dig Power_divergenceResult(statistic=0.1521804553012401, pvalue=0.6964602853348794)\n",
      "\n",
      "tool:  hlahd \n",
      " 2dig Power_divergenceResult(statistic=0.13353406071864726, pvalue=0.7147955813464589) \n",
      " 4dig Power_divergenceResult(statistic=0.9877936144202688, pvalue=0.3202822329500924)\n",
      "\n",
      "tool:  phlat \n",
      " 2dig Power_divergenceResult(statistic=1.3411730996130442, pvalue=0.24682719566346178) \n",
      " 4dig Power_divergenceResult(statistic=5.652405331183837, pvalue=0.01743144608713856)\n",
      "\n",
      "tool:  hlaforest \n",
      " 2dig Power_divergenceResult(statistic=1.3076939945625126, pvalue=0.25281259497735215) \n",
      " 4dig Power_divergenceResult(statistic=5.473005851444902, pvalue=0.019312382380285015)\n",
      "\n",
      "tool:  hlavbseq \n",
      " 2dig Power_divergenceResult(statistic=0.5271340090280735, pvalue=0.467814280050893) \n",
      " 4dig Power_divergenceResult(statistic=1.1065414249426955, pvalue=0.2928350035394366)\n",
      "\n",
      "tool:  hlaminer \n",
      " 2dig Power_divergenceResult(statistic=7.602554125140867, pvalue=0.005828567560177899) \n",
      " 4dig Power_divergenceResult(statistic=3.2783166962907195, pvalue=0.07020089562142742)\n"
     ]
    },
    {
     "name": "stderr",
     "output_type": "stream",
     "text": [
      "/var/folders/j4/pd1pbcl90xz683wfkd2drjqw0000gn/T/ipykernel_62633/3150918999.py:2: VisibleDeprecationWarning: Creating an ndarray from ragged nested sequences (which is a list-or-tuple of lists-or-tuples-or ndarrays with different lengths or shapes) is deprecated. If you meant to do this, you must specify 'dtype=object' when creating the ndarray.\n",
      "  data = np.array(data)\n"
     ]
    }
   ],
   "source": [
    "# old method - chi square goodness of fit - incorrect method\n",
    "pvalues = []\n",
    "data = np.array(data)\n",
    "\n",
    "for tool in data:\n",
    "    etotal = sum(tool[1])\n",
    "    ytotal = sum(tool[2])\n",
    "    \n",
    "    # 2 digit \n",
    "    e2dig_obs = tool[1][1]+tool[1][2]\n",
    "    y2dig_obs = tool[2][1]+tool[2][2]\n",
    "    e2dig_exp = (e2dig_obs+y2dig_obs)*etotal/(etotal+ytotal)\n",
    "    y2dig_exp = (e2dig_obs+y2dig_obs)*ytotal/(etotal+ytotal)\n",
    "    \n",
    "    res2 = chisquare([e2dig_obs,y2dig_obs],[e2dig_exp,y2dig_exp])\n",
    "    \n",
    "\n",
    "    # 4 digit \n",
    "    e4dig_obs = tool[1][2]\n",
    "    y4dig_obs = tool[2][2]\n",
    "    e4dig_exp = (e4dig_obs+y4dig_obs)*etotal/(etotal+ytotal)\n",
    "    y4dig_exp = (e4dig_obs+y4dig_obs)*ytotal/(etotal+ytotal)\n",
    "    \n",
    "    res4 = chisquare([e4dig_obs,y4dig_obs],[e4dig_exp,y4dig_exp])\n",
    "    \n",
    "    \n",
    "    pvalues.append([res2.pvalue,res4.pvalue])\n",
    "\n",
    "    print(\"\\ntool: \" ,tool[0] , \"\\n 2dig\" , res2, \"\\n 4dig\" , res4)\n"
   ]
  },
  {
   "cell_type": "code",
   "execution_count": 17,
   "metadata": {},
   "outputs": [
    {
     "name": "stdout",
     "output_type": "stream",
     "text": [
      "optitype\n",
      "\t2 dig table: [[2522, 10], [398, 0]] end\n",
      "\t2 dig p value: 0.4274226627380222\n",
      "\t4 dig table: [[2502, 30], [390, 8]] end\n",
      "\t4 dig p value: 0.26512704988009617\n",
      "rna2hla\n",
      "\t2 dig table: [[3286, 66], [505, 13]] end\n",
      "\t2 dig p value: 0.520254545608651\n",
      "\t4 dig table: [[3196, 156], [481, 37]] end\n",
      "\t4 dig p value: 0.020696968768916475\n",
      "arcas\n",
      "\t2 dig table: [[4081, 35], [628, 6]] end\n",
      "\t2 dig p value: 0.9898513595701539\n",
      "\t4 dig table: [[3951, 165], [561, 73]] end\n",
      "\t4 dig p value: 1.6403938880641863e-15\n",
      "seq2hla\n",
      "\t2 dig table: [[4074, 118], [621, 27]] end\n",
      "\t2 dig p value: 0.07930096596106705\n",
      "\t4 dig table: [[3844, 348], [584, 64]] end\n",
      "\t4 dig p value: 0.20715065100799598\n",
      "hlahd\n",
      "\t2 dig table: [[3956, 250], [604, 28]] end\n",
      "\t2 dig p value: 0.15192395968585204\n",
      "\t4 dig table: [[3864, 342], [555, 77]] end\n",
      "\t4 dig p value: 0.0009621184326222613\n",
      "phlat\n",
      "\t2 dig table: [[3409, 173], [508, 56]] end\n",
      "\t2 dig p value: 1.375733182744218e-06\n",
      "\t4 dig table: [[3221, 361], [450, 114]] end\n",
      "\t4 dig p value: 3.578955859505009e-12\n",
      "hlaforest\n",
      "\t2 dig table: [[3923, 81], [543, 41]] end\n",
      "\t2 dig p value: 6.197595741319279e-12\n",
      "\t4 dig table: [[3476, 528], [451, 133]] end\n",
      "\t4 dig p value: 1.0581586545245423e-09\n",
      "hlavbseq\n",
      "\t2 dig table: [[2264, 1856], [321, 289]] end\n",
      "\t2 dig p value: 0.30086790753484904\n",
      "\t4 dig table: [[2127, 1993], [295, 315]] end\n",
      "\t4 dig p value: 0.14360261718928818\n",
      "hlaminer\n",
      "\t2 dig table: [[719, 2911], [85, 503]] end\n",
      "\t2 dig p value: 0.002627953553338981\n",
      "\t4 dig table: [[291, 3339], [34, 554]] end\n",
      "\t4 dig p value: 0.07165157435898278\n"
     ]
    }
   ],
   "source": [
    "# new method - chi square test of independence\n",
    "\n",
    "data = np.array(data)\n",
    "pvalues = []\n",
    "\n",
    "for tool in data:\n",
    "    etotal = sum(tool[1])\n",
    "    ytotal = sum(tool[2])\n",
    "    \n",
    "    print(tool[0])\n",
    "    \n",
    "    # 2 digit \n",
    "    obs = [ [tool[1][1]+tool[1][2],tool[1][0]] , [tool[2][1]+tool[2][2],tool[2][0]] ]\n",
    "    print(\"\\t2 dig table:\" , obs , \"end\")\n",
    "\n",
    "    \n",
    "    res = chi2_contingency(obs)\n",
    "    print(\"\\t2 dig p value:\", res[1])\n",
    "    # print([e2dig_obs, y2dig_obs])\n",
    "    \n",
    "    # 2 digit \n",
    "    e4dig_obs = [tool[1][2],tool[1][1]+tool[1][0]]\n",
    "    y4dig_obs = [tool[2][2],tool[2][1]+tool[2][0]]\n",
    "\n",
    "    \n",
    "    res4 = chi2_contingency([e4dig_obs, y4dig_obs])\n",
    "    print(\"\\t4 dig table:\" , [e4dig_obs, y4dig_obs] , \"end\")\n",
    "    print(\"\\t4 dig p value:\", res4[1])\n",
    "    \n",
    "    pvalues.append([res[1],res4[1]])\n",
    "    \n",
    "\n",
    "    # print(\"\\ntool: \" ,tool[0] , \"\\n table\", [e4dig_obs, y4dig_obs], \"\\n 4dig\" , res4.pvalue)\n"
   ]
  },
  {
   "cell_type": "markdown",
   "metadata": {},
   "source": [
    "# plotting"
   ]
  },
  {
   "cell_type": "code",
   "execution_count": 18,
   "metadata": {},
   "outputs": [],
   "source": [
    "# calculating accuracy, creating data frames\n",
    "europe = np.array( df['europe'].values.tolist() )\n",
    "total = np.sum(europe,axis=1)\n",
    "europe_4dig = (europe[:,2])/total\n",
    "europe_2dig = (europe[:,1]+europe[:,2])/total\n",
    "\n",
    "yoruba = np.array( df['yoruba'].values.tolist() )\n",
    "total = np.sum(yoruba,axis=1)\n",
    "yoruba_4dig = (yoruba[:,2])/total\n",
    "yoruba_2dig = (yoruba[:,1]+yoruba[:,2])/total\n",
    "\n",
    "# concat to df\n",
    "dfeuro2dig = pd.DataFrame(europe_2dig,columns=['europe two dig accuracy'])\n",
    "dfeuro4dig = pd.DataFrame(europe_4dig,columns=['europe four dig accuracy'])\n",
    "dfyoru2dig = pd.DataFrame(yoruba_2dig,columns=['yoruba two dig accuracy'])\n",
    "dfyoru4dig = pd.DataFrame(yoruba_4dig,columns=['yoruba four dig accuracy'])"
   ]
  },
  {
   "cell_type": "code",
   "execution_count": 19,
   "metadata": {},
   "outputs": [
    {
     "name": "stdout",
     "output_type": "stream",
     "text": [
      "         tool                  ancestry  accuracy\n",
      "0    optitype  europe four dig accuracy  0.988152\n",
      "1     rna2hla  europe four dig accuracy  0.953461\n",
      "2       arcas  europe four dig accuracy  0.959913\n",
      "3     seq2hla  europe four dig accuracy  0.916985\n",
      "4       hlahd  europe four dig accuracy  0.918688\n",
      "5       phlat  europe four dig accuracy  0.899218\n",
      "6   hlaforest  europe four dig accuracy  0.868132\n",
      "7    hlavbseq  europe four dig accuracy  0.516262\n",
      "8    hlaminer  europe four dig accuracy  0.080165\n",
      "9    optitype  yoruba four dig accuracy  0.979899\n",
      "10    rna2hla  yoruba four dig accuracy  0.928571\n",
      "11      arcas  yoruba four dig accuracy  0.884858\n",
      "12    seq2hla  yoruba four dig accuracy  0.901235\n",
      "13      hlahd  yoruba four dig accuracy  0.878165\n",
      "14      phlat  yoruba four dig accuracy  0.797872\n",
      "15  hlaforest  yoruba four dig accuracy  0.772260\n",
      "16   hlavbseq  yoruba four dig accuracy  0.483607\n",
      "17   hlaminer  yoruba four dig accuracy  0.057823\n"
     ]
    },
    {
     "data": {
      "image/png": "[encoded data removed]",
      "text/plain": [
       "<Figure size 1080x720 with 1 Axes>"
      ]
     },
     "metadata": {
      "needs_background": "light"
     },
     "output_type": "display_data"
    }
   ],
   "source": [
    "# 4 dig accuracy\n",
    "\n",
    "df_accuracy=pd.concat([df['tool'],dfeuro4dig,dfyoru4dig],axis=1, join='inner')\n",
    "\n",
    "df_accuracy = pd.melt(df_accuracy, id_vars=\"tool\", var_name=\"ancestry\", value_name=\"accuracy\")\n",
    "print(df_accuracy)\n",
    "\n",
    "\n",
    "sns.set_context(\"paper\")\n",
    "sns.color_palette(\"pastel\")\n",
    "plt.figure(figsize=(15,10))\n",
    "\n",
    "\n",
    "\n",
    "ax=sns.barplot(x = 'tool', y = 'accuracy', data=df_accuracy,hue='ancestry',order=tools)\n",
    "\n",
    "for i in range(9):\n",
    "    x1, x2 = -0.2+i, 0.2+i \n",
    "    y, h, col = 1-i*0.02, 0.02, 'k'\n",
    "    plt.plot([x1, x1, x2, x2], [y, y+h, y+h, y], lw=1.5, c=col)\n",
    "    plt.text((x1+x2)*.5, y+h, f\"p={round(pvalues[i][1],3)}\", ha='center', va='bottom', color=col)\n",
    "ax.set_ylabel(\"Accuracy\")\n",
    "ax.set_xlabel(\"Tool\")\n",
    "ax.set_title(\"Accuracy (%) per Ancestry for Four Digit Resolution\") \n",
    "plt.legend(labels=['Yoruba','Europe'],bbox_to_anchor=(1.05, 1), loc=2, borderaxespad=0.)\n",
    "plt.ylim((0,1.1))\n",
    "#sns.despine()\n",
    "\n",
    "colors = {'Europe':'blue', 'Africa':'orange'}         \n",
    "labels = list(colors.keys())\n",
    "handles = [plt.Rectangle((0,0),1,1, color=colors[label]) for label in labels]\n",
    "plt.legend(handles, labels)\n",
    "\n",
    "\n",
    "plt.show()\n",
    "\n",
    "#plt.savefig('../Figures/read_length_accuracy_4dig.png',bbox_inches =\"tight\",dpi=300)"
   ]
  },
  {
   "cell_type": "code",
   "execution_count": 20,
   "metadata": {},
   "outputs": [
    {
     "name": "stdout",
     "output_type": "stream",
     "text": [
      "         tool                 ancestry  accuracy\n",
      "0    optitype  europe two dig accuracy  0.996051\n",
      "1     rna2hla  europe two dig accuracy  0.980310\n",
      "2       arcas  europe two dig accuracy  0.991497\n",
      "3     seq2hla  europe two dig accuracy  0.971851\n",
      "4       hlahd  europe two dig accuracy  0.940561\n",
      "5       phlat  europe two dig accuracy  0.951703\n",
      "6   hlaforest  europe two dig accuracy  0.979770\n",
      "7    hlavbseq  europe two dig accuracy  0.549515\n",
      "8    hlaminer  europe two dig accuracy  0.198072\n",
      "9    optitype  yoruba two dig accuracy  1.000000\n",
      "10    rna2hla  yoruba two dig accuracy  0.974903\n",
      "11      arcas  yoruba two dig accuracy  0.990536\n",
      "12    seq2hla  yoruba two dig accuracy  0.958333\n",
      "13      hlahd  yoruba two dig accuracy  0.955696\n",
      "14      phlat  yoruba two dig accuracy  0.900709\n",
      "15  hlaforest  yoruba two dig accuracy  0.929795\n",
      "16   hlavbseq  yoruba two dig accuracy  0.526230\n",
      "17   hlaminer  yoruba two dig accuracy  0.144558\n"
     ]
    },
    {
     "data": {
      "image/png": "[encoded data removed]",
      "text/plain": [
       "<Figure size 1080x720 with 1 Axes>"
      ]
     },
     "metadata": {
      "needs_background": "light"
     },
     "output_type": "display_data"
    }
   ],
   "source": [
    "# 2 dig accuracy plot\n",
    "df_accuracy=pd.concat([df['tool'],dfeuro2dig,dfyoru2dig],axis=1, join='inner')\n",
    "df_accuracy = pd.melt(df_accuracy, id_vars=\"tool\", var_name=\"ancestry\", value_name=\"accuracy\")\n",
    "print(df_accuracy)\n",
    "\n",
    "\n",
    "sns.set_context(\"paper\")\n",
    "sns.color_palette(\"pastel\")\n",
    "plt.figure(figsize=(15,10))\n",
    "\n",
    "\n",
    "\n",
    "ax=sns.barplot(x = 'tool', y = 'accuracy', data=df_accuracy,hue='ancestry',order=tools)\n",
    "\n",
    "\n",
    "for i in range(9):\n",
    "    x1, x2 = -0.2+i, 0.2+i \n",
    "    y, h, col = 1.1-i*0.02, 0.02, 'k'\n",
    "    plt.plot([x1, x1, x2, x2], [y, y+h, y+h, y], lw=1.5, c=col)\n",
    "    plt.text((x1+x2)*.5, y+h, f\"p={round(pvalues[i][0],3)}\", ha='center', va='bottom', color=col)\n",
    "ax.set_ylabel(\"Accuracy\")\n",
    "ax.set_xlabel(\"Tool\")\n",
    "ax.set_title(\"Accuracy (%) per Ancestry for Two Digit Resolution\") \n",
    "plt.legend(labels=['Yoruba','Europe'],bbox_to_anchor=(1.05, 1), loc=2, borderaxespad=0.)\n",
    "plt.ylim((0,1.2))\n",
    "#sns.despine()\n",
    "\n",
    "colors = {'Europe':'blue', 'Africa':'orange'}         \n",
    "labels = list(colors.keys())\n",
    "handles = [plt.Rectangle((0,0),1,1, color=colors[label]) for label in labels]\n",
    "plt.legend(handles, labels)\n",
    "\n",
    "plt.show()\n",
    "\n",
    "#plt.savefig('../Figures/read_length_accuracy_4dig.png',bbox_inches =\"tight\",dpi=300)"
   ]
  },
  {
   "cell_type": "code",
   "execution_count": 8,
   "metadata": {},
   "outputs": [],
   "source": [
    "# getting "
   ]
  }
 ],
 "metadata": {
  "colab": {
   "provenance": []
  },
  "kernelspec": {
   "display_name": "Python 3 (ipykernel)",
   "language": "python",
   "name": "python3"
  },
  "language_info": {
   "codemirror_mode": {
    "name": "ipython",
    "version": 3
   },
   "file_extension": ".py",
   "mimetype": "text/x-python",
   "name": "python",
   "nbconvert_exporter": "python",
   "pygments_lexer": "ipython3",
   "version": "3.9.12"
  },
  "vscode": {
   "interpreter": {
    "hash": "a5887580c7cbb0fe8c117cf89484cb0db59155905523768f16ba2f70bd8e79c7"
   }
  }
 },
 "nbformat": 4,
 "nbformat_minor": 1
}
