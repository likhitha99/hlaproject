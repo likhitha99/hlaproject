{
 "cells": [
  {
   "cell_type": "code",
   "execution_count": 1,
   "metadata": {
    "id": "pgfbVXL5Ywof"
   },
   "outputs": [],
   "source": [
    "import pandas as pd\n",
    "import numpy as np\n",
    "import seaborn as sns\n",
    "from scipy.stats import chi2_contingency\n",
    "from scipy.stats import chisquare\n",
    "import matplotlib.pyplot as plt\n",
    "from utils import *"
   ]
  },
  {
   "cell_type": "markdown",
   "metadata": {},
   "source": [
    "# determine accuracy"
   ]
  },
  {
   "cell_type": "code",
   "execution_count": 2,
   "metadata": {
    "colab": {
     "base_uri": "https://localhost:8080/"
    },
    "id": "VEwaX_Z1r5jH",
    "outputId": "f77aa748-101a-407a-cce4-35b13c542c7a"
   },
   "outputs": [
    {
     "name": "stdout",
     "output_type": "stream",
     "text": [
      "95\n",
      "114\n",
      "111\n",
      "103\n",
      "67\n"
     ]
    }
   ],
   "source": [
    "# determine how many samples of each ancestry group\n",
    "groupscsv = \"../datasets/SraRunTableD2.txt\"\n",
    "goldstandard = \"../datasets/2_gs.csv\"\n",
    "gs = pd.read_csv(goldstandard)\n",
    "groups = pd.read_csv(groupscsv)\n",
    "\n",
    "for group, df_by_group in groups.groupby('Population'):\n",
    "    accession_numbers = df_by_group['Run'].values.tolist()\n",
    "    gs_final = gs[gs['Run'].isin(accession_numbers)] #gs_final is a df containing the gold standard samples per population group\n",
    "    print(len(gs_final))\n"
   ]
  },
  {
   "cell_type": "code",
   "execution_count": 4,
   "metadata": {
    "colab": {
     "base_uri": "https://localhost:8080/"
    },
    "id": "jsWHA-h11Zi4",
    "outputId": "aa16459c-3ccf-4961-c671-d07b72c3a628",
    "scrolled": true
   },
   "outputs": [
    {
     "name": "stdout",
     "output_type": "stream",
     "text": [
      "        tool             europe          yoruba\n",
      "0   optitype     [13, 17, 2502]     [0, 8, 390]\n",
      "1      arcas    [38, 127, 3951]    [6, 67, 561]\n",
      "2    rna2hla     [69, 87, 3196]   [13, 24, 481]\n",
      "3  hlaforest    [84, 444, 3476]   [41, 92, 451]\n",
      "4    seq2hla   [121, 227, 3844]   [27, 37, 584]\n",
      "5      hlahd    [253, 89, 3864]   [28, 49, 555]\n",
      "6      phlat   [176, 185, 3221]   [56, 58, 450]\n",
      "7   hlavbseq  [1859, 134, 2127]  [289, 26, 295]\n"
     ]
    }
   ],
   "source": [
    "data = list()\n",
    "tools=[\"optitype\",\"arcas\",\"rna2hla\",\"hlaforest\",\"seq2hla\",\"hlahd\",\"phlat\",\"hlavbseq\"]\n",
    "\n",
    "groupscsv = \"../datasets/SraRunTableD2.txt\"\n",
    "groups = pd.read_csv(groupscsv)\n",
    "\n",
    "\n",
    "for t in tools:\n",
    "    toolresult = []\n",
    "    \n",
    "        \n",
    "    gs=pd.read_csv(\"../datasets/2_gs.csv\")\n",
    "    pre=pd.read_csv(\"../results/standard/\"+str(t)+\"_d2.csv\")\n",
    "\n",
    "    for group, df_by_group in groups.groupby('Population'):\n",
    "        accession_numbers = df_by_group['Run'].values.tolist()\n",
    "        gs_final = gs[gs['Run'].isin(accession_numbers)] #gs_final is a df containing the gold standard samples per population group\n",
    "        ret = compute_matches(pre,gs_final)\n",
    "        ret = np.sum(np.array(ret),axis=1)\n",
    "        #print(ret)\n",
    "        toolresult.append(ret)\n",
    "\n",
    "\n",
    "    europe = sum_euro_groups(toolresult[0:4])\n",
    "    yoruba = toolresult[4]\n",
    "    data.append([t, europe, yoruba])\n",
    "\n",
    "    \n",
    "    \n",
    "df = pd.DataFrame(data,columns=['tool','europe','yoruba'])\n",
    "print(df)"
   ]
  },
  {
   "cell_type": "code",
   "execution_count": 15,
   "metadata": {},
   "outputs": [
    {
     "name": "stdout",
     "output_type": "stream",
     "text": [
      "\n",
      "tool:  optitype \n",
      "table: \n",
      " [[  13   17 2502]\n",
      " [   0    8  390]] \n",
      " p= 0.00960713946909795\n",
      "\n",
      "tool:  arcas \n",
      "table: \n",
      " [[  38  127 3951]\n",
      " [   6   67  561]] \n",
      " p= 8.693790874022804e-18\n",
      "\n",
      "tool:  rna2hla \n",
      "table: \n",
      " [[  69   87 3196]\n",
      " [  13   24  481]] \n",
      " p= 0.02706540878707981\n",
      "\n",
      "tool:  hlaforest \n",
      "table: \n",
      " [[  84  444 3476]\n",
      " [  41   92  451]] \n",
      " p= 8.071046417550053e-14\n",
      "\n",
      "tool:  seq2hla \n",
      "table: \n",
      " [[ 121  227 3844]\n",
      " [  27   37  584]] \n",
      " p= 0.1969347693575962\n",
      "\n",
      "tool:  hlahd \n",
      "table: \n",
      " [[ 253   89 3864]\n",
      " [  28   49  555]] \n",
      " p= 9.503846597666287e-15\n",
      "\n",
      "tool:  phlat \n",
      "table: \n",
      " [[ 176  185 3221]\n",
      " [  56   58  450]] \n",
      " p= 1.9279913208314957e-11\n",
      "\n",
      "tool:  hlavbseq \n",
      "table: \n",
      " [[1859  134 2127]\n",
      " [ 289   26  295]] \n",
      " p= 0.19168862822078017\n"
     ]
    }
   ],
   "source": [
    "for tool in data:\n",
    "    obs = np.array([tool[1], tool[2]])\n",
    "    res = chi2_contingency(obs)\n",
    "\n",
    "    print(\"\\ntool: \" ,tool[0] , \"\\ntable: \\n\", obs, \"\\n p=\" , res[1])\n"
   ]
  },
  {
   "cell_type": "markdown",
   "metadata": {},
   "source": [
    "# chi square"
   ]
  },
  {
   "cell_type": "markdown",
   "metadata": {},
   "source": [
    "# plotting"
   ]
  },
  {
   "cell_type": "code",
   "execution_count": 4,
   "metadata": {},
   "outputs": [],
   "source": [
    "# calculating accuracy, creating data frames\n",
    "europe = np.array( df['europe'].values.tolist() )\n",
    "total = np.sum(europe,axis=1)\n",
    "europe_4dig = (europe[:,2])/total\n",
    "europe_2dig = (europe[:,1]+europe[:,2])/total\n",
    "\n",
    "yoruba = np.array( df['yoruba'].values.tolist() )\n",
    "total = np.sum(yoruba,axis=1)\n",
    "yoruba_4dig = (yoruba[:,2])/total\n",
    "yoruba_2dig = (yoruba[:,1]+yoruba[:,2])/total\n",
    "\n",
    "# concat to df\n",
    "dfeuro2dig = pd.DataFrame(europe_2dig,columns=['europe two dig accuracy'])\n",
    "dfeuro4dig = pd.DataFrame(europe_4dig,columns=['europe four dig accuracy'])\n",
    "dfyoru2dig = pd.DataFrame(yoruba_2dig,columns=['yoruba two dig accuracy'])\n",
    "dfyoru4dig = pd.DataFrame(yoruba_4dig,columns=['yoruba four dig accuracy'])"
   ]
  },
  {
   "cell_type": "code",
   "execution_count": 5,
   "metadata": {},
   "outputs": [
    {
     "name": "stdout",
     "output_type": "stream",
     "text": [
      "         tool                  ancestry  accuracy\n",
      "0    optitype  europe four dig accuracy  0.212875\n",
      "1       arcas  europe four dig accuracy  0.203596\n",
      "2     rna2hla  europe four dig accuracy  0.207339\n",
      "3   hlaforest  europe four dig accuracy  0.189061\n",
      "4     seq2hla  europe four dig accuracy  0.199427\n",
      "5       hlahd  europe four dig accuracy  0.192107\n",
      "6       phlat  europe four dig accuracy  0.201005\n",
      "7    hlavbseq  europe four dig accuracy  0.112379\n",
      "8    optitype  yoruba four dig accuracy  0.979899\n",
      "9       arcas  yoruba four dig accuracy  0.884858\n",
      "10    rna2hla  yoruba four dig accuracy  0.928571\n",
      "11  hlaforest  yoruba four dig accuracy  0.772260\n",
      "12    seq2hla  yoruba four dig accuracy  0.901235\n",
      "13      hlahd  yoruba four dig accuracy  0.878165\n",
      "14      phlat  yoruba four dig accuracy  0.797872\n",
      "15   hlavbseq  yoruba four dig accuracy  0.483607\n"
     ]
    },
    {
     "data": {
      "image/png": "[encoded data removed]",
      "text/plain": [
       "<Figure size 1080x720 with 1 Axes>"
      ]
     },
     "metadata": {
      "needs_background": "light"
     },
     "output_type": "display_data"
    }
   ],
   "source": [
    "# 4 dig accuracy\n",
    "\n",
    "\n",
    "df_accuracy=pd.concat([df['tool'],dfeuro4dig,dfyoru4dig],axis=1, join='inner')\n",
    "\n",
    "df_accuracy = pd.melt(df_accuracy, id_vars=\"tool\", var_name=\"ancestry\", value_name=\"accuracy\")\n",
    "print(df_accuracy)\n",
    "\n",
    "tool_names=['OptiType','ArcasHLA','RNA2HLA','HLAForest','Seq2HLA','HLA-HD','PHLAT','HLA-VBseq']\n",
    "order =[\"optitype\",\"rna2hla\",\"arcas\",\"seq2hla\",\"hlahd\",\"phlat\",\"hlaforest\",\"hlavbseq\"]\n",
    "\n",
    "sns.set_context(\"paper\")\n",
    "sns.color_palette(\"pastel\")\n",
    "plt.figure(figsize=(15,10))\n",
    "ax=sns.barplot(x = 'tool', y = 'accuracy', data=df_accuracy,hue='ancestry',order=order)\n",
    "ax.set_ylabel(\"Accuracy\")\n",
    "ax.set_xlabel(\"Tool\")\n",
    "ax.set_title(\"Accuracy (%) per Ancestry for Four Digit Resolution\") \n",
    "plt.legend(labels=['Yoruba','Europe'],bbox_to_anchor=(1.05, 1), loc=2, borderaxespad=0.)\n",
    "plt.ylim((0,1))\n",
    "sns.despine()\n",
    "#plt.savefig('../Figures/read_length_accuracy_4dig.png',bbox_inches =\"tight\",dpi=300)"
   ]
  },
  {
   "cell_type": "code",
   "execution_count": 6,
   "metadata": {},
   "outputs": [
    {
     "name": "stdout",
     "output_type": "stream",
     "text": [
      "         tool                 ancestry  accuracy\n",
      "0    optitype  europe two dig accuracy  0.218009\n",
      "1       arcas  europe two dig accuracy  0.217201\n",
      "2     rna2hla  europe two dig accuracy  0.216587\n",
      "3   hlaforest  europe two dig accuracy  0.220779\n",
      "4     seq2hla  europe two dig accuracy  0.215887\n",
      "5       hlahd  europe two dig accuracy  0.202330\n",
      "6       phlat  europe two dig accuracy  0.217755\n",
      "7    hlavbseq  europe two dig accuracy  0.124029\n",
      "8    optitype  yoruba two dig accuracy  1.000000\n",
      "9       arcas  yoruba two dig accuracy  0.990536\n",
      "10    rna2hla  yoruba two dig accuracy  0.974903\n",
      "11  hlaforest  yoruba two dig accuracy  0.929795\n",
      "12    seq2hla  yoruba two dig accuracy  0.958333\n",
      "13      hlahd  yoruba two dig accuracy  0.955696\n",
      "14      phlat  yoruba two dig accuracy  0.900709\n",
      "15   hlavbseq  yoruba two dig accuracy  0.526230\n"
     ]
    },
    {
     "data": {
      "image/png": "[encoded data removed]",
      "text/plain": [
       "<Figure size 1080x720 with 1 Axes>"
      ]
     },
     "metadata": {
      "needs_background": "light"
     },
     "output_type": "display_data"
    }
   ],
   "source": [
    "# 2 dig accuracy plot\n",
    "df_accuracy=pd.concat([df['tool'],dfeuro2dig,dfyoru2dig],axis=1, join='inner')\n",
    "df_accuracy = pd.melt(df_accuracy, id_vars=\"tool\", var_name=\"ancestry\", value_name=\"accuracy\")\n",
    "print(df_accuracy)\n",
    "\n",
    "tool_names=['OptiType','ArcasHLA','RNA2HLA','HLAForest','Seq2HLA','HLA-HD','PHLAT','HLA-VBseq']\n",
    "order =[\"optitype\",\"rna2hla\",\"arcas\",\"seq2hla\",\"hlahd\",\"phlat\",\"hlaforest\",\"hlavbseq\"]\n",
    "\n",
    "sns.set_context(\"paper\")\n",
    "sns.color_palette(\"pastel\")\n",
    "plt.figure(figsize=(15,10))\n",
    "ax=sns.barplot(x = 'tool', y = 'accuracy', data=df_accuracy,hue='ancestry',order=order)\n",
    "ax.set_ylabel(\"Accuracy\")\n",
    "ax.set_xlabel(\"Tool\")\n",
    "ax.set_title(\"Accuracy (%) per Ancestry for Two Digit Resolution\") \n",
    "plt.legend(labels=['Yoruba','Europe'],bbox_to_anchor=(1.05, 1), loc=2, borderaxespad=0.)\n",
    "plt.ylim((0,1))\n",
    "sns.despine()\n",
    "#plt.savefig('../Figures/read_length_accuracy_4dig.png',bbox_inches =\"tight\",dpi=300)"
   ]
  },
  {
   "cell_type": "code",
   "execution_count": null,
   "metadata": {},
   "outputs": [],
   "source": [
    "# getting "
   ]
  }
 ],
 "metadata": {
  "colab": {
   "provenance": []
  },
  "kernelspec": {
   "display_name": "Python 3 (ipykernel)",
   "language": "python",
   "name": "python3"
  },
  "language_info": {
   "codemirror_mode": {
    "name": "ipython",
    "version": 3
   },
   "file_extension": ".py",
   "mimetype": "text/x-python",
   "name": "python",
   "nbconvert_exporter": "python",
   "pygments_lexer": "ipython3",
   "version": "3.9.12"
  },
  "vscode": {
   "interpreter": {
    "hash": "a5887580c7cbb0fe8c117cf89484cb0db59155905523768f16ba2f70bd8e79c7"
   }
  }
 },
 "nbformat": 4,
 "nbformat_minor": 1
}
