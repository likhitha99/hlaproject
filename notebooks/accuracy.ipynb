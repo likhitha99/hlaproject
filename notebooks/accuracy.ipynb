{
 "cells": [
  {
   "cell_type": "code",
   "execution_count": 1,
   "metadata": {},
   "outputs": [],
   "source": [
    "import pandas as pd\n",
    "import numpy as np\n",
    "import matplotlib.pyplot as plt\n",
    "import seaborn as sns"
   ]
  },
  {
   "cell_type": "code",
   "execution_count": 2,
   "metadata": {},
   "outputs": [],
   "source": [
    "# converts only 1D or 2D array\n",
    "def convert_to_percentage(arr):\n",
    "  ret = list()\n",
    "\n",
    "  for row in arr:\n",
    "    count = 0\n",
    "    newrow = list()\n",
    "\n",
    "    for cell in row:\n",
    "      count = count+cell\n",
    "    \n",
    "    for cell in row:\n",
    "      newrow.append(cell/count)\n",
    "    \n",
    "    ret.append(newrow)\n",
    "  \n",
    "  return ret"
   ]
  },
  {
   "cell_type": "code",
   "execution_count": 3,
   "metadata": {},
   "outputs": [],
   "source": [
    "def fix(s):\n",
    "  firstcolon = s.find(\":\")\n",
    "  s_new = s[firstcolon-2:firstcolon] + s[firstcolon+1:firstcolon+3]\n",
    "  s_new = s_new.replace(\"*\", \"0\")\n",
    "  return s_new\n"
   ]
  },
  {
   "cell_type": "code",
   "execution_count": 4,
   "metadata": {},
   "outputs": [],
   "source": [
    "def compute_resolution(gs_val,pre_val):\n",
    "    gs_fixed = fix(gs_val)\n",
    "    pre_fixed = fix(pre_val)\n",
    "\n",
    "    if (gs_fixed[0:2] == pre_fixed[0:2]):\n",
    "      if (gs_fixed[2:4] == pre_fixed[2:4]):\n",
    "        return 4\n",
    "      return 2\n",
    "    return 0"
   ]
  },
  {
   "cell_type": "code",
   "execution_count": 5,
   "metadata": {},
   "outputs": [],
   "source": [
    "# requirements: gs accession numbers are under a column labeled \"Run\" \n",
    "#pre accession numbers are under a column labeled \"ERR\" \n",
    "# accession numbers/column titles are labeled identically between gold standard and results csv\n",
    "# Only accuracy for samples in both GS and PRE are calculated. Samples in PRE, but not in GS are ignored. Samples in GS, but not in PRE, are tallied in the \"failed\" variable \n",
    "def compute_matches(pre,gs):\n",
    "\n",
    "  fourdig = 0\n",
    "  twodig = 0\n",
    "  zerodig = 0\n",
    "  fail = 0\n",
    "\n",
    "  accession_numbers = gs[\"Run\"].values.tolist()\n",
    "  genes = gs.columns.values.tolist()\n",
    "\n",
    "  for number in accession_numbers:\n",
    "      pre_row = pre.loc[pre['ERR'] == number]\n",
    "      gs_row = gs.loc[gs['Run'] == number]\n",
    "\n",
    "      for i in range(1,len(genes),2):\n",
    "        try:\n",
    "          gs_val1 = gs_row[genes[i]].astype(str).values[0]\n",
    "          pre_val1 = pre_row[genes[i]].astype(str).values[0]\n",
    "          gs_val2 = gs_row[genes[i+1]].astype(str).values[0]\n",
    "          pre_val2 = pre_row[genes[i+1]].astype(str).values[0]\n",
    "\n",
    "          if gs_val1 == None or pre_val1 == None or gs_val2 == None or pre_val2 == None:\n",
    "            fail = fail+1\n",
    "            continue\n",
    "\n",
    "          # assuming no swapping \n",
    "          ans1 = compute_resolution(gs_val1,pre_val1)\n",
    "          ans2 = compute_resolution(gs_val2,pre_val2)\n",
    "\n",
    "          # assuming swapping\n",
    "          ans3 = compute_resolution(gs_val1,pre_val2)\n",
    "          ans4 = compute_resolution(gs_val2,pre_val1)\n",
    "\n",
    "          if (ans1+ans2 > ans3+ans4):\n",
    "            if (ans1 == 0):\n",
    "              zerodig = zerodig + 1\n",
    "            if (ans1 == 2):\n",
    "              twodig = twodig + 1\n",
    "            if (ans1 == 4):\n",
    "              fourdig = fourdig + 1\n",
    "            if (ans2 == 0):\n",
    "              zerodig = zerodig + 1\n",
    "            if (ans2 == 2):\n",
    "              twodig = twodig + 1\n",
    "            if (ans2 == 4):\n",
    "              fourdig = fourdig + 1\n",
    "          else:\n",
    "            if (ans3 == 0):\n",
    "              zerodig = zerodig + 1\n",
    "            if (ans3 == 2):\n",
    "              twodig = twodig + 1\n",
    "            if (ans3 == 4):\n",
    "              fourdig = fourdig + 1\n",
    "            if (ans4 == 0):\n",
    "              zerodig = zerodig + 1\n",
    "            if (ans4 == 2):\n",
    "              twodig = twodig + 1\n",
    "            if (ans4 == 4):\n",
    "              fourdig = fourdig + 1\n",
    "        except:\n",
    "          fail = fail+1\n",
    "\n",
    "  return zerodig,twodig,fourdig #,fail #onzero fail indicates exception occurred"
   ]
  },
  {
   "cell_type": "code",
   "execution_count": 12,
   "metadata": {},
   "outputs": [
    {
     "data": {
      "text/plain": [
       "range(0, 6)"
      ]
     },
     "execution_count": 12,
     "metadata": {},
     "output_type": "execute_result"
    }
   ],
   "source": [
    "range(0,6)"
   ]
  },
  {
   "cell_type": "code",
   "execution_count": 24,
   "metadata": {},
   "outputs": [
    {
     "name": "stdout",
     "output_type": "stream",
     "text": [
      "hlaforest d1 (22, 39, 239)\n",
      "hlaforest d2 (133, 797, 3970)\n",
      "hlaforest d3 (5, 26, 141)\n",
      "hlaforest d4 (10, 4, 10)\n",
      "hlaforest d5 (4, 2, 2)\n",
      "hlaforest d6 (0, 0, 0)\n",
      "optitype d1 (8, 10, 282)\n",
      "optitype d2 (13, 30, 2897)\n",
      "optitype d3 (0, 0, 0)\n",
      "optitype d4 (0, 0, 0)\n",
      "optitype d5 (4, 0, 4)\n",
      "optitype d6 (0, 0, 0)\n",
      "phlat d1 (13, 39, 248)\n",
      "phlat d2 (495, 453, 3952)\n",
      "phlat d3 (4, 12, 156)\n",
      "phlat d4 (7, 2, 5)\n",
      "phlat d5 (4, 0, 4)\n",
      "phlat d6 (0, 0, 0)\n",
      "seq2hla d1 (14, 25, 261)\n",
      "seq2hla d2 (152, 325, 4423)\n",
      "seq2hla d3 (55, 18, 95)\n",
      "seq2hla d4 (21, 1, 6)\n",
      "seq2hla d5 (4, 1, 3)\n",
      "seq2hla d6 (0, 0, 0)\n",
      "rna2hla d1 (14, 25, 261)\n",
      "rna2hla d2 (83, 154, 3683)\n",
      "rna2hla d3 (14, 27, 131)\n",
      "rna2hla d4 (21, 1, 6)\n",
      "rna2hla d5 (4, 1, 3)\n",
      "rna2hla d6 (0, 0, 0)\n",
      "arcas d1 (9, 88, 203)\n",
      "arcas d2 (47, 353, 4500)\n",
      "arcas d3 (4, 5, 163)\n",
      "arcas d4 (24, 0, 4)\n",
      "arcas d5 (3, 0, 5)\n",
      "arcas d6 (0, 0, 0)\n",
      "hlavbseq d1 (32, 27, 241)\n",
      "hlavbseq d2 (2162, 258, 2480)\n",
      "hlavbseq d3 (82, 4, 86)\n",
      "hlavbseq d4 (22, 0, 2)\n",
      "hlavbseq d5 (0, 0, 8)\n",
      "hlavbseq d6 (0, 0, 0)\n"
     ]
    }
   ],
   "source": [
    "data = list()\n",
    "tools=[\"hlaforest\",\"optitype\",\"phlat\",\"seq2hla\",\"rna2hla\",\"arcas\",\"hlavbseq\"]\n",
    "#datasets=[\"1\",\"d2\",\"d3\",\"d4\",\"d5\",\"d6\"]\n",
    "for t in tools:\n",
    "    for d in range(1,7):\n",
    "        gs=pd.read_csv(\"../datasets/\"+str(d)+\"_gs.csv\")\n",
    "        pre=pd.read_csv(\"../results/standard/\"+str(t)+\"_d\"+str(d)+\".csv\")\n",
    "        ret=compute_matches(pre,gs)\n",
    "        print(t,\"d\"+str(d),ret)\n"
   ]
  }
 ],
 "metadata": {
  "kernelspec": {
   "display_name": "base",
   "language": "python",
   "name": "python3"
  },
  "language_info": {
   "codemirror_mode": {
    "name": "ipython",
    "version": 3
   },
   "file_extension": ".py",
   "mimetype": "text/x-python",
   "name": "python",
   "nbconvert_exporter": "python",
   "pygments_lexer": "ipython3",
   "version": "3.9.7"
  },
  "orig_nbformat": 4,
  "vscode": {
   "interpreter": {
    "hash": "a5887580c7cbb0fe8c117cf89484cb0db59155905523768f16ba2f70bd8e79c7"
   }
  }
 },
 "nbformat": 4,
 "nbformat_minor": 2
}
