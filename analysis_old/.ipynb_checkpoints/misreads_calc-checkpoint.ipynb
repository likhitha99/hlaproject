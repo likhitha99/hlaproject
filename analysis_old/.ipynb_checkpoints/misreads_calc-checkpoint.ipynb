{
 "cells": [
  {
   "cell_type": "code",
   "execution_count": null,
   "metadata": {
    "colab": {
     "base_uri": "https://localhost:8080/"
    },
    "executionInfo": {
     "elapsed": 20513,
     "status": "ok",
     "timestamp": 1643530711628,
     "user": {
      "displayName": "Love to Read",
      "photoUrl": "https://lh3.googleusercontent.com/a-/AOh14GjNIQp4KE38V374dQeTM8DPVzBoHXi-TV9o4yRM=s64",
      "userId": "12546098905808482653"
     },
     "user_tz": 480
    },
    "id": "fOUm8k3D62Hs",
    "outputId": "7c540e40-9520-4e21-9305-5c0bca2b2d86"
   },
   "outputs": [
    {
     "name": "stdout",
     "output_type": "stream",
     "text": [
      "Mounted at /content/gdrive\n"
     ]
    }
   ],
   "source": [
    "from google.colab import drive\n",
    "drive.mount('/content/gdrive')"
   ]
  },
  {
   "cell_type": "code",
   "execution_count": null,
   "metadata": {
    "id": "C-XUzfggtdWf"
   },
   "outputs": [],
   "source": [
    "import pandas as pd\n",
    "import glob\n",
    "import collections\n",
    "import seaborn as sns\n",
    "import numpy as np\n",
    "import matplotlib.pyplot as plt \n",
    "\n",
    "misreads = pd.DataFrame()\n",
    "counts = dict()"
   ]
  },
  {
   "cell_type": "code",
   "execution_count": 1,
   "metadata": {
    "executionInfo": {
     "elapsed": 8,
     "status": "ok",
     "timestamp": 1645591606192,
     "user": {
      "displayName": "Sara Ayoub",
      "photoUrl": "https://lh3.googleusercontent.com/a/default-user=s64",
      "userId": "13313424936489204564"
     },
     "user_tz": 480
    },
    "id": "1FZ2r2FSkeAs"
   },
   "outputs": [],
   "source": [
    "def cleaning_data(dataset1, gold_standard_dataset1):\n",
    "  dataset1_column_names = dataset1.columns\n",
    "  gs_columns_names=gold_standard_dataset1.columns\n",
    "  #delete any rows with accession numbers not in gold standard accessions\n",
    "  #https://stackoverflow.com/questions/27965295/dropping-rows-from-dataframe-based-on-a-not-in-condition\n",
    "  #https://www.kite.com/python/answers/how-to-get-the-first-column-of-a-pandas-dataframe-as-a-series-in-python\n",
    "  dataset1 = dataset1[dataset1[dataset1_column_names[0]].isin(list(gold_standard_dataset1.iloc[:, 0]))]\n",
    "  gold_standard_dataset_copy = gold_standard_dataset1\n",
    "  gold_standard_dataset1 = gold_standard_dataset1[gold_standard_dataset1[gs_columns_names[0]].isin(list(dataset1.iloc[:, 0]))]\n",
    "\n",
    "\n",
    "  #sort rows based on accession \n",
    "  #https://datatofish.com/sort-pandas-dataframe/\n",
    "  dataset1.sort_values(by=[dataset1_column_names[0]], inplace=True)\n",
    "  gold_standard_dataset1.sort_values(by=[gs_columns_names[0]], inplace=True)\n",
    "\n",
    "  #https://www.geeksforgeeks.org/reset-index-in-pandas-dataframe/\n",
    "  dataset1.reset_index(inplace = True,drop = True)\n",
    "  gold_standard_dataset1.reset_index(inplace = True,drop = True)\n",
    "\n",
    "  #https://www.datasciencemadesimple.com/return-first-n-character-from-left-of-column-in-pandas-python/\n",
    "  #https://www.geeksforgeeks.org/apply-uppercase-to-a-column-in-pandas-dataframe/\n",
    "  #https://stackoverflow.com/questions/25698710/replace-all-occurrences-of-a-string-in-a-pandas-dataframe-python\n",
    "  #https://www.geeksforgeeks.org/pandas-remove-special-characters-from-column-names/\n",
    "  #formatting dataframes to look alike\n",
    "\n",
    "  for i in range(1,len(dataset1_column_names)):\n",
    "    dataset1[dataset1_column_names[i]]= dataset1[dataset1_column_names[i]].str[:7].str.upper().str.replace('[*,.,:,\\',\\\",;]', '')\n",
    "  for j in range(1,len(gs_columns_names)):\n",
    "    gold_standard_dataset1[gs_columns_names[j]]= gold_standard_dataset1[gs_columns_names[j]].str[:7].str.upper().str.replace('[*,.,:,\\',\\\",;]', '')\n",
    "  return dataset1, gold_standard_dataset1\n"
   ]
  },
  {
   "cell_type": "code",
   "execution_count": null,
   "metadata": {
    "id": "TX9wOjoweKH5"
   },
   "outputs": [],
   "source": [
    "'''def missed_allels(A1,A2,B1,B2,C1,C2):\n",
    "  misreadsA=[*A1['A'].tolist(), *A2['A.1'].tolist()]\n",
    "  print(misreadsA)\n",
    "\n",
    "  misreadsB=[*B1['B'].tolist(), *B2['B.1'].tolist()]\n",
    "  print(misreadsB)\n",
    "\n",
    "  misreadsC=[*C1['C'].tolist(), *C2['C.1'].tolist()]\n",
    "  print(misreadsC)\n",
    "\n",
    "  A_allels = collections.Counter(misreadsA)\n",
    "  B_allels = collections.Counter(misreadsB)\n",
    "  C_allels = collections.Counter(misreadsC)\n",
    "  return A_allels,B_allels,C_allels\n",
    "  '''"
   ]
  },
  {
   "cell_type": "code",
   "execution_count": null,
   "metadata": {
    "id": "rCrqwArPcmR9"
   },
   "outputs": [],
   "source": [
    "def create_misreads_dataframes(dataset1, gold_standard_dataset1, tool_name):\n",
    "  \n",
    "  #fill each dict with allele and the number of times it was mispredicted\n",
    "\n",
    "  dataset1_column_names = dataset1.columns\n",
    "  gs_columns_names=gold_standard_dataset1.columns\n",
    "\n",
    "  #make a list or dictionary for each HLA gene (A, B, C)\n",
    "  A1,A2,B1,B2,C1,C2 = pd.DataFrame, pd.DataFrame, pd.DataFrame,pd.DataFrame, pd.DataFrame, pd.DataFrame\n",
    "\n",
    "  #Outer left Join exclusive\n",
    "  #https://www.youtube.com/watch?v=iYWKfUOtGaw\n",
    "  #https://stackoverflow.com/questions/41815079/pandas-merge-join-two-data-frames-on-multiple-columns\n",
    "  #https://stackoverflow.com/questions/17978133/python-pandas-merge-only-certain-columns?rq=1\n",
    "  #https://stackoverflow.com/questions/50543326/how-to-do-left-outer-join-exclusion-in-pandas\n",
    "  #A= pd.merge(gold_standard_dataset1[[gs_columns_names[0],gs_columns_names[1],gs_columns_names[2]]],dataset1[[dataset1_column_names[0],dataset1_column_names[1],dataset1_column_names[2]]],left_on=[gs_columns_names[1],gs_columns_names[2]], right_on = [dataset1_column_names[1],dataset1_column_names[2]], how='left',indicator=True).query('_merge==\"left_only\"')\n",
    "  #https://stackoverflow.com/questions/61720614/how-to-drop-merge-column-in-pandas-merge\n",
    "  A1= pd.merge(gold_standard_dataset1[[gs_columns_names[0],gs_columns_names[1]]],dataset1[[dataset1_column_names[0],dataset1_column_names[1]]],left_on=[gs_columns_names[1]], right_on = [dataset1_column_names[1]], how='left',indicator=True).query('_merge==\"left_only\"').drop(['_merge'], axis=1)\n",
    "  A2= pd.merge(gold_standard_dataset1[[gs_columns_names[0],gs_columns_names[2]]],dataset1[[dataset1_column_names[0],dataset1_column_names[2]]],left_on=[gs_columns_names[2]], right_on = [dataset1_column_names[2]], how='left',indicator=True).query('_merge==\"left_only\"').drop(['_merge'], axis=1)\n",
    "  print(A1)\n",
    "  print(A2)\n",
    "  B1= pd.merge(gold_standard_dataset1[[gs_columns_names[0],gs_columns_names[3]]],dataset1[[dataset1_column_names[0],dataset1_column_names[3]]],left_on=[gs_columns_names[3]], right_on = [dataset1_column_names[3]], how='left',indicator=True).query('_merge==\"left_only\"').drop(['_merge'], axis=1)\n",
    "  B2= pd.merge(gold_standard_dataset1[[gs_columns_names[0],gs_columns_names[4]]],dataset1[[dataset1_column_names[0],dataset1_column_names[4]]],left_on=[gs_columns_names[4]], right_on = [dataset1_column_names[4]], how='left',indicator=True).query('_merge==\"left_only\"').drop(['_merge'], axis=1)\n",
    "\n",
    "  C1= pd.merge(gold_standard_dataset1[[gs_columns_names[0],gs_columns_names[5]]],dataset1[[dataset1_column_names[0],dataset1_column_names[5]]],left_on=[gs_columns_names[5]], right_on = [dataset1_column_names[5]], how='left',indicator=True).query('_merge==\"left_only\"').drop(['_merge'], axis=1)\n",
    "  C2= pd.merge(gold_standard_dataset1[[gs_columns_names[0],gs_columns_names[6]]],dataset1[[dataset1_column_names[0],dataset1_column_names[6]]],left_on=[gs_columns_names[6]], right_on = [dataset1_column_names[6]], how='left',indicator=True).query('_merge==\"left_only\"').drop(['_merge'], axis=1)\n",
    " \n",
    "  #https://pandas.pydata.org/docs/reference/api/pandas.DataFrame.merge.html\n",
    "\n",
    "  '''\n",
    "  A,B,C = pd.DataFrame, pd.DataFrame, pd.DataFrame\n",
    "  A= pd.merge(A1,A2,on='Run_x', how='outer',indicator=True).drop(['_merge'], axis=1)\n",
    "  B= pd.merge(B1,B2,on='Run_x', how='outer',indicator=True).drop(['_merge'], axis=1)\n",
    "  C= pd.merge(C1,C2,on='Run_x', how='outer',indicator=True).drop(['_merge'], axis=1)\n",
    "  '''\n",
    "\n",
    "  #allels_missed = missed_allels(A1,A2,B1,B2,C1,C2)\n",
    "  #return misread_gene_count, allels_missed\n",
    "  return A1,A2,B1,B2,C1,C2\n",
    "\n",
    "  #pd.series  then series to list "
   ]
  },
  {
   "cell_type": "code",
   "execution_count": null,
   "metadata": {
    "id": "uuCuACZm_Sty"
   },
   "outputs": [],
   "source": [
    "def misreadsbyallele(dataset1, gold_standard_dataset1, tool_name):\n",
    "  dataframe_list = create_misreads_dataframes(dataset1, gold_standard_dataset1, tool_name)\n",
    "  A1 = dataframe_list[0]\n",
    "  A2 = dataframe_list[1]\n",
    "  B1 = dataframe_list[2]\n",
    "  B2 = dataframe_list[3]\n",
    "  C1 = dataframe_list[4]\n",
    "  C2 = dataframe_list[5]\n",
    "  \n",
    "  misreadsA=[*A1['A'].tolist(), *A2['A.1'].tolist()]\n",
    "  print(misreadsA)\n",
    "\n",
    "  misreadsB=[*B1['B'].tolist(), *B2['B.1'].tolist()]\n",
    "  print(misreadsB)\n",
    "\n",
    "  misreadsC=[*C1['C'].tolist(), *C2['C.1'].tolist()]\n",
    "  print(misreadsC)\n",
    "\n",
    "  A_allels = collections.Counter(misreadsA)\n",
    "  B_allels = collections.Counter(misreadsB)\n",
    "  C_allels = collections.Counter(misreadsC)\n",
    "  return A_allels,B_allels,C_allels"
   ]
  },
  {
   "cell_type": "code",
   "execution_count": null,
   "metadata": {
    "id": "kK7ls_CY_syD"
   },
   "outputs": [],
   "source": [
    "def misreadsbygene(dataset1, gold_standard_dataset1, tool_name):\n",
    "  dataframe_list = create_misreads_dataframes(dataset1, gold_standard_dataset1, tool_name)\n",
    "  A1 = dataframe_list[0]\n",
    "  A2 = dataframe_list[1]\n",
    "  B1 = dataframe_list[2]\n",
    "  B2 = dataframe_list[3]\n",
    "  C1 = dataframe_list[4]\n",
    "  C2 = dataframe_list[5]\n",
    "\n",
    "\n",
    "  a=len(A1)+len(A2)\n",
    "  b=len(B1)+len(B2)\n",
    "  c=len(C1)+len(C2)\n",
    "\n",
    "  return a,b,c\n",
    "\n"
   ]
  },
  {
   "cell_type": "code",
   "execution_count": null,
   "metadata": {
    "id": "4cUdHFX4CrLL"
   },
   "outputs": [],
   "source": [
    "def misread_gene_plot(misreads_dict):\n",
    "  df = pd.DataFrame.from_dict(misreads_dict, orient='index', dtype=None, columns=['A','B','C'])\n",
    "  print(df)\n",
    "  print(type(df))\n",
    "  return df\n"
   ]
  },
  {
   "cell_type": "code",
   "execution_count": null,
   "metadata": {
    "id": "K4ynXtpfPV9R"
   },
   "outputs": [],
   "source": []
  },
  {
   "cell_type": "code",
   "execution_count": null,
   "metadata": {
    "colab": {
     "base_uri": "https://localhost:8080/",
     "height": 130
    },
    "executionInfo": {
     "elapsed": 302,
     "status": "error",
     "timestamp": 1642443937931,
     "user": {
      "displayName": "Love to Read",
      "photoUrl": "https://lh3.googleusercontent.com/a-/AOh14GjNIQp4KE38V374dQeTM8DPVzBoHXi-TV9o4yRM=s64",
      "userId": "12546098905808482653"
     },
     "user_tz": 480
    },
    "id": "kW6GGpENCt4O",
    "outputId": "f8df9145-c57c-4cc0-e197-b6f6725a2e02"
   },
   "outputs": [
    {
     "ename": "SyntaxError",
     "evalue": "ignored",
     "output_type": "error",
     "traceback": [
      "\u001b[0;36m  File \u001b[0;32m\"<ipython-input-11-0146801c0810>\"\u001b[0;36m, line \u001b[0;32m2\u001b[0m\n\u001b[0;31m    \u001b[0m\n\u001b[0m    ^\u001b[0m\n\u001b[0;31mSyntaxError\u001b[0m\u001b[0;31m:\u001b[0m unexpected EOF while parsing\n"
     ]
    }
   ],
   "source": [
    "def misread_allele_plot(misreads_dict):\n",
    "  "
   ]
  },
  {
   "cell_type": "code",
   "execution_count": null,
   "metadata": {
    "colab": {
     "base_uri": "https://localhost:8080/"
    },
    "executionInfo": {
     "elapsed": 21488,
     "status": "ok",
     "timestamp": 1643530782542,
     "user": {
      "displayName": "Love to Read",
      "photoUrl": "https://lh3.googleusercontent.com/a-/AOh14GjNIQp4KE38V374dQeTM8DPVzBoHXi-TV9o4yRM=s64",
      "userId": "12546098905808482653"
     },
     "user_tz": 480
    },
    "id": "89rJ9mbAh8Ru",
    "outputId": "ff2a1d01-624c-4615-c8cc-16798678f1c3"
   },
   "outputs": [
    {
     "name": "stdout",
     "output_type": "stream",
     "text": [
      "How many tools regarding dataset1 would you like to input2\n",
      "what is filepath to caller results csv/content/gdrive/MyDrive/test/OPTITYPE/optitype.csv\n",
      "what is the name of this toolOPTITYPE\n",
      "what is filepath to caller results csv/content/gdrive/MyDrive/test/phlat.csv\n",
      "what is the name of this toolPHLAT\n"
     ]
    }
   ],
   "source": [
    "# MAIN - load required data\n",
    "loc_gs = '/content/gdrive/MyDrive/test/datasets'\n",
    "gold_standard_dataset1 = pd.read_csv(loc_gs+'/1_gs.csv')\n",
    "tool_names_and_loc = dict()\n",
    "how_many_tools = int(input(\"How many tools regarding dataset1 would you like to input\"))\n",
    "for i in range(how_many_tools):\n",
    "  caller = input(\"what is filepath to caller results csv\") #/content/gdrive/MyDrive/test/OPTITYPE/optitype.csv /content/gdrive/MyDrive/test/phlat.csv\n",
    "  tool_name = input(\"what is the name of this tool\").lower()\n",
    "  tool_names_and_loc[tool_name]=caller\n",
    "\n",
    "#names = dict()\n",
    "#all_data = list()\n",
    "\n",
    "#print(all_data)\n"
   ]
  },
  {
   "cell_type": "code",
   "execution_count": null,
   "metadata": {
    "colab": {
     "base_uri": "https://localhost:8080/",
     "height": 764
    },
    "executionInfo": {
     "elapsed": 1263,
     "status": "ok",
     "timestamp": 1643530796129,
     "user": {
      "displayName": "Love to Read",
      "photoUrl": "https://lh3.googleusercontent.com/a-/AOh14GjNIQp4KE38V374dQeTM8DPVzBoHXi-TV9o4yRM=s64",
      "userId": "12546098905808482653"
     },
     "user_tz": 480
    },
    "id": "RITNMG9FFgEJ",
    "outputId": "969631ce-73cb-4d35-cbd8-4fbf2687fd4c"
   },
   "outputs": [
    {
     "name": "stdout",
     "output_type": "stream",
     "text": [
      "         Run_x      A Run_y HLA_A_Allele1\n",
      "134  ERR009130  A2301   NaN           NaN\n",
      "221  ERR009147  A68XX   NaN           NaN\n",
      "         Run_x    A.1 Run_y HLA_A_Allele2\n",
      "235  ERR009129  A3101   NaN           NaN\n",
      "365  ERR009146  A3002   NaN           NaN\n",
      "410  ERR009154  A6801   NaN           NaN\n",
      "538  ERR009168  A3201   NaN           NaN\n",
      "         Run_x      A Run_y HLA_A_Allele1\n",
      "16   ERR009097  A2501   NaN           NaN\n",
      "33   ERR009103  A2902   NaN           NaN\n",
      "71   ERR009107  A2501   NaN           NaN\n",
      "88   ERR009109  A3201   NaN           NaN\n",
      "110  ERR009114  A2902   NaN           NaN\n",
      "213  ERR009123  A2501   NaN           NaN\n",
      "231  ERR009130  A2301   NaN           NaN\n",
      "278  ERR009137  A3101   NaN           NaN\n",
      "336  ERR009144  A3201   NaN           NaN\n",
      "359  ERR009147  A68XX   NaN           NaN\n",
      "432  ERR009155  A2902   NaN           NaN\n",
      "         Run_x    A.1 Run_y HLA_A_Allele2\n",
      "292  ERR009146  A3002   NaN           NaN\n",
      "           A   B   C\n",
      "OPTITYPE   6  19   9\n",
      "PHLAT     12  13  16\n",
      "<class 'pandas.core.frame.DataFrame'>\n",
      "['OPTITYPE', 'PHLAT']\n"
     ]
    },
    {
     "data": {
      "image/png": "[encoded data removed]",
      "text/plain": [
       "<Figure size 432x288 with 1 Axes>"
      ]
     },
     "metadata": {
      "needs_background": "light"
     },
     "output_type": "display_data"
    }
   ],
   "source": [
    "# MAIN - misreads by gene graph\n",
    "misreadsbygene_dict = dict()\n",
    "alltools = list()\n",
    "\n",
    "for key,value in tool_names_and_loc.items():\n",
    "  dataset1 = pd.read_csv(value)\n",
    "  datasets_cleaned=cleaning_data(dataset1, gold_standard_dataset1)\n",
    "  dataset1=datasets_cleaned[0]\n",
    "  gold_standard_dataset1=datasets_cleaned[1]\n",
    "  alltools.append(key)\n",
    "\n",
    "  misreadsbygene_dict[key] = misreadsbygene(dataset1, gold_standard_dataset1, key)\n",
    "  '''\n",
    "  dataset1 = dataframes[0]\n",
    "  gold_standard_dataset1 = dataframes[1]\n",
    "  misread_genes=gene_misread(dataset1, gold_standard_dataset1, tool_name)\n",
    "  all_data.append(misread_genes)\n",
    "  '''\n",
    "\n",
    "df = misread_gene_plot(misreadsbygene_dict)\n",
    "print(alltools)\n",
    "df['tools']=np.array(alltools)\n",
    "#https://thispointer.com/pandas-convert-a-dataframe-column-into-a-list-using-series-to_list-or-numpy-ndarray-tolist-in-python/\n",
    "#https://stackoverflow.com/questions/51865367/cannot-convert-the-series-to-class-int\n",
    "A= df['A'].astype(int).to_list()\n",
    "B= df['B'].astype(int).to_list()\n",
    "C= df['C'].astype(int).to_list()\n",
    "X = df['tools']\n",
    "\n",
    "#https://www.geeksforgeeks.org/plotting-multiple-bar-charts-using-matplotlib-in-python/\n",
    "#https://stackoverflow.com/questions/14270391/python-matplotlib-multiple-bars\n",
    "x = np.arange(len(X))\n",
    "ax = plt.subplot(111)\n",
    "ax.bar(x-0.2, A, width=0.2, color='b', align='center')\n",
    "ax.bar(x, B, width=0.2, color='g', align='center')\n",
    "ax.bar(x+0.2, C, width=0.2, color='r', align='center')\n",
    "\n",
    "plt.xticks(x, X)\n",
    "plt.xlabel(\"callers\")\n",
    "plt.ylabel(\"mismatches\")\n",
    "plt.title(\"Number of mismatches per gene per caller\")\n",
    "plt.legend((('A', 'B', 'C')))\n",
    "plt.show()\n",
    "\n",
    "#df.to_csv('misreadsbygene.csv', index=False)\n",
    "#categorical_data = sns.load_dataset('/content/misreadsbygene.csv')\n"
   ]
  },
  {
   "cell_type": "code",
   "execution_count": null,
   "metadata": {
    "colab": {
     "base_uri": "https://localhost:8080/",
     "height": 112
    },
    "executionInfo": {
     "elapsed": 192,
     "status": "ok",
     "timestamp": 1643530802994,
     "user": {
      "displayName": "Love to Read",
      "photoUrl": "https://lh3.googleusercontent.com/a-/AOh14GjNIQp4KE38V374dQeTM8DPVzBoHXi-TV9o4yRM=s64",
      "userId": "12546098905808482653"
     },
     "user_tz": 480
    },
    "id": "KqnmcmozSJGT",
    "outputId": "eb7bd713-ea05-40b7-d167-2792b3323af1"
   },
   "outputs": [
    {
     "data": {
      "text/html": [
       "\n",
       "  <div id=\"df-475f533f-b7d5-4151-85a1-3aa8570b210c\">\n",
       "    <div class=\"colab-df-container\">\n",
       "      <div>\n",
       "<style scoped>\n",
       "    .dataframe tbody tr th:only-of-type {\n",
       "        vertical-align: middle;\n",
       "    }\n",
       "\n",
       "    .dataframe tbody tr th {\n",
       "        vertical-align: top;\n",
       "    }\n",
       "\n",
       "    .dataframe thead th {\n",
       "        text-align: right;\n",
       "    }\n",
       "</style>\n",
       "<table border=\"1\" class=\"dataframe\">\n",
       "  <thead>\n",
       "    <tr style=\"text-align: right;\">\n",
       "      <th></th>\n",
       "      <th>A</th>\n",
       "      <th>B</th>\n",
       "      <th>C</th>\n",
       "      <th>tools</th>\n",
       "    </tr>\n",
       "  </thead>\n",
       "  <tbody>\n",
       "    <tr>\n",
       "      <th>OPTITYPE</th>\n",
       "      <td>6</td>\n",
       "      <td>19</td>\n",
       "      <td>9</td>\n",
       "      <td>OPTITYPE</td>\n",
       "    </tr>\n",
       "    <tr>\n",
       "      <th>PHLAT</th>\n",
       "      <td>12</td>\n",
       "      <td>13</td>\n",
       "      <td>16</td>\n",
       "      <td>PHLAT</td>\n",
       "    </tr>\n",
       "  </tbody>\n",
       "</table>\n",
       "</div>\n",
       "      <button class=\"colab-df-convert\" onclick=\"convertToInteractive('df-475f533f-b7d5-4151-85a1-3aa8570b210c')\"\n",
       "              title=\"Convert this dataframe to an interactive table.\"\n",
       "              style=\"display:none;\">\n",
       "        \n",
       "  <svg xmlns=\"http://www.w3.org/2000/svg\" height=\"24px\"viewBox=\"0 0 24 24\"\n",
       "       width=\"24px\">\n",
       "    <path d=\"M0 0h24v24H0V0z\" fill=\"none\"/>\n",
       "    <path d=\"M18.56 5.44l.94 2.06.94-2.06 2.06-.94-2.06-.94-.94-2.06-.94 2.06-2.06.94zm-11 1L8.5 8.5l.94-2.06 2.06-.94-2.06-.94L8.5 2.5l-.94 2.06-2.06.94zm10 10l.94 2.06.94-2.06 2.06-.94-2.06-.94-.94-2.06-.94 2.06-2.06.94z\"/><path d=\"M17.41 7.96l-1.37-1.37c-.4-.4-.92-.59-1.43-.59-.52 0-1.04.2-1.43.59L10.3 9.45l-7.72 7.72c-.78.78-.78 2.05 0 2.83L4 21.41c.39.39.9.59 1.41.59.51 0 1.02-.2 1.41-.59l7.78-7.78 2.81-2.81c.8-.78.8-2.07 0-2.86zM5.41 20L4 18.59l7.72-7.72 1.47 1.35L5.41 20z\"/>\n",
       "  </svg>\n",
       "      </button>\n",
       "      \n",
       "  <style>\n",
       "    .colab-df-container {\n",
       "      display:flex;\n",
       "      flex-wrap:wrap;\n",
       "      gap: 12px;\n",
       "    }\n",
       "\n",
       "    .colab-df-convert {\n",
       "      background-color: #E8F0FE;\n",
       "      border: none;\n",
       "      border-radius: 50%;\n",
       "      cursor: pointer;\n",
       "      display: none;\n",
       "      fill: #1967D2;\n",
       "      height: 32px;\n",
       "      padding: 0 0 0 0;\n",
       "      width: 32px;\n",
       "    }\n",
       "\n",
       "    .colab-df-convert:hover {\n",
       "      background-color: #E2EBFA;\n",
       "      box-shadow: 0px 1px 2px rgba(60, 64, 67, 0.3), 0px 1px 3px 1px rgba(60, 64, 67, 0.15);\n",
       "      fill: #174EA6;\n",
       "    }\n",
       "\n",
       "    [theme=dark] .colab-df-convert {\n",
       "      background-color: #3B4455;\n",
       "      fill: #D2E3FC;\n",
       "    }\n",
       "\n",
       "    [theme=dark] .colab-df-convert:hover {\n",
       "      background-color: #434B5C;\n",
       "      box-shadow: 0px 1px 3px 1px rgba(0, 0, 0, 0.15);\n",
       "      filter: drop-shadow(0px 1px 2px rgba(0, 0, 0, 0.3));\n",
       "      fill: #FFFFFF;\n",
       "    }\n",
       "  </style>\n",
       "\n",
       "      <script>\n",
       "        const buttonEl =\n",
       "          document.querySelector('#df-475f533f-b7d5-4151-85a1-3aa8570b210c button.colab-df-convert');\n",
       "        buttonEl.style.display =\n",
       "          google.colab.kernel.accessAllowed ? 'block' : 'none';\n",
       "\n",
       "        async function convertToInteractive(key) {\n",
       "          const element = document.querySelector('#df-475f533f-b7d5-4151-85a1-3aa8570b210c');\n",
       "          const dataTable =\n",
       "            await google.colab.kernel.invokeFunction('convertToInteractive',\n",
       "                                                     [key], {});\n",
       "          if (!dataTable) return;\n",
       "\n",
       "          const docLinkHtml = 'Like what you see? Visit the ' +\n",
       "            '<a target=\"_blank\" href=https://colab.research.google.com/notebooks/data_table.ipynb>data table notebook</a>'\n",
       "            + ' to learn more about interactive tables.';\n",
       "          element.innerHTML = '';\n",
       "          dataTable['output_type'] = 'display_data';\n",
       "          await google.colab.output.renderOutput(dataTable, element);\n",
       "          const docLink = document.createElement('div');\n",
       "          docLink.innerHTML = docLinkHtml;\n",
       "          element.appendChild(docLink);\n",
       "        }\n",
       "      </script>\n",
       "    </div>\n",
       "  </div>\n",
       "  "
      ],
      "text/plain": [
       "           A   B   C     tools\n",
       "OPTITYPE   6  19   9  OPTITYPE\n",
       "PHLAT     12  13  16     PHLAT"
      ]
     },
     "execution_count": 11,
     "metadata": {},
     "output_type": "execute_result"
    }
   ],
   "source": [
    "df"
   ]
  },
  {
   "cell_type": "code",
   "execution_count": null,
   "metadata": {
    "id": "mPzWxRDDR2eD"
   },
   "outputs": [],
   "source": [
    "df2 = pd.melt(df, id_vars=\"tools\",var_name=\"Allele\",value_name=\"Count\")"
   ]
  },
  {
   "cell_type": "code",
   "execution_count": null,
   "metadata": {
    "colab": {
     "base_uri": "https://localhost:8080/",
     "height": 238
    },
    "executionInfo": {
     "elapsed": 10,
     "status": "ok",
     "timestamp": 1643530809120,
     "user": {
      "displayName": "Love to Read",
      "photoUrl": "https://lh3.googleusercontent.com/a-/AOh14GjNIQp4KE38V374dQeTM8DPVzBoHXi-TV9o4yRM=s64",
      "userId": "12546098905808482653"
     },
     "user_tz": 480
    },
    "id": "6qgG1AEfSaKd",
    "outputId": "29eaf148-5c6a-47f2-8944-dab0009dfba1"
   },
   "outputs": [
    {
     "data": {
      "text/html": [
       "\n",
       "  <div id=\"df-b818a132-fb73-4578-998f-9f2f80af58a0\">\n",
       "    <div class=\"colab-df-container\">\n",
       "      <div>\n",
       "<style scoped>\n",
       "    .dataframe tbody tr th:only-of-type {\n",
       "        vertical-align: middle;\n",
       "    }\n",
       "\n",
       "    .dataframe tbody tr th {\n",
       "        vertical-align: top;\n",
       "    }\n",
       "\n",
       "    .dataframe thead th {\n",
       "        text-align: right;\n",
       "    }\n",
       "</style>\n",
       "<table border=\"1\" class=\"dataframe\">\n",
       "  <thead>\n",
       "    <tr style=\"text-align: right;\">\n",
       "      <th></th>\n",
       "      <th>tools</th>\n",
       "      <th>Allele</th>\n",
       "      <th>Count</th>\n",
       "    </tr>\n",
       "  </thead>\n",
       "  <tbody>\n",
       "    <tr>\n",
       "      <th>0</th>\n",
       "      <td>OPTITYPE</td>\n",
       "      <td>A</td>\n",
       "      <td>6</td>\n",
       "    </tr>\n",
       "    <tr>\n",
       "      <th>1</th>\n",
       "      <td>PHLAT</td>\n",
       "      <td>A</td>\n",
       "      <td>12</td>\n",
       "    </tr>\n",
       "    <tr>\n",
       "      <th>2</th>\n",
       "      <td>OPTITYPE</td>\n",
       "      <td>B</td>\n",
       "      <td>19</td>\n",
       "    </tr>\n",
       "    <tr>\n",
       "      <th>3</th>\n",
       "      <td>PHLAT</td>\n",
       "      <td>B</td>\n",
       "      <td>13</td>\n",
       "    </tr>\n",
       "    <tr>\n",
       "      <th>4</th>\n",
       "      <td>OPTITYPE</td>\n",
       "      <td>C</td>\n",
       "      <td>9</td>\n",
       "    </tr>\n",
       "    <tr>\n",
       "      <th>5</th>\n",
       "      <td>PHLAT</td>\n",
       "      <td>C</td>\n",
       "      <td>16</td>\n",
       "    </tr>\n",
       "  </tbody>\n",
       "</table>\n",
       "</div>\n",
       "      <button class=\"colab-df-convert\" onclick=\"convertToInteractive('df-b818a132-fb73-4578-998f-9f2f80af58a0')\"\n",
       "              title=\"Convert this dataframe to an interactive table.\"\n",
       "              style=\"display:none;\">\n",
       "        \n",
       "  <svg xmlns=\"http://www.w3.org/2000/svg\" height=\"24px\"viewBox=\"0 0 24 24\"\n",
       "       width=\"24px\">\n",
       "    <path d=\"M0 0h24v24H0V0z\" fill=\"none\"/>\n",
       "    <path d=\"M18.56 5.44l.94 2.06.94-2.06 2.06-.94-2.06-.94-.94-2.06-.94 2.06-2.06.94zm-11 1L8.5 8.5l.94-2.06 2.06-.94-2.06-.94L8.5 2.5l-.94 2.06-2.06.94zm10 10l.94 2.06.94-2.06 2.06-.94-2.06-.94-.94-2.06-.94 2.06-2.06.94z\"/><path d=\"M17.41 7.96l-1.37-1.37c-.4-.4-.92-.59-1.43-.59-.52 0-1.04.2-1.43.59L10.3 9.45l-7.72 7.72c-.78.78-.78 2.05 0 2.83L4 21.41c.39.39.9.59 1.41.59.51 0 1.02-.2 1.41-.59l7.78-7.78 2.81-2.81c.8-.78.8-2.07 0-2.86zM5.41 20L4 18.59l7.72-7.72 1.47 1.35L5.41 20z\"/>\n",
       "  </svg>\n",
       "      </button>\n",
       "      \n",
       "  <style>\n",
       "    .colab-df-container {\n",
       "      display:flex;\n",
       "      flex-wrap:wrap;\n",
       "      gap: 12px;\n",
       "    }\n",
       "\n",
       "    .colab-df-convert {\n",
       "      background-color: #E8F0FE;\n",
       "      border: none;\n",
       "      border-radius: 50%;\n",
       "      cursor: pointer;\n",
       "      display: none;\n",
       "      fill: #1967D2;\n",
       "      height: 32px;\n",
       "      padding: 0 0 0 0;\n",
       "      width: 32px;\n",
       "    }\n",
       "\n",
       "    .colab-df-convert:hover {\n",
       "      background-color: #E2EBFA;\n",
       "      box-shadow: 0px 1px 2px rgba(60, 64, 67, 0.3), 0px 1px 3px 1px rgba(60, 64, 67, 0.15);\n",
       "      fill: #174EA6;\n",
       "    }\n",
       "\n",
       "    [theme=dark] .colab-df-convert {\n",
       "      background-color: #3B4455;\n",
       "      fill: #D2E3FC;\n",
       "    }\n",
       "\n",
       "    [theme=dark] .colab-df-convert:hover {\n",
       "      background-color: #434B5C;\n",
       "      box-shadow: 0px 1px 3px 1px rgba(0, 0, 0, 0.15);\n",
       "      filter: drop-shadow(0px 1px 2px rgba(0, 0, 0, 0.3));\n",
       "      fill: #FFFFFF;\n",
       "    }\n",
       "  </style>\n",
       "\n",
       "      <script>\n",
       "        const buttonEl =\n",
       "          document.querySelector('#df-b818a132-fb73-4578-998f-9f2f80af58a0 button.colab-df-convert');\n",
       "        buttonEl.style.display =\n",
       "          google.colab.kernel.accessAllowed ? 'block' : 'none';\n",
       "\n",
       "        async function convertToInteractive(key) {\n",
       "          const element = document.querySelector('#df-b818a132-fb73-4578-998f-9f2f80af58a0');\n",
       "          const dataTable =\n",
       "            await google.colab.kernel.invokeFunction('convertToInteractive',\n",
       "                                                     [key], {});\n",
       "          if (!dataTable) return;\n",
       "\n",
       "          const docLinkHtml = 'Like what you see? Visit the ' +\n",
       "            '<a target=\"_blank\" href=https://colab.research.google.com/notebooks/data_table.ipynb>data table notebook</a>'\n",
       "            + ' to learn more about interactive tables.';\n",
       "          element.innerHTML = '';\n",
       "          dataTable['output_type'] = 'display_data';\n",
       "          await google.colab.output.renderOutput(dataTable, element);\n",
       "          const docLink = document.createElement('div');\n",
       "          docLink.innerHTML = docLinkHtml;\n",
       "          element.appendChild(docLink);\n",
       "        }\n",
       "      </script>\n",
       "    </div>\n",
       "  </div>\n",
       "  "
      ],
      "text/plain": [
       "      tools Allele  Count\n",
       "0  OPTITYPE      A      6\n",
       "1     PHLAT      A     12\n",
       "2  OPTITYPE      B     19\n",
       "3     PHLAT      B     13\n",
       "4  OPTITYPE      C      9\n",
       "5     PHLAT      C     16"
      ]
     },
     "execution_count": 13,
     "metadata": {},
     "output_type": "execute_result"
    }
   ],
   "source": [
    "df2"
   ]
  },
  {
   "cell_type": "code",
   "execution_count": null,
   "metadata": {
    "colab": {
     "base_uri": "https://localhost:8080/",
     "height": 420
    },
    "executionInfo": {
     "elapsed": 1169,
     "status": "ok",
     "timestamp": 1643530811620,
     "user": {
      "displayName": "Love to Read",
      "photoUrl": "https://lh3.googleusercontent.com/a-/AOh14GjNIQp4KE38V374dQeTM8DPVzBoHXi-TV9o4yRM=s64",
      "userId": "12546098905808482653"
     },
     "user_tz": 480
    },
    "id": "ZCHBQ6L4PYYJ",
    "outputId": "0a0c6177-e5d7-4400-da6a-c74172761dd2"
   },
   "outputs": [
    {
     "name": "stderr",
     "output_type": "stream",
     "text": [
      "/usr/local/lib/python3.7/dist-packages/seaborn/categorical.py:3717: UserWarning: The `factorplot` function has been renamed to `catplot`. The original name will be removed in a future release. Please update your code. Note that the default `kind` in `factorplot` (`'point'`) has changed `'strip'` in `catplot`.\n",
      "  warnings.warn(msg)\n"
     ]
    },
    {
     "data": {
      "image/png": "[encoded data removed]",
      "text/plain": [
       "<Figure size 407.225x360 with 1 Axes>"
      ]
     },
     "metadata": {},
     "output_type": "display_data"
    }
   ],
   "source": [
    "\n",
    "import seaborn as sns\n",
    "sns.set_theme(style=\"whitegrid\")\n",
    "ax = sns.factorplot(x='tools',y='Count',hue='Allele',data=df2,kind='bar')"
   ]
  },
  {
   "cell_type": "code",
   "execution_count": null,
   "metadata": {
    "colab": {
     "base_uri": "https://localhost:8080/",
     "height": 1000
    },
    "executionInfo": {
     "elapsed": 1439,
     "status": "ok",
     "timestamp": 1643539700308,
     "user": {
      "displayName": "Love to Read",
      "photoUrl": "https://lh3.googleusercontent.com/a-/AOh14GjNIQp4KE38V374dQeTM8DPVzBoHXi-TV9o4yRM=s64",
      "userId": "12546098905808482653"
     },
     "user_tz": 480
    },
    "id": "yzsm7ie2FXsQ",
    "outputId": "e6a8e771-eb17-419a-fe91-4171b2e9f872"
   },
   "outputs": [
    {
     "name": "stdout",
     "output_type": "stream",
     "text": [
      "         Run_x      A Run_y HLA_A_Allele1\n",
      "134  ERR009130  A2301   NaN           NaN\n",
      "221  ERR009147  A68XX   NaN           NaN\n",
      "         Run_x    A.1 Run_y HLA_A_Allele2\n",
      "235  ERR009129  A3101   NaN           NaN\n",
      "365  ERR009146  A3002   NaN           NaN\n",
      "410  ERR009154  A6801   NaN           NaN\n",
      "538  ERR009168  A3201   NaN           NaN\n",
      "['A2301', 'A68XX', 'A3101', 'A3002', 'A6801', 'A3201']\n",
      "['B4901', 'B3503', 'B1402', 'B0801', 'B0801', 'B2705', 'B0801', 'B1501', 'B1501', 'B0801', 'B5101', 'B5101', 'B1501', 'B55XX', 'B5501', 'B2705', 'B3801', 'B0801', 'B0801']\n",
      "['C0304', 'C1601', 'C0304', 'C0303', 'C0305', 'C0304', 'C0704', 'C0704', 'C0704']\n",
      "         Run_x      A Run_y HLA_A_Allele1\n",
      "16   ERR009097  A2501   NaN           NaN\n",
      "33   ERR009103  A2902   NaN           NaN\n",
      "71   ERR009107  A2501   NaN           NaN\n",
      "88   ERR009109  A3201   NaN           NaN\n",
      "110  ERR009114  A2902   NaN           NaN\n",
      "213  ERR009123  A2501   NaN           NaN\n",
      "231  ERR009130  A2301   NaN           NaN\n",
      "278  ERR009137  A3101   NaN           NaN\n",
      "336  ERR009144  A3201   NaN           NaN\n",
      "359  ERR009147  A68XX   NaN           NaN\n",
      "432  ERR009155  A2902   NaN           NaN\n",
      "         Run_x    A.1 Run_y HLA_A_Allele2\n",
      "292  ERR009146  A3002   NaN           NaN\n",
      "['A2501', 'A2902', 'A2501', 'A3201', 'A2902', 'A2501', 'A2301', 'A3101', 'A3201', 'A68XX', 'A2902', 'A3002']\n",
      "['B5701', 'B3906', 'B4901', 'B4001', 'B3503', 'B5101', 'B5101', 'B5101', 'B3906', 'B5001', 'B1401', 'B55XX', 'B5501']\n",
      "['C1601', 'C1203', 'C1402', 'C1502', 'C1502', 'C1502', 'C0305', 'C1402', 'C1601', 'C0304', 'C0303', 'C0304', 'C0606', 'C1601', 'C0303', 'C0102']\n",
      "['A2301', 'A2501', 'A2902', 'A3002', 'A3101', 'A3201', 'A6801', 'A68XX', 'B0801', 'B1401', 'B1402', 'B1501', 'B2705', 'B3503', 'B3801', 'B3906', 'B4001', 'B4901', 'B5001', 'B5101', 'B5501', 'B55XX', 'B5701', 'C0102', 'C0303', 'C0304', 'C0305', 'C0606', 'C0704', 'C1203', 'C1402', 'C1502', 'C1601'] =================================================================\n",
      "{'OPTITYPE': [['A2301', 'A68XX', 'A3101', 'A3002', 'A6801', 'A3201', 'B4901', 'B3503', 'B1402', 'B0801', 'B2705', 'B1501', 'B5101', 'B55XX', 'B5501', 'B3801', 'C0304', 'C1601', 'C0303', 'C0305', 'C0704'], [1, 1, 1, 1, 1, 1, 1, 1, 1, 6, 2, 3, 2, 1, 1, 1, 3, 1, 1, 1, 3]], 'PHLAT': [['A2501', 'A2902', 'A3201', 'A2301', 'A3101', 'A68XX', 'A3002', 'B5701', 'B3906', 'B4901', 'B4001', 'B3503', 'B5101', 'B5001', 'B1401', 'B55XX', 'B5501', 'C1601', 'C1203', 'C1402', 'C1502', 'C0305', 'C0304', 'C0303', 'C0606', 'C0102'], [3, 3, 2, 1, 1, 1, 1, 1, 2, 1, 1, 1, 3, 1, 1, 1, 1, 3, 1, 2, 3, 1, 2, 2, 1, 1]]}\n",
      "21\n",
      "OPTITYPE\n",
      "[1, 0, 0, 1, 1, 1, 1, 1, 6, 0, 1, 3, 2, 1, 1, 0, 0, 1, 0, 2, 1, 1, 0, 0, 1, 3, 1, 0, 3, 0, 0, 0, 1] [[[[[[[[\n",
      " {'A2301': 1, 'A68XX': 1, 'A3101': 1, 'A3002': 1, 'A6801': 1, 'A3201': 1, 'B4901': 1, 'B3503': 1, 'B1402': 1, 'B0801': 6, 'B2705': 2, 'B1501': 3, 'B5101': 2, 'B55XX': 1, 'B5501': 1, 'B3801': 1, 'C0304': 3, 'C1601': 1, 'C0303': 1, 'C0305': 1, 'C0704': 3}\n",
      "26\n",
      "PHLAT\n",
      "[1, 3, 3, 1, 1, 2, 0, 1, 0, 1, 0, 0, 0, 1, 0, 2, 1, 1, 1, 3, 1, 1, 1, 1, 2, 2, 1, 1, 0, 1, 2, 3, 3] [[[[[[[[\n",
      " {'A2501': 3, 'A2902': 3, 'A3201': 2, 'A2301': 1, 'A3101': 1, 'A68XX': 1, 'A3002': 1, 'B5701': 1, 'B3906': 2, 'B4901': 1, 'B4001': 1, 'B3503': 1, 'B5101': 3, 'B5001': 1, 'B1401': 1, 'B55XX': 1, 'B5501': 1, 'C1601': 3, 'C1203': 1, 'C1402': 2, 'C1502': 3, 'C0305': 1, 'C0304': 2, 'C0303': 2, 'C0606': 1, 'C0102': 1}\n",
      "[1, 3, 3, 1, 1, 2, 0, 1, 0, 1, 0, 0, 0, 1, 0, 2, 1, 1, 1, 3, 1, 1, 1, 1, 2, 2, 1, 1, 0, 1, 2, 3, 3] ['A2301', 'A2501', 'A2902', 'A3002', 'A3101', 'A3201', 'A6801', 'A68XX', 'B0801', 'B1401', 'B1402', 'B1501', 'B2705', 'B3503', 'B3801', 'B3906', 'B4001', 'B4901', 'B5001', 'B5101', 'B5501', 'B55XX', 'B5701', 'C0102', 'C0303', 'C0304', 'C0305', 'C0606', 'C0704', 'C1203', 'C1402', 'C1502', 'C1601']\n",
      "dict_keys(['OPTITYPE', 'PHLAT'])\n"
     ]
    },
    {
     "data": {
      "image/png": "[encoded data removed]",
      "text/plain": [
       "<Figure size 432x288 with 1 Axes>"
      ]
     },
     "metadata": {},
     "output_type": "display_data"
    },
    {
     "name": "stdout",
     "output_type": "stream",
     "text": [
      "[] \n",
      " [] \n",
      " []\n"
     ]
    },
    {
     "data": {
      "application/vnd.google.colaboratory.intrinsic+json": {
       "type": "string"
      },
      "text/plain": [
       "\"\\ndataframe2 = pd.DataFrame(columns=['tools','allels','counts'])\\ndataframe2['tools']=tool_names_list\\ndataframe2['allels']=allels_list\\ndataframe2['counts']=counts_list\\ndataframe2\\n\""
      ]
     },
     "execution_count": 61,
     "metadata": {},
     "output_type": "execute_result"
    }
   ],
   "source": [
    "# MAIN - misreds by allele graph\n",
    "misreadsbyallele_dict = dict()\n",
    "\n",
    "for key,value in tool_names_and_loc.items():\n",
    "  \n",
    "  dataset1 = pd.read_csv(value)\n",
    "  datasets_cleaned=cleaning_data(dataset1, gold_standard_dataset1)\n",
    "  dataset1=datasets_cleaned[0]\n",
    "  #gold_standard_dataset1=datasets_cleaned[1]\n",
    "  #alltools.append(key)\n",
    "  \n",
    "\n",
    "  misreadsbyallele_dict[key] = misreadsbyallele(dataset1, gold_standard_dataset1, key)\n",
    "\n",
    "#make a list with unique allels\n",
    "#check if allele is in allele list for each tool and if so append count into a seperate list else append 0\n",
    "#make each list wihtin counter into a bar graph using for loop\n",
    "#x values are unique allels\n",
    "#show plot\n",
    "'''\n",
    "tool_names_list, allels_list1, unique_allels_list, counts_list1 = list(),list(),list(),list()\n",
    "mappings, allels_list2 = dict(),dict()\n",
    "#misread_allele_plot(misreadsbyallele_dict)\n",
    "for key, value in misreadsbyallele_dict.items():\n",
    "  for i in range(len(value)):\n",
    "    for key2, value2 in value[i].items():\n",
    "      allels_list1.append(key2)\n",
    "      counts_list1.append(value2)\n",
    "      allels_list2[key2] = (value2)\n",
    "      tool_names_list.append(key)\n",
    "  mappings[key]=[allels_list2]\n",
    "  allels_list2=dict()\n",
    "#https://www.geeksforgeeks.org/python-get-unique-values-list/\n",
    "temporary_set = list(set(allels_list1))\n",
    "\n",
    "count=0\n",
    "lis = mappings.items()[0].keys()\n",
    "for haplo in temporary_set:\n",
    "  for key in mappings.keys():\n",
    "    for value in mappings.values():\n",
    "      if haplo not in list(value[0].keys()):\n",
    "        value[0][haplo] = 0\n",
    "    mappings[key]=value[0].keys()\n",
    "\n",
    "print(mappings,'===========')\n",
    "    #if haplo not in value[0].keys():\n",
    "      ##value[0][haplo]=0\n",
    "  #print(key)\n",
    "    #value2 = dict(sorted(value[0].items()))\n",
    "      #value[0][haplo]=0\n",
    "    #else:\n",
    "  #mappings[key] = dict(sorted(value[0].items()))\n",
    "#print(value3,\"=====================================\")\n",
    "\n",
    "#print(mappings)\n",
    "'''\n",
    "'''\n",
    "    if haplo not in value[0]:\n",
    "      value[0].append(haplo)\n",
    "      value[1].append(int(0))\n",
    "    mappings[key]=value\n",
    "\n",
    "print(mappings)\n",
    "'''\n",
    "\n",
    "\n",
    "mappings=dict()\n",
    "tool_names_list, allels_list1, allels_list2, unique_allels_list, counts_list1 = list(),list(),list(),list(), list()\n",
    "#misread_allele_plot(misreadsbyallele_dict)\n",
    "for key, value in misreadsbyallele_dict.items():\n",
    "  for i in range(len(value)):\n",
    "    for key2, value2 in value[i].items():\n",
    "      allels_list1.append(key2)\n",
    "      allels_list2.append(key2)\n",
    "      counts_list1.append(value2)\n",
    "  mappings[key]=[allels_list1, counts_list1]\n",
    "  allels_list1=list()\n",
    "  counts_list1=list()\n",
    "temporary_set = sorted(list(set(allels_list2)))\n",
    "print(temporary_set,'=================================================================')\n",
    "\n",
    "#for key in mappings.keys():\n",
    "\n",
    "print(mappings)\n",
    "fig, ax = plt.subplots()\n",
    "cont = list()\n",
    "for keys, values in mappings.items():\n",
    "  labels=mappings[keys][0]\n",
    "  counts=mappings[keys][1]\n",
    "  print(len(counts))\n",
    "  print(keys)\n",
    "  #Justin's code\n",
    "  lookup = {k: v for (k, v) in zip(labels, counts)}\n",
    "  bottom = [lookup.get(x, 0) for x in temporary_set]\n",
    "  cont.append(bottom)\n",
    "  print(bottom,'[[[[[[[[\\n',lookup)\n",
    "  if len(cont) > 1:\n",
    "    print(bottom, temporary_set)\n",
    "    ax.bar(temporary_set, bottom, 1, bottom=cont[-2], label=keys)\n",
    "  elif len(cont) == 1:\n",
    "    ax.bar(temporary_set, bottom, 1, label=keys)\n",
    "print(mappings.keys())\n",
    "\n",
    "ax.set_ylabel('mismatches')\n",
    "ax.set_title('Mismatched allels by tool')\n",
    "ax.legend()\n",
    "plt.xticks(rotation='vertical')\n",
    "\n",
    "plt.show()\n",
    "\n",
    "\n",
    "'''\n",
    "\n",
    "fig, ax = plt.subplots()\n",
    "\n",
    "labels=mappings['OPTITYPE'][0]\n",
    "counts=mappings['OPTITYPE'][1]\n",
    "labels_2=mappings['PHLAT'][0]\n",
    "counts2=mappings['PHLAT'][1]\n",
    "ax.bar(labels, counts, 1, label='opt')\n",
    "bottom = list()\n",
    "'''\n",
    "if len(counts) > len(counts2):\n",
    "  bottom = counts[:len(counts2)]\n",
    "else:\n",
    "  bottom = counts + [0]*(len(counts2)-len(counts))\n",
    "'''\n",
    "#Justin's code\n",
    "lookup = {k: v for (k, v) in zip(labels, counts)}\n",
    "bottom = [lookup.get(x, 0) for x in labels_2]\n",
    "print(bottom, counts,'***********************************************************************')\n",
    "#myList = (self.myList + [0] * 4)[:4]\n",
    "\n",
    "ax.bar(labels_2, counts2, 1, bottom=bottom, label='phlat')\n",
    "\n",
    "ax.set_ylabel('Allele')\n",
    "ax.set_title('Mismatched allels by tool')\n",
    "ax.legend()\n",
    "plt.xticks(rotation='vertical')\n",
    "\n",
    "plt.show()\n",
    "'''\n",
    "\n",
    "'''\n",
    "      tool_names_list.append(key)\n",
    "      allels_list.append(key2)\n",
    "      counts_list.append(value2)\n",
    "unique_allels_list = list(set(allels_list))\n",
    "tool_hold = tool_names_list[0]\n",
    "'''\n",
    "\n",
    "  \n",
    "\n",
    "\n",
    "      \n",
    "print(allels_list,'\\n', tool_names_list,'\\n',counts_list)\n",
    "#STUCK BUT WORKING ON IT\n",
    "'''\n",
    "#https://www.geeksforgeeks.org/python-ways-to-remove-duplicates-from-list/\n",
    "counter = 0\n",
    "list_final_count_for_each_tool = list()\n",
    "unique_allels_list = [i for n, i in enumerate(allels_list) if i not in allels_list[:n]]\n",
    "for key, value in misreadsbyallele_dict.items():\n",
    "  for i in range(len(value)):\n",
    "    for key2, value2 in value[i].items():\n",
    "      if key2 not in unique_allels_list:\n",
    "        counts_list.append(0)\n",
    "      else:\n",
    "        counts_list.append(int(value2))\n",
    "      tool_names_list.append(key)\n",
    "    list_final_count_for_each_tool.append(counts_list)\n",
    "'''\n",
    "'''\n",
    "  #https://www.geeksforgeeks.org/create-a-stacked-bar-plot-in-matplotlib/\n",
    "  if counter == 0:\n",
    "    plt.bar(unique_allels_list, list_final_count_for_each_tool[counter])\n",
    "    holding_for_bottom = list_final_count_for_each_tool[counter]\n",
    "  else:\n",
    "    holding_for_bottom = holding_for_bottom + list_final_count_for_each_tool[counter]\n",
    "    plt.bar(unique_allels_list, list_final_count_for_each_tool[counter], bottom=holding_for_bottom)\n",
    "  counter = counter + 1\n",
    "\n",
    "plt.xlabel(\"allels\")\n",
    "plt.ylabel(\"misread\")\n",
    "plt.legend(alltools)\n",
    "plt.title(\"misread_allels\")\n",
    "plt.show()\n",
    "'''\n",
    "\n",
    "#print(unique_allels_list, list_final_count_for_each_tool)\n",
    "'''\n",
    "index_lists = list()\n",
    "for i in range(1,len(alltools)):\n",
    "  #https://www.programiz.com/python-programming/methods/list/index\n",
    "  #https://www.w3schools.com/python/ref_func_range.asp\n",
    "  index=tool_names_list.index(alltools[i])\n",
    "  index_lists.append(index)\n",
    "print(index_lists, tool_names_list, alltools)\n",
    "'''\n",
    "\n",
    "'''\n",
    "dataframe2 = pd.DataFrame(columns=['tools','allels','counts'])\n",
    "dataframe2['tools']=tool_names_list\n",
    "dataframe2['allels']=allels_list\n",
    "dataframe2['counts']=counts_list\n",
    "dataframe2\n",
    "'''"
   ]
  },
  {
   "cell_type": "markdown",
   "metadata": {
    "id": "EZGr0O1TOe7Z"
   },
   "source": []
  },
  {
   "cell_type": "code",
   "execution_count": null,
   "metadata": {
    "colab": {
     "base_uri": "https://localhost:8080/",
     "height": 285
    },
    "executionInfo": {
     "elapsed": 1050,
     "status": "ok",
     "timestamp": 1642646348822,
     "user": {
      "displayName": "Love to Read",
      "photoUrl": "https://lh3.googleusercontent.com/a-/AOh14GjNIQp4KE38V374dQeTM8DPVzBoHXi-TV9o4yRM=s64",
      "userId": "12546098905808482653"
     },
     "user_tz": 480
    },
    "id": "jNKNJGTqU4Hd",
    "outputId": "be639a72-94a2-4e20-c3af-3051cf21e0a2"
   },
   "outputs": [
    {
     "data": {
      "image/png": "[encoded data removed]",
      "text/plain": [
       "<Figure size 432x288 with 1 Axes>"
      ]
     },
     "metadata": {},
     "output_type": "display_data"
    }
   ],
   "source": [
    "dataframe2\n",
    "import seaborn as sns\n",
    "sns.set_theme(style=\"whitegrid\")\n",
    "ax=sns.barplot(x=\"allels\",y=\"counts\",data=dataframe2,hue=\"tools\")"
   ]
  },
  {
   "cell_type": "code",
   "execution_count": null,
   "metadata": {
    "id": "5KCUXDQUWuUi"
   },
   "outputs": [],
   "source": []
  }
 ],
 "metadata": {
  "colab": {
   "collapsed_sections": [],
   "name": "misreads.ipynb",
   "provenance": []
  },
  "kernelspec": {
   "display_name": "Python 3 (ipykernel)",
   "language": "python",
   "name": "python3"
  },
  "language_info": {
   "codemirror_mode": {
    "name": "ipython",
    "version": 3
   },
   "file_extension": ".py",
   "mimetype": "text/x-python",
   "name": "python",
   "nbconvert_exporter": "python",
   "pygments_lexer": "ipython3",
   "version": "3.9.12"
  }
 },
 "nbformat": 4,
 "nbformat_minor": 1
}
